{
 "cells": [
  {
   "cell_type": "code",
   "execution_count": null,
   "id": "14b9c191",
   "metadata": {},
   "outputs": [],
   "source": [
    "# import praw\n",
    "# import pandas as pd\n",
    "# import time\n",
    "# reddit = praw.Reddit(client_id='FPPSnsUDHnlYYQv2AxR82Q',client_secret='EoUTTbJI3sIcW_yBr0KipdDHEdOxpQ',\n",
    "# user_agent='your_user_agent')# Topic to search\n",
    "\n",
    "# topic = 'menopause' # Subreddit to search\n",
    "\n",
    "\n",
    "# arr1 = []\n",
    "# arr2 = []\n",
    "\n",
    "# itr = 1\n",
    "# subreddit = reddit.subreddit(topic)  # Get the top 100 posts in the last month for the given topic\n",
    "# posts = subreddit.search(topic, time_filter='month', limit=2) # Extract the content of each post\n",
    "# for post in posts:\n",
    "# #     time.sleep(2)\n",
    "#     arr1.append([post.title, post.score, post.id, post.url, post.num_comments,post.permalink ,post.selftext, post.upvote_ratio,post.created])\n",
    "#     post.comments.replace_more(limit=0)\n",
    "#     for comment in post.comments.list():\n",
    "#         arr2.append([post.id,comment.body])\n",
    "# #             print(comment.body)\n",
    "# #             a.append(comment.body)\n",
    "#     print(itr)\n",
    "#     itr = itr + 1\n",
    "# arr1 = pd.DataFrame(arr1,columns=['title', 'score', 'id', 'url', 'num_comments','permalink', 'body', 'upvote_ratio' , 'created'])\n",
    "# arr2 = pd.DataFrame(arr2,columns=['id','comment'])\n",
    "    \n",
    "    "
   ]
  },
  {
   "cell_type": "code",
   "execution_count": null,
   "id": "39561f2a",
   "metadata": {},
   "outputs": [],
   "source": [
    "# arr1.to_csv('a.csv',index=False)"
   ]
  },
  {
   "cell_type": "code",
   "execution_count": null,
   "id": "93a0a106",
   "metadata": {},
   "outputs": [],
   "source": [
    "# arr2.to_csv('b.csv',index=False)"
   ]
  },
  {
   "cell_type": "code",
   "execution_count": 41,
   "id": "dfb86ab5",
   "metadata": {},
   "outputs": [
    {
     "name": "stderr",
     "output_type": "stream",
     "text": [
      "[nltk_data] Downloading package stopwords to\n",
      "[nltk_data]     /Users/ilovemarijuana/nltk_data...\n",
      "[nltk_data]   Package stopwords is already up-to-date!\n",
      "[nltk_data] Downloading package wordnet to\n",
      "[nltk_data]     /Users/ilovemarijuana/nltk_data...\n",
      "[nltk_data]   Package wordnet is already up-to-date!\n",
      "[nltk_data] Downloading package vader_lexicon to\n",
      "[nltk_data]     /Users/ilovemarijuana/nltk_data...\n",
      "[nltk_data]   Package vader_lexicon is already up-to-date!\n",
      "[nltk_data] Downloading package punkt to\n",
      "[nltk_data]     /Users/ilovemarijuana/nltk_data...\n",
      "[nltk_data]   Package punkt is already up-to-date!\n"
     ]
    },
    {
     "data": {
      "text/plain": [
       "True"
      ]
     },
     "execution_count": 41,
     "metadata": {},
     "output_type": "execute_result"
    }
   ],
   "source": [
    "import pandas as pd\n",
    "import nltk\n",
    "from nltk.stem import WordNetLemmatizer\n",
    "from nltk.tokenize import word_tokenize\n",
    "import numpy as np\n",
    "from tqdm import tqdm\n",
    "from emot.emo_unicode import UNICODE_EMOJI, UNICODE_EMOJI_ALIAS, EMOTICONS_EMO\n",
    "from bs4 import BeautifulSoup\n",
    "from flashtext import KeywordProcessor\n",
    "from nltk.corpus import stopwords\n",
    "from sklearn.feature_extraction.text import CountVectorizer, TfidfVectorizer\n",
    "import re\n",
    "from sklearn.cluster import KMeans\n",
    "from sklearn.metrics import silhouette_score\n",
    "nltk.download('stopwords')\n",
    "nltk.download('wordnet')\n",
    "nltk.download('vader_lexicon')\n",
    "nltk.download('punkt')"
   ]
  },
  {
   "cell_type": "code",
   "execution_count": 2,
   "id": "591ddee9",
   "metadata": {},
   "outputs": [],
   "source": [
    "df = pd.read_csv('comments.csv')"
   ]
  },
  {
   "cell_type": "code",
   "execution_count": 3,
   "id": "fe829074",
   "metadata": {},
   "outputs": [
    {
     "data": {
      "text/html": [
       "<div>\n",
       "<style scoped>\n",
       "    .dataframe tbody tr th:only-of-type {\n",
       "        vertical-align: middle;\n",
       "    }\n",
       "\n",
       "    .dataframe tbody tr th {\n",
       "        vertical-align: top;\n",
       "    }\n",
       "\n",
       "    .dataframe thead th {\n",
       "        text-align: right;\n",
       "    }\n",
       "</style>\n",
       "<table border=\"1\" class=\"dataframe\">\n",
       "  <thead>\n",
       "    <tr style=\"text-align: right;\">\n",
       "      <th></th>\n",
       "      <th>id</th>\n",
       "      <th>comment</th>\n",
       "    </tr>\n",
       "  </thead>\n",
       "  <tbody>\n",
       "    <tr>\n",
       "      <th>0</th>\n",
       "      <td>10tl0s7</td>\n",
       "      <td>So I'm in Peri, but so far I've noticed things...</td>\n",
       "    </tr>\n",
       "    <tr>\n",
       "      <th>1</th>\n",
       "      <td>10tl0s7</td>\n",
       "      <td>Just letting my hair go grey. I used to be a g...</td>\n",
       "    </tr>\n",
       "    <tr>\n",
       "      <th>2</th>\n",
       "      <td>10tl0s7</td>\n",
       "      <td>My SO and I started going to raves about 4 yea...</td>\n",
       "    </tr>\n",
       "    <tr>\n",
       "      <th>3</th>\n",
       "      <td>10tl0s7</td>\n",
       "      <td>Love those shoes!  When I turned 50 I gifted m...</td>\n",
       "    </tr>\n",
       "    <tr>\n",
       "      <th>4</th>\n",
       "      <td>10tl0s7</td>\n",
       "      <td>I’ve stopped carrying a purse. Which means I c...</td>\n",
       "    </tr>\n",
       "    <tr>\n",
       "      <th>...</th>\n",
       "      <td>...</td>\n",
       "      <td>...</td>\n",
       "    </tr>\n",
       "    <tr>\n",
       "      <th>9056</th>\n",
       "      <td>10shrwt</td>\n",
       "      <td>My doc increased my progesterone this week, so...</td>\n",
       "    </tr>\n",
       "    <tr>\n",
       "      <th>9057</th>\n",
       "      <td>10shrwt</td>\n",
       "      <td>Yes, I am and that includes 200 mg of progeste...</td>\n",
       "    </tr>\n",
       "    <tr>\n",
       "      <th>9058</th>\n",
       "      <td>10shrwt</td>\n",
       "      <td>Yeah, I had mine increased to 200 / night - ze...</td>\n",
       "    </tr>\n",
       "    <tr>\n",
       "      <th>9059</th>\n",
       "      <td>10shrwt</td>\n",
       "      <td>Shoot, I was afraid you were going to say that...</td>\n",
       "    </tr>\n",
       "    <tr>\n",
       "      <th>9060</th>\n",
       "      <td>10shrwt</td>\n",
       "      <td>Well, poop.</td>\n",
       "    </tr>\n",
       "  </tbody>\n",
       "</table>\n",
       "<p>9061 rows × 2 columns</p>\n",
       "</div>"
      ],
      "text/plain": [
       "           id                                            comment\n",
       "0     10tl0s7  So I'm in Peri, but so far I've noticed things...\n",
       "1     10tl0s7  Just letting my hair go grey. I used to be a g...\n",
       "2     10tl0s7  My SO and I started going to raves about 4 yea...\n",
       "3     10tl0s7  Love those shoes!  When I turned 50 I gifted m...\n",
       "4     10tl0s7  I’ve stopped carrying a purse. Which means I c...\n",
       "...       ...                                                ...\n",
       "9056  10shrwt  My doc increased my progesterone this week, so...\n",
       "9057  10shrwt  Yes, I am and that includes 200 mg of progeste...\n",
       "9058  10shrwt  Yeah, I had mine increased to 200 / night - ze...\n",
       "9059  10shrwt  Shoot, I was afraid you were going to say that...\n",
       "9060  10shrwt                                        Well, poop.\n",
       "\n",
       "[9061 rows x 2 columns]"
      ]
     },
     "execution_count": 3,
     "metadata": {},
     "output_type": "execute_result"
    }
   ],
   "source": [
    "df"
   ]
  },
  {
   "cell_type": "code",
   "execution_count": 4,
   "id": "b07382a5",
   "metadata": {},
   "outputs": [],
   "source": [
    "# Code for removing emojis: \n",
    "# I am commenting it out because whole process takes huge time.\n",
    "all_reviews_without_emot = []\n",
    "\n",
    "def cleaning_emot(review,i):\n",
    "    all_emoji_emoticons = {**EMOTICONS_EMO,**UNICODE_EMOJI_ALIAS, **UNICODE_EMOJI_ALIAS}\n",
    "    all_emoji_emoticons = {k:v.replace(\":\",\"\").replace(\"_\",\" \").strip() for k,v in all_emoji_emoticons.items()}\n",
    "    letters = BeautifulSoup(review).get_text()\n",
    "    kp_all_emoji_emoticons = KeywordProcessor()\n",
    "    for k,v in all_emoji_emoticons.items():\n",
    "        kp_all_emoji_emoticons.add_keyword(k, v)\n",
    "    try:\n",
    "        extracted_emoji_text = kp_all_emoji_emoticons.replace_keywords(review)\n",
    "        all_reviews_without_emot.append(extracted_emoji_text)\n",
    "    except:\n",
    "        all_reviews_without_emot.append(letters)"
   ]
  },
  {
   "cell_type": "code",
   "execution_count": 5,
   "id": "13c1c07c",
   "metadata": {},
   "outputs": [
    {
     "name": "stderr",
     "output_type": "stream",
     "text": [
      "  0%|                                        | 15/9061 [00:00<01:01, 147.95it/s]/opt/anaconda3/envs/ta/lib/python3.10/site-packages/bs4/__init__.py:435: MarkupResemblesLocatorWarning: The input looks more like a filename than markup. You may want to open this file and pass the filehandle into Beautiful Soup.\n",
      "  warnings.warn(\n",
      " 10%|███▉                                   | 924/9061 [00:06<00:57, 140.82it/s]/opt/anaconda3/envs/ta/lib/python3.10/site-packages/bs4/__init__.py:404: MarkupResemblesLocatorWarning: The input looks more like a URL than markup. You may want to use an HTTP client like requests to get the document behind the URL, and feed that document to Beautiful Soup.\n",
      "  warnings.warn(\n",
      "100%|██████████████████████████████████████| 9061/9061 [01:00<00:00, 148.75it/s]\n"
     ]
    }
   ],
   "source": [
    "i = 0\n",
    "for review in tqdm(df['comment']):\n",
    "    temp = cleaning_emot(review,i)"
   ]
  },
  {
   "cell_type": "code",
   "execution_count": 6,
   "id": "c7ff4faa",
   "metadata": {},
   "outputs": [],
   "source": [
    "stop_words = set(stopwords.words('english'))\n",
    "def clean(review):\n",
    "    letters_only = BeautifulSoup(review).get_text()\n",
    "    letters_only = re.sub('[^a-zA-Z]', ' ', letters_only)\n",
    "    letters_only = letters_only.lower()\n",
    "    words = letters_only.split()\n",
    "    words = [w for w in words if w not in stop_words]\n",
    "    return \" \".join(words)"
   ]
  },
  {
   "cell_type": "code",
   "execution_count": 7,
   "id": "77ab129e",
   "metadata": {},
   "outputs": [
    {
     "name": "stderr",
     "output_type": "stream",
     "text": [
      "100%|█████████████████████████████████████| 9061/9061 [00:01<00:00, 5213.02it/s]\n"
     ]
    }
   ],
   "source": [
    "all_reviews = []\n",
    "for review in tqdm(all_reviews_without_emot):\n",
    "    all_reviews.append(clean(review))"
   ]
  },
  {
   "cell_type": "code",
   "execution_count": 11,
   "id": "7ab6c39d",
   "metadata": {},
   "outputs": [
    {
     "data": {
      "text/plain": [
       "'started going raves years ago often oldest among oldest attendance previously would self conscious public stand care anymore blast'"
      ]
     },
     "execution_count": 11,
     "metadata": {},
     "output_type": "execute_result"
    }
   ],
   "source": [
    "all_reviews[2]"
   ]
  },
  {
   "cell_type": "code",
   "execution_count": 17,
   "id": "a6e2f0bb",
   "metadata": {},
   "outputs": [],
   "source": [
    "lem = WordNetLemmatizer()\n",
    "final_reviews = []\n",
    "def Lemmatizer(review):\n",
    "    lem_words = []\n",
    "    tokenized_review = nltk.word_tokenize(review)\n",
    "    for word in tokenized_review:\n",
    "        lem_words.append(lem.lemmatize(word))\n",
    "    return \" \".join(lem_words)"
   ]
  },
  {
   "cell_type": "code",
   "execution_count": 18,
   "id": "4c77d217",
   "metadata": {},
   "outputs": [
    {
     "name": "stderr",
     "output_type": "stream",
     "text": [
      "100%|█████████████████████████████████████| 9061/9061 [00:02<00:00, 3023.15it/s]\n"
     ]
    }
   ],
   "source": [
    "final_reviews = []\n",
    "for review in tqdm(all_reviews):\n",
    "    final_reviews.append(Lemmatizer(review))"
   ]
  },
  {
   "cell_type": "code",
   "execution_count": 19,
   "id": "9bdb7fdc",
   "metadata": {},
   "outputs": [
    {
     "data": {
      "text/plain": [
       "['peri far noticed thing bother much like idgaf finally hated little thing eating inside telling honestly honey real good move btw love kick si rock em',\n",
       " 'letting hair go grey used goth make beautiful clothes boot old lady ripe old age rock night gig care want quiet life biggest ambition getting good night sleep without tossing turning night',\n",
       " 'started going raf year ago often oldest among oldest attendance previously would self conscious public stand care anymore blast',\n",
       " 'love shoe turned gifted first tattoo used think never want permanent art recently got new ear piercings reaching age want going pretty awesome',\n",
       " 'stopped carrying purse mean can not wear anything pocket small tiny wallet like three card includes id use one rfid blocking sleeve key phone one ever ask carry something bwahahaha also freedom knowing never lose purse nice found without purse stride purposeful sure really like combined murder face people scurry way',\n",
       " 'loving every inch forgiving younger thought best time judging woman le team',\n",
       " 'love shoe biggest change cut hair going back dying blue experimenting green undertone blue think like purplish undertone blue find soon getting point want change blue',\n",
       " 'field fuck give entirely bare point dress way like',\n",
       " 'love also see folk bucking norm make point letting know admire need acknowledge',\n",
       " 'gorgeous',\n",
       " 'posted adopted mantra judge confronted shoulds t go hear oh wear short certain age immediately think judge woman mature wear hair shorter smile say judge sentiment zero f give really like vibe saying thinking mantra happy confident delivery others said freeing consider best authority priceless',\n",
       " 'beautiful shoe changed wearing red polish bright color right hot pink removing luminous green nail care something small feel empowering',\n",
       " 'glitter treated practical pretty black sneaker crazy fashionable type sneaker cat flower wear often comfortable love love u dressing want world like cool essential sunglass',\n",
       " 'quit coloring hair get compliment natural gray hair ever colored often get asked color answer mother nature',\n",
       " 'think finally le hesitant speak something bother always really meek people pleaser mean anxious miserable entire life love shoe',\n",
       " 'glad finally learning feel body see effect people pleasing starting learn take care hard find emotional balance instance say enough trying happy letting people like learning invest',\n",
       " 'tl dr give shit anything right delightful favorite change ran fuck give legitimately zero fuck give anything right like bright hell red lipstick long middle aged lady hair big tit refuse hide painter smock heavy turtleneck sweater minimizer bra zero given staff meeting interrupt aghast interrupt right back swift done yet thank continue speaking right zero given demand something say waitaminute work feefees bruised zero given drop something toe yelp motherfucker cuss think laydeez speak way zero given upend world man know girl keep mouth shut men speaking talking upsetting believe world work zero given clearly middle aged woman driving barky loud hell muscle car make peepee feel small zero given tell mansplain something asked help like term zero given one annoys shit seek assistance fucking argue trying know assist like asked came bruh piss road problem since ego handle lady knowing something fucking swear god audacity woman existing world thinking ornamental pretty smiley swinging dick stroll zero given zero given pretty much motto day well actually morior invictus digress also made major major change relationship husband past tense important reactionary dude could pretty jerky walked eggshell fear mood violent could mean dismissive argumentative rude hurtful treatment sahm long time said eh fuck got job skyrocketed rank title salary make enough support kid sat as told considering leaving as absolutely free continue way behaving worked decade longer working chose continue behave fashion packing shit minor kid adult kid could come bolting door live life without bullshit chose wisely thanksgiving made real measurable change attitude behavior treatment would done ten year ago menopause cut shackle worried making everyone else happy protip old broad liberated world making happy first year life definitely intend spend rest life edit misspelled word',\n",
       " 'love got shoe black hoping would brighten perimenopause swamp witch aura work',\n",
       " 'oooh bought similar shoe turned lost st weight charge shoe',\n",
       " 'peri bought like hello kitty tshirts make damn happy',\n",
       " 'gon na vacation alone already year spectacular',\n",
       " 'pretty',\n",
       " 'need shoe',\n",
       " 'lost self consciousness come dancing much kid embarrassment dance everywhere give exactly fuck joy walmart put jam dancing aisle restaurant turn dancing seat decided dance table yet could happen completely love',\n",
       " 'hahaha loving response nose ring considering others two new visible tattoo planned bought first dr marten wear everything singing loud time practicing witchcraft basically saying fuck anyone like',\n",
       " 'hair short blue wear legging time bright yellow raincoat care mostly black business casual person almost time time',\n",
       " 'feel smart stage life also feel like overflowing idea creativity',\n",
       " 'nevermind shoe tattoo amazing',\n",
       " 'rather tmi constipated today body decided shit would set free let loose metric ton shit clogged hotel toilet oblivion husband said baby take care located plunger rescued poor toilet back day would packed skivvy moved mortified as siberia avoid embarrassment instead getting job done saying eeeeew comic effect sitting bed roaring laughter teasing good fun day good laugh young poop vicinity boyfriend let alone laugh hey shit happens shit also know matter flower candy pda valentine day bullshit man fix shit literally put new brake car without asking text make sure ok love worst dude ride die keeper damn lucky found mine heart',\n",
       " 'change like whatsoever blow chunk suck dick honestly saying fuck want going totally vain hell fight aging like conor mcgregor yes scheduled blepharoplasty hooded eyelid hated life fucking gut mine go away exercise starvation damn well getting lipo care',\n",
       " 'lost self consciousness come dancing much kid embarrassment dance everywhere give exactly fuck joy walmart put jam dancing aisle restaurant turn dancing seat decided dance table yet could happen completely love',\n",
       " 'working continuously getting teeth fixed invisalign confidence increased much also started really taking care skin wearing makeup work getting compliment work make feel really good',\n",
       " 'color punk rock phase late teen dressed conservatively adult life since meno like flip switched bought neon blue vest looove forget wearing see look people face pas hahaha',\n",
       " 'shoe wear day peri biggest change diagnosed diabetes loosing lb letting hair go grey background weighed lb shaming others alike fat decided put health priory took year loose kept close year difference look enormous pun intended haha october decided sick coloring hair every week coloring since cut super short pixie within month natural hair color silver anything know look great get ton compliment men woman get hit lol moral story feel like rock star',\n",
       " 'get shoe could start sparkly shoe society like red hat society gen xers',\n",
       " 'rock heart eye',\n",
       " 'love shoe peacock feather tat rock wan na get shoe',\n",
       " 'adorable pair silver glitter converse love happy face smiley',\n",
       " 'currently wandering around crazily patterned owl coat zero f cks give link coat hunter owl coat http www huffpost com archive ca entry winter parka ca cd f e b bc amp',\n",
       " 'like feeling guilty able finally say thing want reason want period end story someone asks explanation going get',\n",
       " 'perimenopause menopause taught kind choice day fight kicking screaming whole way still good lesson wish learned earlier',\n",
       " 'bought bright purple shoe back generally invisible happy face smiley',\n",
       " 'former chronic people pleaser longer give rat as people think brought part working shitty life circumstance definitely enhanced perimenopause freeing love',\n",
       " 'hell yes turned last may promptly proudly joined idgaf club little extra weight around middle care going cake eat maybe second helping ice cream side gray hair go month without coloring care get get maybe making questionable outfit choice sure match comfortable wearing still listening music absolutely watching movie still talking speak really sweating small stuff anymore really took age realize nonsense',\n",
       " 'still peri menopause decided stop messing hair finally realized joy coloring hair going salon buying countless product hair accessory spending far much time hair day worrying window car hair blow get messy split end grey hair frizzies keratin treatment stopped coloring hair remaining hair color pony tail worth cut short wahl clipper already home using number guide clipper side back using hair cut scissors hand trimmed top width finger proud salt n pepper short n spikey lady family love freeing feel much happier wish done long ago guess ready',\n",
       " 'peri getting tattoo piercings happy face smiley love shoe sign horn',\n",
       " 'fabulous treated lovely pair rainbow trainer summer love kid bit embarrassed rolling floor laughing',\n",
       " 'tattoo piercings grew hair dyed purple fuck given anymore',\n",
       " 'love shoe good life short enjoy appeal',\n",
       " 'want shoe like extra give sparkle let cringy as dance move also tolerate way le bullshit people spouse colleague student etc absolutely invigorating',\n",
       " 'bought pair van covered butterfly butterfly gardening passion day another tye dye pair one son said got van one else even noticed',\n",
       " 'longer bother shoe look good uncomfortable wear care anymore chopped hair stopped highlighting like strand silver peeking hair thinning thanks menopause covid decided lose hair tattoo hairline fun design',\n",
       " 'also wrote manifesto say absolutely fucking love kick would like know brand goddamn gon na get pair posthaste',\n",
       " 'awesome love comment gotten frumpy taking david mitchell approach fashion one code live life appearance way noteworthy unnoteworthy become noteworthy accepted invisible unless someone need something family wonderful rest world',\n",
       " 'yes also started dressing fun',\n",
       " 'always extra embarrass lol explain daughter middle school never embarrass drove nut realized friend thought pretty awesome grew family woman always overly concerned others perceived hated understand reflected gross enjoy new freedom',\n",
       " 'love shoe think throwing repression seeing reject patriarchal bullshit internalised wonderful journey',\n",
       " 'giving lovely hairdresser free creative reign always pleased new look try',\n",
       " 'embracing autistic self give shit anymore gon na love shoe got platform rainbow crocs sunglass',\n",
       " 'gotten back old art background feel blah time anyway least painting gathering make feel cool met new people forgot try make friend spectrumy never good even worst blah first saw gen x whatever knew like whatever',\n",
       " 'way le judgemental live life care people want live affect mind business say business many time day freed much drama',\n",
       " 'bright magenta hair almost two year love would self conscious go public menopause',\n",
       " 'went menopause early best damn thing ever period horrendous miss work every month bc cramp migraine blood loss bp hovered around passed stood finally feel like shit stick living best life give fuck kid actual important thing wear black leather jacket boot every chance get drive sweet sport car enjoying freedom enjoy weed getting older rock',\n",
       " 'many thing one amusing one first time life want tattoo like btw',\n",
       " 'maybe best thread ever seen reddit',\n",
       " 'love shoe keep fun',\n",
       " 'yet find one',\n",
       " 'jacket potato',\n",
       " 'like shoe thumbsup',\n",
       " 'fuck tank run fume much honestly care anymore glorious done peri aside hot flash good',\n",
       " 'sparkly love love tat heart eye heart eye',\n",
       " 'u inmyenergybubble make buy fabulous',\n",
       " 'pair',\n",
       " 'omg absolutely love',\n",
       " 'shoe gosh dang bomb good sista purple heart crown',\n",
       " 'ooh love tattoo',\n",
       " 'nothing positive yet thanks posting give something look forward seeing celebrating sharing',\n",
       " 'shoe amazing heart eye cat',\n",
       " 'well let see much financial stability mellow emotion grounded much different thrown menopause medical reason age',\n",
       " 'finding attracted anything bright sparkly shiny pretty see shoe like sale everywhere heart want weird',\n",
       " 'love tattoo',\n",
       " 'giving fuck',\n",
       " 'love wear want anyone problem look way',\n",
       " 'idk age general used anxious people approval thing fit liked etc could care le gon na go way freeing care someone like',\n",
       " 'oh hell yea love fn shoe much wanting bit sassy style working menopausal low self esteem face symbol mouth confidence yet time around sun',\n",
       " 'sell shoe store',\n",
       " 'love shoe extra attitude come heart',\n",
       " 'idgaf others think anymore old care negative nancy want say love life happy love friend family end',\n",
       " 'comin mardi gras year fit right',\n",
       " 'thread fantastic biggest thing gaf wearing makeup regular anymore gon na sweat anyway hot flash come bother willing speak mind even situation would normally intimidate shit realizing finally best advocate also bos real going need moment gaf make someone else uncomfortable eg morning colleague super grouchy morning night anxiety hot flash could use little extra space today feeling guilty spending extra money therapy massage extra yoga class purchase like awesome kick op smiling face heart generally lot fewer fuck give also understanding woman realizing effin hard woman world extending extra courtesy empathy even fiercest karen also know one hot flash away karen moment',\n",
       " 'look better eat better better sleep habit drink le alcohol far far le seek le stressful situation generally try live better also prioritise fitness routine feel much better much happier love shoe tattoo btw keep extra',\n",
       " 'love tattoo mine giving shit stranger think',\n",
       " 'ugh hope get point like like many others commented honestly find positive yet peri angry time exhausted cranky much patience looking hrt clinic area continue go like',\n",
       " 'love shoe fake nail battled whole life loving nail extension wear month feel bad people think tacky give zero fuck love long nail eat short',\n",
       " 'proud live long enough bleeding cease never mind additional month genius added nice shoe though',\n",
       " 'self worth really high could paying bill really well job feel control stuff medical emotionally safe comfortable',\n",
       " 'tell shoe',\n",
       " 'wow happy face smiley fabulous shoe still quite yet worry every little thing thing make angry like morning total meltdown ever nothing end apologise stuff end suck tbh actually felt little mad neuron switch brain',\n",
       " 'wan na like happen slowly time late still think worry small thing slightly better',\n",
       " 'thank',\n",
       " 'yes feel insecure lot younger neighbor pay back insecure year constant comparing keeping jones care',\n",
       " 'stopped dyeing hair ten year ago care sometimes get compliment hair time get mother telling hair make look older either way care le woman shrugging husband bought handbag handbag liked yesterday cost almost expensive handbag ever owned feeling guilty told shut enjoy deserved guess learning curve stop feeling guilty nice thing',\n",
       " 'comfortable skin matter heart',\n",
       " 'oh man got nine solid hour week ago felt next day started listening taylor swift everything',\n",
       " 'awesome got thinking need',\n",
       " 'rave go dancing one floor idc make happy also wear clothes comfort zone',\n",
       " 'heck yes old school raver still go occasionally dance hour body complains loudly',\n",
       " 'tattoo wonderful addictive fun',\n",
       " 'yes thing justify tat well getting younger grin',\n",
       " 'one college gotten last year hide parent conservative religious stood first time ever',\n",
       " 'lol murder face carry purse least decade largely none colleague either retired see girly wan na worth mentioning carry purse event cardfold like go front pocket couple bump n roller come empty handed result',\n",
       " 'care purse either good riddance',\n",
       " 'stopped wearing purse mostly due covid go much long purse excessive thing normal still wear one missed yet',\n",
       " 'stride confident guarding purse snatched hold chin high',\n",
       " 'beautiful heart',\n",
       " 'since grey underneath blue last long time',\n",
       " 'hair color fun',\n",
       " 'peri recently dyed hair pink care much bleaching damaged always wanted fun color',\n",
       " 'rather enjoyable',\n",
       " 'love giving compliment heart',\n",
       " 'yes bcuz want pair',\n",
       " 'ask',\n",
       " 'deleted',\n",
       " 'love',\n",
       " 'hated pink whole life want everything pink kitchen even pink single care anyone hate kitchen heartbeat heartbeat',\n",
       " 'love glitter anything dying day lol',\n",
       " 'always bought sensible sneaker last year bought comfy van tiger ridiculous love',\n",
       " 'thank',\n",
       " 'awesome healing journey eye opening heart',\n",
       " 'sister heart',\n",
       " 'queen crown raised hand',\n",
       " 'good also woman mansplaining damn insufferable understand give accurate point answer man follow saying exact thing time many word ugh',\n",
       " 'wooh thank sharing strength heart heart needed',\n",
       " 'lol funny',\n",
       " 'menopause swamp witch looooove',\n",
       " 'satisfied good luck',\n",
       " 'love heartbeat',\n",
       " 'love vacationing week europe summer barely wait',\n",
       " 'sound sooo perfect heart eye',\n",
       " 'thank',\n",
       " 'betsey johnson many like',\n",
       " 'omg love thank sharing awesomeness star struck',\n",
       " 'yes good tune come ever booty shaking',\n",
       " 'oh going rage room soon wait',\n",
       " 'sound sooo perfect keep beautiful',\n",
       " 'confirm',\n",
       " 'thank smiling face heart',\n",
       " 'got beautiful heart heart heart',\n",
       " 'congratulation health success small task',\n",
       " 'http www dsw com en u product betsey johnson suton highwall bling platform sneaker activecolor cm mmc cse gps g shopping athletic sneaker new athletic sneaker cadevice gclid cj kcqiaofiebhdxarisahttldofyqbayocwmtcv saftjxbqx cetbegicec l elh esdeapeyaarqlealw wcb gclsrc aw d',\n",
       " 'thank make happy',\n",
       " 'http www dsw com en u product betsey johnson suton highwall bling platform sneaker activecolor cm mmc cse gps g shopping athletic sneaker new athletic sneaker cadevice gclid cj kcqiaofiebhdxarisahttldofyqbayocwmtcv saftjxbqx cetbegicec l elh esdeapeyaarqlealw wcb gclsrc aw d',\n",
       " 'yes dangerous make want glittery thing star struck',\n",
       " 'need yellow j crew uniqlo full length even spokesmodel since federer retired seen nishikora several fortnight',\n",
       " 'ooh fun bet soo cozy warm',\n",
       " 'congratulation partying face partying face',\n",
       " 'love thanks sharing heart',\n",
       " 'butterfly van sound perfect heart eye',\n",
       " 'use rosemary lavender cedar wood essential oil mixed carrier oil put scalp every two week scalp hair growth treatment amazing hair growth',\n",
       " 'betsey johnson',\n",
       " 'thank',\n",
       " 'thank tat soo fun go partying face',\n",
       " 'agree star struck phase menopause need see ups down normal part menopause experience uplifting powerful feel support others truly understand challenge smiling face heart smiling face heart',\n",
       " 'thank',\n",
       " 'deal bitch need sparkle like toddler ther th fucck shit dragon',\n",
       " 'betsey johnson',\n",
       " 'love star struck make shoe look awful satisfied',\n",
       " 'thank',\n",
       " 'reason stay hobby lobby attraction shine',\n",
       " 'thank',\n",
       " 'shoe cool',\n",
       " 'haha wish',\n",
       " 'thank',\n",
       " 'thank',\n",
       " 'yes empower right med worth heart heart',\n",
       " 'betsey johnson',\n",
       " 'went direction care small stuff enjoy life tell brain prefer calm easy heart',\n",
       " 'wait genuinely give fuck awesome edit hard probably hardest period life worried everything get better hugging face',\n",
       " 'oh si get better far age cpl year ago crushed realization something small happens start eat ask effect life way still eat still breathe still poop answer yes question effect life need helped tremendously',\n",
       " 'get better huge worrywart hypochondriac worried work etc still worry work ton le probably awesome thing getting older personally much stress case',\n",
       " 'used careful money time got something like visa gift card went buying stuff household family job surplus cash buy shit thrift poshmark buy shit amazon got target cruise want item feel zero guilt put everyone else first last year life turn mine',\n",
       " 'woman good guilt society conditioned u well face rolling eye',\n",
       " 'hate skin past menopausal love shoe get',\n",
       " 'menopause involves listening taylor swift',\n",
       " 'definitely try thanks awesome really love sneak gem yes dancing partying staying late really fun fun something always tense even kid therapy newly discovered self love giving crap seems come age menopause really helped prioritize fun pleasure heartpulse',\n",
       " 'love much dancer woman shrugging',\n",
       " 'believe discover must fun story actually inspired get better physical shape could really participate yeah requires period recovery afterward joy',\n",
       " 'ah yes make sense',\n",
       " 'bleach bath feel really adventurous work way want good care cool dark shade every color right grey strand old bleached one catch color wise nice highlight sun',\n",
       " 'indeed',\n",
       " 'deleted',\n",
       " 'oh star love love love floral one mine',\n",
       " 'tried black glitter sneaker look great white part yea glitter forever',\n",
       " 'thank welcome',\n",
       " 'aw thanks',\n",
       " 'thanks',\n",
       " 'love welcome used new behavior mine celebrated make happy guy grin',\n",
       " 'thank',\n",
       " 'oh especially cold wind enjoy reaction viewer many run rave coat others glare heck even men come compliment striking younger would never worn',\n",
       " 'also love tat left shin turned fifty fugit one impress',\n",
       " 'thank much sob',\n",
       " 'thanks yea kinda crazy ups wonder gon na look like',\n",
       " 'recently got illness worsen stop stuff went bedridden slowly house bound put mind state might lifestyle going really old since sometime energy level like yo woman realized way think see thing make life r harder really change way feel detoxing social medium help bit',\n",
       " 'could hope hrt help werid muscle fatigue always yr obgyn feel could dont know everything specialist nobody doin anything ughhhj',\n",
       " 'thats awesome loveit',\n",
       " 'yeah ask tge thing get better age',\n",
       " 'yes much well done',\n",
       " 'good',\n",
       " 'know right well anyway learning treat well day satisfied',\n",
       " 'beautiful perfect response thanks sharing journey healing self discovery hard work pay heart butterfly',\n",
       " 'haha yes lot story think take least day recover longer sometimes',\n",
       " 'ooh ignore post top asking shoe brand peruse betseys side note pair craziest high stripper heel betsey johnson corset detail back never wear really anywhere wear despite dgaf anyone feeling attire really wear particular shoe office minor limitation wear also get rid incredibly awesome every put prance around upstairs put away link look like ebay selling affiliated seller wanted see look like amazeballs http www ebay com itm http www ebay com itm',\n",
       " 'thank',\n",
       " 'better really loved gained lot confidence area life',\n",
       " 'oh wow good admire self awareness social medium great place start also amount time outdoors sun many day possible chair exercise light weight also help strengthen working right starting stay strong worth',\n",
       " 'nixing social medium huge mental health snapchat use obvious reason snapchat use chat daughter day everyday lol love smiling face heart encourage continue detox social medium toxic place need mess sorry hear health feel hope thing get back normal state get energy level back blush',\n",
       " 'frustrating hope get figured torment',\n",
       " 'taking senior multivitamin also found b complex helped fatigue k helped inflammation',\n",
       " 'smiling face heart',\n",
       " 'amaze ball indeed understand never want part perhaps bedroom shoe thanks sharing link shop betsy johnson site',\n",
       " 'great full energy clear head kid becoming independent make year sucked far oh eyesight significantly decreased get motorbike learner permit week tho zero shit given life short playing mind energy mind used hard know good',\n",
       " 'thanks happy face smiley suck ill think needed learn',\n",
       " 'snap good texting tool happy face smiley crazy feel fomo quitting social medium childhood social medium fine without thank much',\n",
       " 'fatigue muscle whats affected yes take vitamin',\n",
       " 'totally agree felt great peri hit around also damn daily battle make sure right thing regarding health getting enough exercise planning retirement even making sure everything taken care around house hrt help man lot tired like giving af others think though definitely trade eyesight suck cheap reader scattered around house edit struggle battle meno brain face rolling eye',\n",
       " 'r menopause trying change menopause rarely talked viable treatment option mht hrt considered taboo cancer causing heavily discouraged doctor need demand health care professional feel like suffer menopause also know hormonal bloodwork accurate tell hormone day perimeno aka still period estrogen certainly zero even post meno ovary continue produce estrogen',\n",
       " 'preach sister soon shit started happening started telling every woman know say everyone mean like even yo daughter friend idk definitely crazy making nobody fuck talk right job start know exactly mean raised fist medium skin tone',\n",
       " 'menopause would bad fucking joke like peri meno started show fucking idea messed many way ptsd adhd anxiety depression got x worse estrogen drop literally felt like dying going insane like asked woman talk late twenty since got bitch slapped meno talking anyone everyone listen know expect also able bond older woman cool way vocal shit suck soooo much worse know expect half mind become sex ed teacher teach meno right teaching puberty absolutely unacceptable u think meno hot flash hot flash period much fucking much fucking worse end rant',\n",
       " 'sound like mental health professional giving good support advice hang alone',\n",
       " 'used slot one team meeting talk shared symptom impact individual relationship fact gp uk little training nearly apart middle aged older woman even knew bad get long last shocking impact u',\n",
       " 'feel like talk huge thing sentence always start mental emotional symptom surprising hardest deal heard hot flash know anxiety heard dry vagina idea severity brain fog extreme rage lack patience also idea make thing like adhd symptom much worse hrt saved saved life early menopause slowly coming term idea never',\n",
       " 'see people realizing symptom coming peri menopause taught meno hot flash vaginal dryness maybe extra give fuck general attitude know symptom actually odd widespread seemingly unrelated gyno issue surface woman experiencing thing sure doctor connecting dot think developed various mental physical health conviction mid hearing friend remark new anxiety disorder suddenly high cholesterol heart palpitation sudden complete inability control weight matter weird scary adrenaline surge kind symptom actually common woman approaching menopause somehow dot yet vetted connected friend tell peri fine big deal hot flash okay big deal unrelatedly though couple unrelated issue pop recently say side effect peri meno wonder part hist denial woman wanting associated menopause give old sexually undesirable generally category woman wish enter especially still considered attractive society menopause associated grandmother type many one experiencing younger feel younger dominant image glad see celebrity lately youthful thriving prime life also talking approaching change hope allow woman able see big tent',\n",
       " 'think gen x finally saying enough enough suffering silence get help please',\n",
       " 'mi diagnosed bipolar put heavy med literally told crazy putting work fuck three day hrt crazy gone fuck multiple doctor put shit instead properly treating mention led marriage destroyed possibly losing career bitter woman staying line accepting crazy',\n",
       " 'common misdiagnosed mental illness',\n",
       " 'year old period month spotting every day month struggle weight lot insomnia migraine sometimes sex drive pretty low doctor said much experienced severe emotional mental health episode bad compared often see posted know say ask woman',\n",
       " 'relate feeling blindsided coming prior knowledge might experience realized last week strange way feeling might peri meno googled weekend learned lot',\n",
       " 'feel like talk nothing else besides menopause day swear soul spoken since gotten earful menopause estrogen testosterone mention progesterone basically jan brady hormone loved one lucky yammer vaginal atrophy every ten mention menopause newish guy life since tell body hormone idea ideal menopause clinic thought new lack giving fuck socially idea way take advantage new state mind better world least little tiny neighborhood want ashamed legitimately normal anyway sorry going wringer hope get level sorted peace wish someone talked sooner doc said meno easy probably kind doc insists nerve ending cervix possibly feel wire brush abrading need numbing inserting iud',\n",
       " 'doctor told sudden menopause following hysterectomy bad make furious behalf sorry happened emotional mental physical trauma medically mistreated real many u talking openly challenge struggle menopause even optional session work endocrinologist scientist shared personal story team team younger men theoretical abstract point two woman emailed thank opening discussion one nearly tear going thought losing mind saying understand mum went talk better u',\n",
       " 'started peri probably mid drs repeatedly give treatment various symptom obviously menopause unexplained ache ibuprofen rheumetology night sweat whatever depression ssri sleep breathing exercise hot flash brain working broached topic mht quick say want forever barely ovulation like talking happens friend think allergic mold chronic like long covid like tried estrogen progesterone love progesterone help sleep shout menopause yes general nobody q medical provider check u',\n",
       " 'talk wildly varying people experience peri recently found good info r period younger sister talking stuff still far go instance know decidual cast name honorable mention whoever posted birthing giant baby jellyfish though little gem estrogen ocean far rare experience least past month hell birthed couple em today though uncommon trying sort gain keeping truth albeit varied hushed suggested er damned doctor know body rather establishment effective solution wholly unwilling fork em see work absolutely stuff need documented thank goodness space',\n",
       " 'dealing perimenopause tell everyone age year behind thing never told',\n",
       " 'know feel like men somehow blame',\n",
       " 'pretty big circle work kid sport friend seen woman known year crumble idea happening',\n",
       " 'care anymore bring woman time many seem relieved relate reaction pretty priceless',\n",
       " 'sorry badly really screaming outrage neglected hysterectomy year ago left ovary cervix annoyed last part mean can not try estrogen also told affect hormone since still ovary hmmmmmmm year later started dry skin joint pain idea could related declining estrogen became worse worse went rheumatologist etc help blood lipid became bad reason blood sugar also aooarent reason dizziness started still manageable anxiety year ago mental health absolutely tanked like say went really went wake several time every night better night able sleep two three hour intensely anxious filled dread existential anxiety can not tell head dreading fact could sleep live anyway ofc tried get relief psych doc clueless seem got lot diagnosis among generalized anxiety panic disorder major depression possibly bipolar sure really true menopause estrogen deficiency cause symptom doctor seems even consider told test useless way gauge deficient estrogen much told estrogen deficiency cause anxiety insomnia told much estrogen also cause anxiety left swimming research sadly antidepressant work made worse contrary also worked several strategy like melatonin magnesium breathing acupuncture hypnotherapy tapping paid much snake oil seller money can not go vacation like planned would good sleep feel left wayside horrible state mind told twice new normal menopause get better hope isnt true would mean short horrible time left body mind take level stress long sorry going guess wanted show one also awake since midnight anxiety prone reaching pain oh yes also lost kg since started woul really really rather kept meaned sleep night anxiety stop',\n",
       " 'considered hrt made huge difference mental health',\n",
       " 'understand feel blindsided also menopause mine started covid mess menstruation one year period boom physically mentally messed im hrt percent better notice difference since combipatch week hoping continues work cause menopause mentally physically drain',\n",
       " 'place describe sound like need estrogen probably need med estrogen estrogen completely depleted month time able start hrt extreme full body hot flash literally never stopped day night severely sleep deprived top sickness caused hormonal disaster took body wanted die joke know every body different everyone hrt changed life brought back regular functioning self came side deep dark hell fuck left give live life want without apology fear judgement quite liberating sorry going say hope find relief whatever mean possible know earned hang',\n",
       " 'huge article new york time http nytimesineducation com woman misled menopause',\n",
       " 'asking go see menopause clinic sick option available u dunno today felt like given ending life told going menopause',\n",
       " 'get mentioned meno sy thing around woman friend age often act like meno probs news biggie',\n",
       " 'tell everyone awful menopause feel one told',\n",
       " 'truthfully think med school telling doctor engage subject tried talk several different doctor blew despite many classic symptom',\n",
       " 'agree thank post get doctor tell one thing going menopause reluctantly sent gynecologist took month book waited hour exam room gave pamphlet pat shoulder concern mental health menopause started concern false start menopause due grief father unexpectantly passed never got period also confused mental health stuff generally anxious depressed person mean get thing time time going felt like extreme level emotion often lost hair nail thinned small time texture hair changed really weird month found site grab hair nail skin vitamin really really help doctor even give advise honestly still know correct lurk group time get idea research internet honestly try walk every day take kick as vitamin make feel great group realize everyone symptom different anyways hope maybe post inspire others talk would like say extremely jealous lost weight glad telling story',\n",
       " 'speaking woman talking found moisturizing vulva like face spend much time money moisturizing face lip one ever told u need moisturize peach peach least x week medically important stuff think need lube body age need moisturizers keep tissue supple prevent tear gyno urologic issue like bv uti yi imperative keep juicy penetration urological health without moisture vulva literally shrivel die imagine clitoris simply shrink back body stop working need tell people important fact changing body surprised fabulous sexual health doctor sloane kettering told graphic informative amazing much unconscious belief bias taboo vagina like fault experience dryness must grin bear people talk pussy mature one especially moisturizing hyaluronic acid gel there many made make pumped talk may start company anyone',\n",
       " 'doctor specializing peri meno helping spread awareness education social medium following given confidence talk experience reference research back symptom even schooled gp dr mary claire haver example really good spotlighting latest study follow tiktok',\n",
       " 'talk time fairly inappropriate place satisfied know thing happening affect move world talk excuse explanation like hearing oh yeah happens time helpful doctor get right front dealing deal make easier crazy age crazy thing go',\n",
       " 'shut mainly friend equally outraged got realize one warned u doctor sometimes useful gen x let last generation surprised unprepared menopause',\n",
       " 'alone healthcare provider better usa also feel like one woman parade banging drum menopause anyone cross path talk little else validate discus topic rippling effect experience would like know poster lost pound respectively happy give found lolol',\n",
       " 'could agree went thing piss one talk luckily therapist recognized perimenopause ob put progesterone complete really hope get relief soon',\n",
       " 'talk therapist typically work teen time adult client woman lately menopause know resistant acknowledging find odd odd dreaded thing almost like saying end life something suggest get hormone tested think hrt whatever doctor might suggest work feeling allllllll stuff come early hysterectomy ultimately end think relieved know going last forever cuz adjusting new hard work',\n",
       " 'well mom died entered menopause still gon na induced artificially since hysterectomy think biggest reason talked many u time reach age mother gone wish mine still advise went one tip everyone abnormal bleeding age wait like go doctor right away',\n",
       " 'turned perimenopause also oin autistic burnout long covid hell every month week cold flu symptom increased mutism meltdown circulation problem hand foot hellish itching earache plus chronic dry skin eye fatigue insomnia high blood pressure chemical sensitivity muscle pain going doctor doctor asking help either get told rest told making oversensitive orthopedist told couple week ago foot pain head friend sister starting talk one else',\n",
       " 'hormone play big role feel kid postpartum depression morphed menopause fairly quickly hardly help family health care community',\n",
       " 'talking maybe stigma younger average many friend yet experience symptom go bring conversation get visibly uncomfortable around subject society blame better change open',\n",
       " 'sorry happened glad getting help hrt literally saved life idea peri even thing idea happening suicidal anxiety feeling doom plus lot symptom luckily talked however e still much scientific research woman health disgrace like hormone adhd pmdd etc thinking poor woman probably got put asylum due suffering peri menopause mental health couple decade ago hope start feel better soon heart',\n",
       " 'read get furious thought male doctor telling drastic life changing surgery menopause big deal dick',\n",
       " 'think woman founded mysysters actually went therapy hypochondria ten year doctor told menopause symptom head quit job developed app track symptom needed one else damn thing seem gotten far',\n",
       " 'guessing woman talk reason used talk rape people act like source shame lower value face rolling eye face rolling eye seriously old ridiculous culture thing need deleted talk also talk rape happened lot people seem think happen nearly often truly person facepalming light skin tone female sign talk also put blame shame actually belongs',\n",
       " 'im peri sure dad passed july last year coincided missed period first thought grief started researching come conclusion prior passing period like clockwork however recognise may started symptom long sex drive tanked would rather stab someone eye oscillate rage depression affecting sleep wake lot easier used day fatigue could sleep day would surprising symptom bloating constipation wtf feel like someone pumped gas gut wake feeling swollen including hand eyelid despite halving body weight decade ago feel like fat blimp boob bigger sore constantly like pregnant im blood test push patch',\n",
       " 'almost exact experience think worst keep moving take hormone acupuncture help estroven help',\n",
       " 'going surgically induced menopause literally thought going crazy first month calmed way night sweat sucked bad anymore',\n",
       " 'think reason way talking period mine terrible several day month uncomfortable turned mine got much worse part mentioned girlfriend heard period day little bleeding think range experience make difficult',\n",
       " 'ovarian failure hysterecromy super common went climara estradiol patch saved life find new doctor get hrt mental mood symptom luckily surgeon let know reduced ovarian function failure possibility surgery happen awful understood happening luckily since uterus take estradiol without progesterone probably',\n",
       " 'agreem need talk thing one friend talked started young told perimenopause thought bit myth sent thing read joined sub going see menopause clinic soon still period family member went though thought still year nope perimenopause likely causing issue bad woman might well peri talk woman mum generation better talked good also heard story',\n",
       " 'bought pelvic prolapse took fully surprise mom told lift heavy thing told would hurt back uterus would fall mom well run family woman facepalming',\n",
       " 'like think make better future generation',\n",
       " 'talked front class law student pre lecture chit chat pleasantly surprised one expressed horror complained administration',\n",
       " 'bless remember mil hysterectomy either late early whole family felt like lost mind scary see change completely think miserable sister hysterectomy much younger due health problem idea dealt deal mil also thyroid problem since surprised production different hormone may adverse effect personality health lost lot weight quickly may need get thyroid checked know great first start wasting away worrisome also good patient done doctor told many health problem possible recommended surgery drastic change hormone wreak havoc must something change cause hope found someone continue help sound like right path different note surprisingly around several older woman shared experience menopause think lot understand going someone like talk trigger memory certain issue even know perimenopause symptom began endometrial ablation started noticing hot flash around thinking related prediabetes overweight read caffeine reaction thought start sweating several people like could menopause thought crazy fit since sex drive gone roof gutter exhausted depressed medicated bipolar year thought doc still concrete answer say probably combined frustrating trying lose weight take ozempic shot c low get break good luck girl',\n",
       " 'agree thank goodness taking turned hormone thyroid issue since sadly unable kid menopausal last year antidepressant tried everything possible help migraine mood swing chronic anxiety sadness history mental illness know hormone drs tell young well period decided stop without feel like new woman old old lunatic know come back relish non hormonal shitshow become life sending heart',\n",
       " 'hormone triggered manic psychotic episode hospitalised got confused mental illness got diagnosed properly menopausal symptom pmdd whole life ovary plus two fallopian tube removed surgery year suffering w endometriosis feel keep strong sister feel emotional numbness unmotivated life',\n",
       " 'telling everyone know starting w may tmi need know',\n",
       " 'culture youth obsessed talking menopause signal age one want hell half peep okay hrt',\n",
       " 'still regular period asked doctor today could check hormone mental health tanked similar actually wrote question list perimenopause could cause bipolar doctor nice handed tissue tear started falling said benefit testing hormone someone still menstruating since way know normal hormone fluctuate significantly throughout average day take blood regular bloodwork wish easy answer suspect depression lexapro right treatment',\n",
       " 'doctor surgery told menopause would bad obviously know talking bad ask menopause oh wait penis never one grrr hang',\n",
       " 'friend mid dealing hot flash night sweat mood swing past several month first tried ignore symptom push seemed get worse found feeling increasingly anxious depressed even trouble sleeping night due hot flash one day confided going could see much affecting quality life felt like one else understood going one experiencing symptom broke heart see much distress encouraged see doctor speak openly symptom turn indeed going menopause doctor able provide information resource help cope friend grateful education support received finally able start taking control health well story highlight importance talking menopause seeking help need one suffer silence feel ashamed symptom experiencing support break stigma surrounding menopause sharing experience educating others',\n",
       " 'thank everyone comment uterus taken year ago told menopause long way away started symptom year thought going crazy found post symptom worse feel lost know talk know going body menopause gon na get decade',\n",
       " 'thank brave beautiful soul year old menopause began year ago miss moon also mental health issue stay top also crazy hot flash first got terrible night sweat would get change clothes middle night sometimes twice night finally got hormone relief sweat hot flash also still coping weight gain thank much post hope feel seen heard',\n",
       " 'lucky work talk openly give support u age going different stage peri menopause work hospital non clinical side management menopausal workshop thankfully month waiting appointment menopause clinic dublin ireland friday never excited doctor appointment gp however useless brushed friend found irish gps useless uninterested help',\n",
       " 'talk kid mom moody never said anything repeating',\n",
       " 'described life past year started hrt week ago already med depression anxiety never mh problem prior menopause desperate luckily gyn gung ho asked hrt found sub couple month ago idea many woman face uphill battle trying find provider willing prescribe finding someone prescribe hard enough insurance coverage lack thereof doc actually want give work best whole battle one facing change policy month finally feel like sane raging suicidal actually living functioning hopeful human find single policy afford cover either estradiol patch progesterone capsule coverage higher copay coverage cover birth control though hormone higher dos make sense part really piss cover least one form medication male erectile dysfunction somehow insurance company think important man able option fuck important woman option access medication literally preserve physical health thus potentially reducing insurance company future cost moron bolster mental health improve daily functioning overall thus u insurance company making sure woman get fucked literally figuratively already started making list personal item sell able afford hrt pocket going back piece crap person felt like option well year old son convinced must sort saint idea hate put year starting hrt gyn insisted multiple time hrt would nothing help depression rage anxiety said thing get little better would indirectly due getting better sleep waking hot flash really think hrt improved mood independent sleep still wake lot due chronic neuropathic pain always worse night actually never woke much due hot flash mine worse day yet mood wise feel like miracle happened fairly quickly mood seemed better within week hrt help energy started exercising week ago mood started improving obviously life still happens circumstance far great flipping heck time feel awesome aside picked lb weight dropped crazy biological stage life one ever warned joy somehow make feel like absolute ugliest disgusting person world like started hrt smiley want reduce number health reason first time long time feel like actually ability finding supportive resource people like sub people contribute hrt say felt way hang woman warrior still lot life live given chance live well',\n",
       " 'talked several woman gone menopause mentioned messed feel talked experience hysterectomy year ago period set bloodwork came back show estrogen sticking wait till',\n",
       " 'kill several close friend gone menopause said damn word lost crap helping thank goodness found thread wish found sooner',\n",
       " 'except believe think weight gain deterred lot exercise something want know symptom',\n",
       " 'mum talked glad definitely something young woman know recognise perimenopause happen early sometimes need recognised sometimes happen someone',\n",
       " 'wrong never ever anyone say oh way might damned nigh bleed death medication prevent doctor give since american get otc land free shape travel anemia get med stop pay hysterectomy instead safe effective treatment low progesterone wink wink face rolling eye',\n",
       " 'amen',\n",
       " 'think anyone reddit one hot minute know messed healthcare u love love idea talking coworkers work woman dominated field age would great share thanks',\n",
       " 'love posted info used talk',\n",
       " 'hrt taking get prescribe going switch doctor mine start taking seriously',\n",
       " 'weirdo symptom googling one point happened choose right word land message board peri elsewhere saw people connecting particular dot found laundry list blew mind many health thing dealing finally made sense context lucky gp little puzzled listened referred endo similarly familiar particular top issue said hey let try hormone see even mess gone route still learning day also increasingly annoyed seems effort popularize really significant detail many u obviously dealing brought chat unrelated topic day figure time change maybe help others though get denial piece circumstance time u contribute reframing',\n",
       " 'point stop suffering silence body broken suffering silence two back surgery messed shoulder radiation treatment thyroid bursitis hip live chronic pain time menopause yeah',\n",
       " 'right many woman ended institution year ago',\n",
       " 'alone',\n",
       " 'interest talk progesteron',\n",
       " 'vaginal atrophy found way sex without feeling like vagina fire solution vision quest',\n",
       " 'id like hear ideal menopause clinic maybe new post chime',\n",
       " 'jan brady hormone roaring happy face smiley',\n",
       " 'oh god owwwwwccchhhhhh',\n",
       " 'decidual cast',\n",
       " 'men often get privilege sifting prostate related medical bullshit teach sex ed class either',\n",
       " 'haha love lol',\n",
       " 'feel way many dont think take year doctor want anything asked gyno hormone testing said trying everything ordering blood test wasting money natural thing nothing help struggle get day vision dizziness issue b',\n",
       " 'think long uterus estrogen',\n",
       " 'sound like tried hormone therapy yet although lack asking considered going online telehealth company like alloy geneva midi know used yet since denied traditional avenue also everything taken ovary including cervix hysterectomy due suspicious fibroid scare bad spot surgeon told hormonally would exactly surgery believed wowwww confused mental emotional health started unraveling week later periodically struggled since last year hardest longest definitely okay blue insomnia ensuing spiraling life sucking anxiety primary symptom like fortunately already take ssri slowly adjusting dose hand psychiatrist better combat anxiety eventually helped plus taking legit sleep aid year weaning plus therapy plus daily exercise plus year plus drinking plus acupuncture female specialist hormonal health actually helped maintain semblance mostly normal took month troubleshooting know tripped hormonal dip plummet spike near future perimenopause always eventually becomes menopause zero hesitation advocating hard estrogen maybe even progesterone need would encourage keep trying front although know damn hard debilitating two primary symptom together time wish anyone',\n",
       " 'hrt still feel offense meant others struggling mental health bat sh crazy thing getting better medication still suck',\n",
       " 'got sick last april every single symptom covid home test said negative doctor refused test covid antibody right finally got better whatever sick thing got really bad glad med helping',\n",
       " 'thank',\n",
       " 'yeah see combo problem oh yet possibly aging denial',\n",
       " 'thinking thing',\n",
       " 'mostly bc want woman shocked',\n",
       " 'wellbutrin lexapro day struggle eat thank goodness buy medical marijuana would absolutely hosed lb came le month get wrong lose another lb happens answer get woman shrugging man shrugging',\n",
       " 'believe thinking word typed twin trying figure lost weight point year culprit menopause occurred unexplained weight gain inability lose pushed realize tripping many area',\n",
       " 'take progesterone terror help taken alone thanks',\n",
       " 'sometimes feel like foot pain need doctor head word kick head',\n",
       " 'put hrt',\n",
       " 'omg one nightmare',\n",
       " 'sign got bad respiratory sinus infection last april took month get full blown menopause honestly feel like losing mind know manic depressed barely able get bed like fortunately work home otherwise would able keep job friend family supportive want burden mental health professional counselor still looking good doctor frustrating little information',\n",
       " '',\n",
       " 'yes yes yes wrote definitely sound going including insurance refusing pay safer hrt honest insurance suck one good friend insurance dying cancer insurance refused pay treatment type cancer would paid medication effective fell category healthcare system let u',\n",
       " 'also op time smart surgeon female fifty warning misdiagnosed bi polar put load different med work impossible signed sick course made redundant started self medicate wine got help erm bi polar rage post menopause going insane finally found great gp uk got hrt small dose anti depressant relationship partner falling apart get understand horror story used hear grandmother staying bed day',\n",
       " 'make sense would feeling way without estrogen glad dr ordered blood work find went lupron month chemo thing give chemical castration suck hormone depressed sad world bleak discontinued taking wish drs find early menopause taught important hormone mental health hope getting hrt helping feel better',\n",
       " 'full hysterectomy ovary oopherectomy early complicated told would become menopausal abruptly blithely brushed yeah yeah hot flash get ha major hot flash warm time weight gain complete loss libido really wish understood losing ovary would mean go back forth whether would still opted removed ability make informed decision would nice',\n",
       " 'hear best friend hardly want talk like wtf lady older female relative ever talked mother offhandedly mentioning period month',\n",
       " 'second',\n",
       " 'suffer nurse practitioner utterly ignore symptom year always one getting another doc way around',\n",
       " 'switch doc pissing estrogen gel rub thigh progesterone pill take every week estrogen cream insert like tampon testosterone cream rub bum honestly bit saga take dosage little high better take dermally ingest',\n",
       " 'yeh see something year old mum life chronic pain feel slippery slope go peri like going something hope find relief x',\n",
       " 'fucking thank right thrown told u fault',\n",
       " 'yes state np put progesterone literally saved life multiple gynos keep prescribing lexapro thank god go mental health issue yes never probably hormone plus hormonal anxiety different anti anxiety med might work annoy progesterone talked enough really help u',\n",
       " 'curious ab bc progesterone literal lifesaver',\n",
       " 'opinion happy face smiley',\n",
       " 'coochee nana almost jumped visual question mind coming single woman going menopause even want sex absolutely sex drive pretty much asexual wonderful imagine much would suck guy expecting sex feel like want die',\n",
       " 'someone subreddit physical therapist believe post birth post cancer treatment issue among thing suggested counter gel hyaluronic acid searched found one helped dryness painful sex itching omg one tell u since long without sex patient understanding loving husband also happy forego piv sex got dialators vitamin e insert hyaluronic gel vitamin e suppository dialators pretty effective back normal depending day good lube needed know talk brand name hyaluronic gel gynatrof lube used uberlube far unsuccessful getting prescription anything hormone related hrt someone tell u could say doc get hrt prescription feel like insurmountable mountain climb maybe sex drive would bounce back real hormone maybe occasionally feel like murder suicide never told freaking rage might feel',\n",
       " 'vaginal estrogen addition hrt take long time patience get thing back level day day comfort work tried every iteration cream suppository cream work best need use frequently usually suggest',\n",
       " 'hi entire uterine lining shed one piece link probably explains better http www healthline com health woman health decidual cast',\n",
       " 'oversimplification uterine lining shed one blob shaped like uterus',\n",
       " 'men go male menopause called andropause',\n",
       " 'yes take estrogen uterus doctor put estrogen month bloodwork yeah',\n",
       " 'hrt estrogen dose may low still though pump gel plus mg progesterone daily challenging find someone go behond standard dose yes two symptom like pare absolute worst really horrible bit luckier really tank slip slowly got point mental health symptom reared ugly head awful feeling willbe impossible get ssri snri work meand inly made anxiety much worse even five week perimenopause becomes menopause least level stable easier find right dose right treatment wildly fluctuating level going nut yes also wouldnt wish crushing anxiety plus insomnia give many hour reallyfeel fear wish anyone either feel cheated life could good',\n",
       " 'way sleep aid take',\n",
       " 'hrt realize time dose might need adjusted time started horrible mental health issue crippling panic attack anxiety thought losing mind blood work looked low normal never mentioned gyn idea low estrogen could cause mental health issue finally went sobbing wrong adjusted week felt better worth considering',\n",
       " 'better since backed hrt still heavier counting',\n",
       " 'right first woman maternal line currently living experiencing natural menopause woman lineage hysterectomy thing precluded natural menopause even really anyone ask',\n",
       " 'remember time nevertheless sure lose weight either got ta medical marijuana wonder made sick gyno tell beautiful menopause half cajones would slapped upside head wish answer',\n",
       " 'dear sister relate changed much effort put fit year prior menopause seems wasted looking diet exercise population prof minimal effect u wtf blindsided focusing depression much even give thought peri menopause postmenopause find may also adhd great f going help crap aside also found large hiatal hernia attached tortuous esophagus think going since pregnancy talk screwed hormone',\n",
       " 'started progesterone stop heavy period figure fine long still period keeping eye need add system estrogen',\n",
       " 'yes even tried call tell thought treatment arrogant suddenly telephoe consultation face rolling eye physician wisely told pick battle requested x ray diagnosis orthopedist least diagnosed arthritis fallen arch even address cardiologic stuff nov fit healthy',\n",
       " 'hrt told could decide wanted wanted later would issue',\n",
       " 'luckily whole bunch pelvic exorcise cleared severe case known could easily never issue begin',\n",
       " 'yes least med help today life miserable supposed successful work going shit single many reason behavior change got ta fend barely hanging work lost pound trying exercise regularly since new year seriously feeling better hell concentrate long enough plan meal plan ahead anything hate feeling brain dead',\n",
       " 'slowly bloody hell process nobody warned menopause hot cold flush mental physical stuff brushed carpet lady dirty secret along menstruation year progress',\n",
       " 'drs fail fully explain consequence procedure held accountable know busy one person speaks many congratulation speaking thankyou two fiend supporting also recently almost identical conversation doctor prior hysterectomy retrospective google search discussion reddit take ovary people life left complete ruin doctor idea never see ever feedback consequence action',\n",
       " 'cervix uterus removed',\n",
       " 'thank',\n",
       " 'crazy aunt attic nahhhh going thru change shit thought losing mind hrt needed adjusting poor hub following around house worried going work nightmare teacher privacy personal stuff crazy everyone see comment',\n",
       " 'really envy single lady atrophy get feeling like blob toad might worse find wish alone growing disappointment depression anxiety',\n",
       " 'zero interest sex fine since single however hrt estrogen testosterone noticing thought sex still fine fact think giving positive outlook life general like world bad place sound like really really need hormone back literally life',\n",
       " 'forty nine year old early mid perimenopause yes really want sex lot husband tired hounding tired wasting beautiful sexual energy getting f ked also symptom atrophy use estradiol cream keep everything juicy plump healthy',\n",
       " 'spent time talking pelvic floor physical therapist suggested using pretty much daily le one ounce put bean sized squeeze finger apply way',\n",
       " 'yea added link explains fully',\n",
       " 'cervix still bit uterus',\n",
       " 'take generic ambien trazodone last year worst worst place took ambien mg two mg pill weaned slowly slowly sloooowly take mostly trazodone trazodone generally helpful central nervous system consistently calm predictably activated dark anxiety riddled corner need needed serious strength stuff administered diligent psychiatrist',\n",
       " 'wellbutrin caused lose whole load weight sadly also lost whole load hair',\n",
       " 'wow sorry hernia everything else relate modest person ever meet would gone naked afraid tough proud smiling face tear honestly could never recurring idea also obviously si',\n",
       " 'age sooner better risk serious bone loss want informed waiting long',\n",
       " 'clitoral anatomy even medical textbook fact blew mind learned last year come far yet still middle age lol pun intended',\n",
       " 'felt tubal ligation c section later life thought would easier idea shitty would feel bc mom mil aunt told terrible period none u made connection one told u found fact google search bullshit even ridiculous go doctor female problem first response hysterectomy really cut wth healthcare woman messed',\n",
       " 'feel sad poor mom thought crazy really mean idea hard probably know happening either yo daughter educated would like also tell friend gotten turned myalloy com hrt script without deal arguing multiple doctor think silly',\n",
       " 'alternate internal external dos every night',\n",
       " 'thank may resort sleep aid unfortunately unfriendly psychiatrist working woth',\n",
       " 'hate stuff gave panic attack',\n",
       " 'thanks',\n",
       " 'absolutely crazy would without sub would scared thinking going mad poor grandma really know suffered',\n",
       " 'great people suffering depression great bipolar tip manic state',\n",
       " 'actually laugh men get level bewildered emotionality kind funny imagining dude unable think response etiquette post would commit serious time digging someone post history come oh yeah well dry vagina joy joy',\n",
       " 'number one ageism sick number two woman ever get escape shit younger got told rag irrational every time disagreement came period dried menopause sick',\n",
       " 'ugh disgusting happened real life male relative christmas looked kid said ugh oh kid getting old soon hit menopause looked said bad thing mfucker',\n",
       " 'crazy think vagina longer roll wet welcome carpet penis insult body disregard mean longer value one see absurdity',\n",
       " 'even make sense insult like saying stayed alive many year body absolutely normal like trying insult someone saying moderately dry skin winter breathe air get trying mean rude try harder',\n",
       " 'next time tell idiot clearly need better training debate stuping use ad hominem argument attacking person v issue hand time insincere redditors people troll report block like alluded earlier feed need feed troll happy face smiley',\n",
       " 'joke already someday old flaccid penis inevitable testosterone take dip love handle manboobs secure dude embrace try live healthy life insecure douchebags bend backwards keep young midlife crisis dude guess good mine people attitude like guy post end alienating everyone life die alone basically need rich anyone give second glance ugly inside tends match ugly outside sidenote calling people old dumbest insult age happens every single one u thing skip unless live fast die young pretty lmao omg old oh yeah getting younger',\n",
       " 'need go get zany face ok coward',\n",
       " 'men hate woman get old wise enough see bullshit usual respond trying make age wisdom somehow bad insulting able see underscore hilariously pathetically insecure irrelevant lmao',\n",
       " 'happened well skincare sub guy kept riding reported eventually got suspended',\n",
       " 'thing happens baltimore city usa sub volunteer risk youth city run physical therapy practice see many victim violent crime time criticize specific local political wannabe follower send message dried old menopausal bag call woke progressive online yet behavior exclusionary ok',\n",
       " 'thing think simple fact life insult bought patriarchal bullshit say ashamed exist someone old menopausal dry vagina mean seriously nothing wrong thing insult need internalized way simple response good state truth see longer anything helpful valid bring exchange done done matter say fuck people trying make person feel le spent waaaaayyyyy many year hearing men woman judgment taking heart finally figured people thought said nothing everything life got easier stopped feeling need internalize people trama projecting onto work wish good future mental heath head feel bad dealing much toxicity would manifest ugly way walk away content work need respond kind',\n",
       " 'report mod sub sometimes good karen put place',\n",
       " 'someone look profile try use interest humiliate mentioning menopause makeup addiction must insecure find intrusive answered back trying embarrass dig deep enough real housewife obsession looking menopause hard physically mentally refuse let mouth breathing mama boy know find woman clitoris try shame phase life little control probably reddit rule name shame deserves pent menopausal angst lobbed right misogynist as',\n",
       " 'engaged discussion subreddit guy come anything refute tried insinuate life could longer kid nothing subject hand kept reiterating like expected hurt feeling think finally actually asked using computer without parent permission',\n",
       " 'think men like use menopausal insult cover fact longer controlled whether think fuckable longer worry attractive men eye mean really care think u god know many men stand thought front center time yes menopausal yes ran fuck give year ago transformation liberation astonishing truly care men view like wearing long hair loud laugh anything else treat like equal gtfo men life appear find terrifying wink smirk',\n",
       " 'little ck energy face rolling eye people ignorant frustrating',\n",
       " 'jerk menopause yet vagina would dried reading comment',\n",
       " 'time broken dick joke shame',\n",
       " 'mother fucker using new found reading ability traipse posting history learning fact think spitting like secret every goddamn human earth going dry die bitch sound like aiming alone',\n",
       " 'dude got temporarily suspended comment removed',\n",
       " 'ahole report block nauseated face',\n",
       " 'ha get time also slut shamed typical men can not form coherent argument dig history find little nugget shut puny',\n",
       " 'someone said someone got sand vagina fb ago assured comment caused dry right use lube sit comfortably answer',\n",
       " 'asshole stuff make blood boil creepy weird',\n",
       " 'well ok people going use post history autism use suffered bipolar disorder use whatever use',\n",
       " 'asshole one reason people create multiple reddit account might want consider keeping menopause health related post one one account controversial view like late dinner another lol seriously way maintain privacy people get triggered start digging history',\n",
       " 'mummy issue',\n",
       " 'laugh ignorance tell happiest best version ever snarky miserable little boy stuck mommy basement need put people make feel superior sometimes throw wow mom must proud raised bottom feeding idiot somebody enjoys making fun older woman actually end lot fun trolling troll',\n",
       " 'guessing young woman insult calling dried vagina something like response post ageism guess proved point get tired ageism misogyny page thread thread show serious lack education around menopause using medical condition biological process insulting someone even acceptable',\n",
       " 'name go light starting pinching hand',\n",
       " 'god men deserve air block',\n",
       " 'moisturize vagina stuck shitty personality joy wonder around age seen threat tired shit vocal want approval certainly care fuck go insult based age meanwhile counting day last fucking period cause done',\n",
       " 'complete asshat said would love way make subreddit private',\n",
       " 'find history try r tinypeniscommunity r douchenozzle return favor dick',\n",
       " 'wow jerk go posting history hope gold throw back nice comeback like mother must disappointed way turned grown child thought world assaulting people physical difference invading privacy obtain virtual weapon intellect insufficient task discussion disappointed sad',\n",
       " 'well handled call b part nicer would told losing testosterone speak come talk hit evil laugh think responded wrong thread sorry',\n",
       " 'well sound mannerly',\n",
       " 'first rule cheap shot never go defensive always offensive respond content go insecurity quick history search name find lot material anyone us someone history undeniably hiding think republican understand rising garbage anything case garbage need taken back beaten feel like okay use menopause slay man else rage use',\n",
       " 'go walking every day start usual attire colder weather often find shirt tank top carrying winter coat fellow commented respond smile menopause bitch unpredictable think piecing eye snarl help shut trap shuffle away',\n",
       " 'sigh stopped several time posting question observation want particular post history weaponized',\n",
       " 'sound like usual misogynistic reddit incel block let shout void',\n",
       " 'terribly creative go digging like bored dog yard day yutz',\n",
       " 'imagine people like reddit year old like talk big try let ignorant childish crap get head sometimes get reddit feel like jr high',\n",
       " 'reddit breeding ground incels boy man likely never even seen vagina real life sorry happened try take personally much oh men think losing argument always attack something look feminity mean insecure men law school funny saying fact side argue fact law side argue law neither attack opposing counsel',\n",
       " 'oh like man getting anywhere near vagina worry though stalking sexualized violence site somehow normalized okay hope flagged reported likely much',\n",
       " 'look want dm username fine thinker link offensive comment sub happy send gps coordinate beehive go stick penis much needed enlargement please take good care lovely civilized self',\n",
       " 'people feel need resort insult entirely something one choice tell desperate try feel better pitiful fragile self guy think comment actual criticism feel sorry',\n",
       " 'sorry happened unfortunately reddit full incels misogynist day might consider downloading nuke reddit app m edge running usernames time time use remove post overwrite delete comment',\n",
       " 'sure say lot damn thing',\n",
       " 'tell poor etiquette',\n",
       " 'thing reddit certain subreddits seen subscribed sure kind thing happen point reading run in thought people nice etiquette sub maybe subreddit called something obscure wheresmyestrogen isitwarminhereorjustme wouldnt upset poor widdle teenage boy sensitivity',\n",
       " 'block able read',\n",
       " 'awfullllll ugh etiquette thread disappointed relieved disappointed relieved first time pleading face sorry dumb',\n",
       " 'someone instagram yesterday told old ugly really wanted shoot snarky back ironically case started thread compassion lol',\n",
       " 'wtf hope reported as',\n",
       " 'use different profile menopause',\n",
       " 'unbelievably rude btw toronto typically eat dinner',\n",
       " 'creepy must rattled pique curiosity much would troll',\n",
       " 'etiquette sub',\n",
       " 'lol menopause excuse question',\n",
       " 'haha little fool know hard could rock little world felt like face hand mouth',\n",
       " 'well time looked history look like men couple post calling men daddy explains found past men extremely misogynistic generally bisexual undercover gay explains respect woman know might get voted personal observation bisexual gay people good friend gay',\n",
       " 'think really scare men woman might completely beyond even considering sexual relationship rendered bad thing denigrated little creepy checking post tho',\n",
       " 'husband using hurt',\n",
       " 'joy joy right like bothered go posting history give af legit said bit late dinner went unhinged',\n",
       " 'like tell calm need get hysterical',\n",
       " 'thinking thing',\n",
       " 'right bad look',\n",
       " 'mad limp dick prolly projection finest idiot',\n",
       " 'looked guy omg fucking turd know mansplainer say thing like everyone know goyard luxury brand tiktok passe lollllll',\n",
       " 'unfortunately never woman invisible many dr phil show regarding considered old hag men get distinguished age bunch bullshit',\n",
       " 'excellent point stupid pm joke insult menopause insult sick',\n",
       " '',\n",
       " 'agree heard nasty thing bit jarring hurtful husband narcissistic picked vulnerability insecurity treading new territory mocked photographer got brain talent literally told last night used get look look gone pissed huh pissed password protected everything acting like something hide deep porn yeah putting bothered lost trust discovering lie asking question made angry feeling hurt porn made start throwing look face thing thought looked ok according think lost look punishing insecurity jealousy porn using menopause',\n",
       " 'call guy middle night say creepiest voice hang say menopause fun',\n",
       " 'wrong people',\n",
       " 'aw bless impotent',\n",
       " 'woman never say well short year limp city hope swallow pill get never hard also reminding testosterone go alarming rate starting mid twenty dht keep shrinking hair follicle dad body come joy aging native woman wink smirk',\n",
       " 'wow person need learn keep mouth shut good response',\n",
       " 'as said yes called low testosterone limp dick pee every minute',\n",
       " 'mean hope natural part life dumbass lol',\n",
       " 'would said well better get ready duck',\n",
       " 'creep',\n",
       " 'promptly set fire done gone house mod said hey house mod flagging asshat relative please ban house cool cooky mine g bye',\n",
       " 'male menopause go',\n",
       " 'dried kitty probably better chance getting laid tonight limp little button dick',\n",
       " 'show person see woman general feel sorry woman life still',\n",
       " 'good point although based history woman relationship men ie servitude chattel etc really crazy unfortunately recently actually forge identity everywhere world clearly',\n",
       " 'ever going get',\n",
       " 'ohhhhhh nice heart',\n",
       " 'good',\n",
       " 'really good point calling someone old insult mean everyone age second come womb virtually personal failing involved growing old fact rather opposite managing stay alive',\n",
       " 'menopausal mafia rescue hot tired hormonal piss u',\n",
       " 'joy joy hid post profile',\n",
       " 'agreed keep banging date anyone like want anyway oh face rolling eye',\n",
       " 'skin care sub people legit miserable look anything fight',\n",
       " 'horrible message chat one message even try message comment post convo interested private conversation forum people creepy amazing heart',\n",
       " 'misogyny always crossed race creed political line misogyny brings everyone together p',\n",
       " 'found among young progressive woman disheartening men throw insult usually project difficulty reproductive organ aging woman say something like show internalized misogyny ageism use term menopausal insult call woman dried even depressing woman believe progressive feminist say thing progressive feminist think like even want think old fashioned one think probably want put older woman block ice send adrift like remind people unless accident disease take young everyone age seed plant reap old age better start planting good stuff',\n",
       " 'last night still first going go thought attention troll crave ignoring',\n",
       " 'want add term karen beginning actually used racist white older woman often used shame woman speak become quickly sexist term used shame woman speak care karen defending unwanted sexist insult',\n",
       " 'little shriveled dick energy way worse dried vag least use lube',\n",
       " 'skull skull emoji modifier fitzpatrick type emoji modifier fitzpatrick type',\n",
       " 'crown',\n",
       " 'good advice need another email create multiple account',\n",
       " 'douchenozzle rolling floor laughing rolling floor laughing someone really need start sub rolling floor laughing rolling floor laughing',\n",
       " 'honestly worth would horrified child treating people like online raised right',\n",
       " 'someone suggested two account one stuff like one general posting case troll target u',\n",
       " 'lmfao sticking penis beehive much needed enlargement joy',\n",
       " 'http www reddit com r etiquette comment miwje friend requesting change group dinner j dz e utm source share utm medium io app utm name iossmf context',\n",
       " 'blocked mod responded',\n",
       " 'probably triggered mom stopped bringing chicken nugget gaming station getting late woman heartless chicken nugget withholder',\n",
       " 'thinking dude intimately familiar bone dry vagina',\n",
       " 'fair menopausal dried bit find hard get dinner table reasonable hour day maybe significant issue pm dinner misogynistic asshat likely hungry old git stuck tongue winking eye',\n",
       " 'well bit late dinner lol',\n",
       " 'bit late dinner yes undoubtedly way late body almost bedtime',\n",
       " 'lol bit late dinner made go berserker good lord',\n",
       " 'late dinner lolol sound like bit touched',\n",
       " 'calm yer tit kid',\n",
       " 'bwahahaha love know phrase hysterical come using ironically make even hysterical',\n",
       " 'lol',\n",
       " 'holy shit think found frasier crane reddit account',\n",
       " 'sure going find come dried pussy goyard bag actually either hah',\n",
       " 'high school lame superficial',\n",
       " 'omg guy algorithm wound looking bunch thing guy apparently collect around competitive thing watch espresso maker know nice thing youtube think want diet jordan peterson scott whatshisname writes dilbert worst worst history video omg might watch philomena cunk lot purpose confuse',\n",
       " 'call men daddy see post',\n",
       " 'might care anything men getting paid real people making thing move work allll woman',\n",
       " 'omg hilarious probably really regret comment',\n",
       " 'lol',\n",
       " 'tell',\n",
       " 'gross misinformation lack education meanwhile back tiktok',\n",
       " 'flacid little worm sad pray folded hand medium light skin tone',\n",
       " 'joy',\n",
       " 'true good one',\n",
       " 'started wife sushed sp si spared bc like temper fierce',\n",
       " 'amen',\n",
       " 'look like button fur coat dee reynolds',\n",
       " 'would argue show see woman inherent incalculable value happy face smiley fuck em',\n",
       " 'make sense context horse ride still us',\n",
       " 'ty',\n",
       " 'yes recall work year back bos laughing joking sweating fanning saying oh hot flash front co worker bastard',\n",
       " 'come blazing motto zany face',\n",
       " 'got right grrrrrr',\n",
       " 'joy',\n",
       " 'still see post comment',\n",
       " 'reddit person hide post post hidden feed mean one access hidden post future person deletes post person access including even way see someone else post deleted',\n",
       " 'going see many comment people say stuff like well judging post history ugh never look',\n",
       " '',\n",
       " 'ya right guy insistent everyone get invasive procedure like botox filler face lift looked like dried old menopausal hag begged differ went especially teenage gamer kid know problem followed reddit even posting sub reported started dming',\n",
       " 'learned post turn messaging thank',\n",
       " 'block ofc',\n",
       " 'etiquette sub well think mod active suck',\n",
       " 'happy karen need bitchy slutty self big reclaiming word meant insult wink',\n",
       " 'service called rent karen want woman know get customer service bullshit taken care',\n",
       " 'hmmm good question mobile go profile username drop menu add account bottom give option create account using google apple id email already couple email used different one know eta link http techswift org add multiple account reddit',\n",
       " 'truth',\n",
       " 'bitch posting skin care sub obviously terrified regardless gender aging coming pike understand one day hope weekly callback moment called someone dried see really feel like',\n",
       " 'http www reddit com r etiquette comment miwje friend requesting change group dinner j vl utm source share utm medium io app utm name iossmf context edit also reported blocked',\n",
       " 'breast get tho',\n",
       " 'bingo right',\n",
       " 'insult saving may come handy lol',\n",
       " 'best comment ever',\n",
       " 'joy sad funny thing probably spot',\n",
       " 'joy',\n",
       " 'lmao joy',\n",
       " 'ha ha ha ha ha',\n",
       " 'probably fifteen year old pro asshole',\n",
       " 'right digestion joy',\n",
       " 'past bedtime u',\n",
       " 'lol made think nile though lol',\n",
       " 'competitive thing',\n",
       " 'nothing else get good dose philomena cunk always treat',\n",
       " 'exactly would asked pull pant use bathroom ball sack fall toilet joy',\n",
       " 'shared woman office men got educated laughed said try get bitchy one guy said mean going get worse started laughing started laughing really bad took anger computer',\n",
       " 'yeah asshole get homicidal',\n",
       " 'ugh really hid',\n",
       " 'hate people',\n",
       " 'go avatar top right go profile post click three dot dropdown give option hide',\n",
       " 'loser people lacking real life attention interaction force people online complete dick order get response response response attention attention someone get',\n",
       " 'report way earlier like soon harassment start shit wild',\n",
       " 'welcome harassed',\n",
       " '',\n",
       " 'probably expect level ridiculousness disrespect etiquette sub joy maybe lost',\n",
       " 'joy',\n",
       " 'love may leg thigh',\n",
       " 'lol',\n",
       " 'rolling floor laughing',\n",
       " 'nile much respect lady wink smirk',\n",
       " 'hide',\n",
       " 'unfortunately hide activity anyone else dumb feature tbh',\n",
       " 'option hide unfortunately save delete',\n",
       " 'know right one get passed annoyance anger awful comment generate end feeling sorry whether realize got pretty miserable empty existence believe say kind stuff',\n",
       " 'heart',\n",
       " 'treat way hey little boy lose way mommy basement find nice mod help would like cookie',\n",
       " 'thank',\n",
       " 'mother',\n",
       " 'sometimes get sleep sometimes',\n",
       " 'nile jerk pro male tennis player foot going knowledge',\n",
       " 'well tried apparently hide click avatar post dot dropdown hide work though',\n",
       " 'really would want hide dumb thanks letting know',\n",
       " 'go profile setting found feel like default annoyed guess realize option',\n",
       " 'frown sad andry pouting',\n",
       " 'seriously brother one failure launch type still life parent job spends entire day online striking argument woman platform gotten banned yet lonely lot past substance abuse problem kind social contact people outside family skill form positive bond target woman want relationship interaction know positive one emotionally handle rejection desperation lead therefore negative interaction control outcome sometimes tell really detailed story landed zinger one woman met online really seem think engaging kind relationship go far beyond trolling woman experience think every time see reddit guy zillion post downvoted following poster around harass think relationship woman likely relationship woman appalling literally entire social life',\n",
       " 'wish could hate confrontation troll vile want attention extended period time',\n",
       " 'believe pleasure',\n",
       " 'lol exactly really foot really surprised considering took someone mat calling lower class individual wanting others take shoe indoors given foot fetish think team shoe house baybey slurrrrp',\n",
       " 'wait whaat laughing big grin laugh glass',\n",
       " 'lol right dumb feature',\n",
       " 'thanks try heart',\n",
       " 'deleted',\n",
       " 'snarky enough put place actually enjoy making feel impotent actually kind fun watching blow gasket trying outwit get bored trolling troll kind fun sometimes',\n",
       " 'call everyone low class elite disagree anything also like brag work state department something slobbering pro athlete honestly least annoying relatable thing',\n",
       " 'made mistake looking rude guy history since fair play judging people personal activity glass house',\n",
       " 'deleted',\n",
       " 'another switch block content view assuming mean post edit profile page one chose hide community',\n",
       " 'omg lol thinking kelsey grammer scandal something reddit dingdong phew',\n",
       " 'turned well still hide anything',\n",
       " 'thank goodness',\n",
       " 'african laying woman family keeping quiet apparently need make noise get breaking chain making lot noise interesting aunt cousin year older piping symptom probably thing also told westernised become soft sweat smile',\n",
       " 'lol india woman deal according top gynaec saw taboo topic unfortunately woman seek help unless major physical issue like heavy bleeding funny thing hrt easily available pharmacy without prescription woman know zero education peri menopause',\n",
       " 'say every gyn condition u westerner spoiled generation asian family menopause issue pretty taboo even remember mum poking fun grandma symptom came early surgical wanted keep cycle taboo gaslighting suffered b refuse f f ignorant lazy doctor',\n",
       " 'doctor outright lying reason dont hear much woman health u iam indian woman health le taboo subject people find topic cringeworthy uncomfortable talk openly menopause menopause dosent exist biggest fear perceived whole woman hereon iam atleast breaking chain iam went menopause turned openly discussed kid friend sometimes find amazing big group friend iam one experiencing menopause symptom rest even admitted menopause go',\n",
       " 'live u born raised south asia indian woman tend enter menopause earlier rest world south asian also highest rate severe heart issue incredibly high rate even maintaining low weight doctor think diet post colonialism especially recent dependence rice hear woman complaining hot flash little kid hear complaint especially hair texture change moodiness',\n",
       " 'time find new doctor',\n",
       " 'live east asian country soutb asian seems like woman content living symptom hair loss loss libido certainly much weight gain woman thin begin know cascaded benefit also lot traditional remedy acupuncture sure lot robust data backing sure work strike woman seem content slide next phase life sideways early retirement filial piety patriarchal value seem play yes may fewer symptom masking better also framing role life sit corner become respected old lady cared u luxury certainly u would chose',\n",
       " 'eastern woman biologist perimenopausal diet play important role general health shown play role change development puberty eg late early onset puberty found study indicate diet fully contradict symptom caused massive erratic change hormone production either puberty perimenopause others said time find new doctor want confront doctor ask reference study led conclusion',\n",
       " 'course menopause behavioral problem come punishment subgroup woman lifetime western excess biochemical change come decline circulating estrogen yeah entirely possible diet intestinal bacterial community dynamic environmental chemical genetics play role might see difference based geography culture population genetics even true since hrt currently prescribed treating symptom really matter particular aspect western life exacerbating estrogen issue issue reason doctor treating really academic exercise wonder million puzzle piece configure amplify reduce symptom average across entire set continent',\n",
       " 'african woman height peri apply western card every older female relative knew young became shadow former self reached certain age know peri menopause',\n",
       " 'bit reductionist hope also talk oriental call husband discus hysteria sarcasm aside common sense would say lot factor involved different people deal menopause even within culture',\n",
       " 'think full woman live long enough going go regardless culture deal accurately deal evolutionary fact world wide diet significant impact someone would figured make money advertising would everywhere speaking evolution seems several branch lower current homo sapiens',\n",
       " 'would love know purchase hrt without prescription underserved health area many doc either dismissive knowledgeable menopause treatment issue routine testing mammogram exam hate held prisoner protocol need mammogram every month pap smear certain age insurance cover hrt tune body nearly year experience healthcare trust assessment health status v someone concerned profit wish watch symptom try listen body basically boil love hrt joint heart health skin hair issue worst symptom atrophy pellet year became disillusioned time positive side effect time tell difference basically get estradiol testosterone order overseas pharmacy',\n",
       " 'another way blaming victim sick health counselor saying change diet quit caffeine quit drinking quit stressful job exercise meditate day long like symbol goodness piety fault unhealthy symptom way feel better take life yoga instructor monk eastern woman raised complain patriarchy people tofu',\n",
       " 'people claim homosexuality western thing course',\n",
       " 'many many year ago heard journalist saying japanese woman le issue consumed lot soy fish diet tried googling found website http menopauseexperts com menopause japan http menopauseexperts com menopause japan',\n",
       " 'doctor as',\n",
       " 'think need new doctor wrong r confidentlyincorrect',\n",
       " 'mom symptom quiet certain part world still much entrenched patriarchal view way thing speak still experience symptom deal',\n",
       " 'yeah totally like crew magical multiethnic disney princess',\n",
       " 'indian recently asked mother menopause asked hot flash etc told menopause happened mention specific symptom',\n",
       " 'heard someone asian woman tend fewer menopause symptom may linked general conception diet high soy e g tofu etc sure true',\n",
       " 'methinks sucking unbalanced diet wellness holistic nutritionist influencers ignoring scientific data mention heaping pile misogynistic bullshit woman would eat healthier problem please write grievance letter practice insurance carrier',\n",
       " 'heard assertion would love know',\n",
       " 'fire as fill online report grade doctor run every doctor refered researching patient review site',\n",
       " 'first get new doctor also contact clinic current doctor make complaint doctor spreading information incredibly harmful patient basically told menopausal symptom created something actually biological condition total pseudoscience bullshit go scientific evidence secondly premature ovarian insufficiency since early also live state eat incredibly healthy diet large part life never helped decrease menopausal symptom came continue afflict diagnosis also seems afflict lot lady poi group live world suffer silence openly western world problem sorry happened',\n",
       " 'even western world older gen talk consider private matter suffer mother said bad dealt like mam absolutely',\n",
       " 'read menopause manifesto dr jen gunter helpful',\n",
       " 'thesis menopause chinese medical school research showed modern problem east v west issue modern mean lot medicine research west eastern put phase menopause west france fair also thesis acknowledged west sooner east likely due cultural difference modern writer book history menopause http www historyextra com period th century time change understanding menopause dr correct exactly short sited thing modern world amped symptom menopause many including exposure toxin could include food also many thing including drug especially modern stress also lot people planet make everything general people body prone symptom menopause due genetics lifestyle everyone uterus go menopause matter eat',\n",
       " 'diet exacerbate symptom sugar ultra processed food weight issue well full breakdown middle menopause diet one component',\n",
       " 'another way dismiss woman woman health',\n",
       " 'eastern world face rolling eye',\n",
       " 'incredibly reductionist statement however diet impact health general clearly hormonal health consider caucasian least amount diary intolerance happily consume diary lot stop moment think diary milk large animal meant make calf grow kg month take lot growth hormone sex hormone mention antibiotic largely used milk industry diary consumption alone men woman may become estrogen dominant fun fact soy product contain protective form estrogen could argue switching diary tofu may help hormonal health also thinking hormone disruptors exposed guess person living rural traditional way may lower level exposure menopause well pm pmdd could exacerbated western lifestyle',\n",
       " 'mom american caucasian lived asia dad asian little symptom able get rid hot flash drinking soy milk everyday kind buy freshly made street vendor taste totally different kind get supermarket u might validity around theory interesting live u perimenopause already symptom',\n",
       " 'get new doctor asap old school myth family ran business one employee husband like told couldnt eat meat made period longer couldnt take bath bacteria would crawl inside make dry list go fact medical professional told massive red flag need run fast another doctor',\n",
       " 'think cultural element symptom discussed disclosed talking openly helped many friend colleague live culture talking day vagina taboo fathom thing keep quiet get hiding unsavory woman issue think important difference across culture perception aging impact frame transition symptom etc negate physical symptom hormone fluctuation',\n",
       " 'please find new doctor deserve taken seriously receive proper treatment rutabaga going help',\n",
       " 'actually listening people podcast talk think evidence belief menopause going bad inconvenient otherwise harrowing actually contributes thing happening degree sense eastern culture negativity bias meno may may actually symptom le also modality like acupuncture aryveda good track record balancing body think acknowledge woman experience menopause also acknowledge mindset important symptom past decade probably try look natural process peri year heavy heavy bleeding tough hot flash panic attack biggie honestly mean going get hot feel like dying deal',\n",
       " 'east mixed heritage black native american call b doctor woman deal menopause perimenopause severity symptom much genetics diet culture environment sure east asian woman eat lot soy tofu mean never experience symptom culture better navigating woman health western nation evidence please read unwell woman elinor cleghorn detail depth failing medical system woman health world',\n",
       " 'time new doctor stand attitude every single thing happens u health wise fault led thinking could fix symptom worked harder ate even healthier diet already eat meditate yada yada yada bullshit ran ground thinking fault felt horrible time actually rare blood cancer got missed let see least five doctor six year would killed gone much longer without appropriate care stand care deserve person shaming fact geological location trust listen concern prescribe correct treatment',\n",
       " 'lot shame going menopause knew inevitable happening something hard acknowledge meant getting old wonder reason none friend relative talked rather silent misery acknowledge everyone else getting old everything changing hard consider better part life lived hair greying vagina like sahara desert energy level mood really shitty oh breast cancer twice last year able take hrt actually take hormone blocker stop little bit estrogen pituitary glad brain emits miserable old bitch lady able take hrt keep taking lucky',\n",
       " 'work global company session woman topic woman around world sharing community everywhere culture foster open dialogue others one thing hear woman asia appreciate american european taking talking openly',\n",
       " 'wondered time human development hormone affecting thing ingested spewed plant come home roost definitely transgendered issue think talk peri meno mainstream zeitgeist hit yet',\n",
       " 'thing soon started talking symptom older relative started saying going felt betrayed keeping quiet',\n",
       " 'become americanized many time hear talking mental health year ago taken seriously',\n",
       " 'sad men suffered doctor would got training year dot would getting hrt thrown u woman get doctor uk useless absolutely useless demand hrt say know menopause period month idea perimenopause either worse time',\n",
       " 'fascinating definitely silence family though oddly enough mom sister youngest asked went dismissive oh yeah happened',\n",
       " 'coming around talk pretty openly auntijis peer without much shame pretty engaging conversation start lucky enough get understanding gynae older woman informed option recommended get back onto bcp year considering form hrt cheapest easiest manage',\n",
       " 'awww poor woman india get sad woman treated like nd class citizen beautiful lady locked olden day hysteria menopause hrt knew definitely would topped maybe got locked',\n",
       " 'good point suffered even suffered really bad common woman experience general ignorance sometimes also spitefulness drive woman feel like symptom normal everyone around also making stink mother heavy painful period normal different doctor anything would different pervasive throughout woman life show best advocate feel like something right',\n",
       " 'like western woman generation ago',\n",
       " 'doctor think diet post colonialism especially recent dependence rice interesting also read heard dietary shift cooking butterfat ghee highly processed seed oil high omega fatty acid sesame oil peanut oil sunflower oil mustard oil soybean oil etc may play role current pattern health problem well u least oil still commonly promoted healthy interesting body research coming past decade seriously calling question starting look similar pattern told year margarine healthier butter learned trans fat far damaging saturated fat cardiologist dr pradip jamnadas discus issue shift fat source contemporary south asian diet online talk pretty sure first came across',\n",
       " 'seriously pissed op deserves better',\n",
       " 'yes curious source theory',\n",
       " 'grim',\n",
       " 'love description shadow former self exactly feel perimenopause',\n",
       " 'also culture atleast kenya family friend circle woman really allowed make talking something others talking public acting like good private suffering miserable high religiosity make worse',\n",
       " 'absolutely spot forget food organic etc microwave meal everything cooked fresh said war even though food rationed diet better today diet woman locked hysteria went see relative family member would whisper mum change hushed day',\n",
       " 'need overseas pharmacy found online company evernow sub beyond grateful spent year half bouncing regular gp gyno endocrinologist nothing pat head told blood work fine menopausal sent way month sheer misery mention evernow much people going start thinking work grateful help talk completely online assigned doctor visit virtually fill form ship hrt get estradiol patch progesterone pill mammogram every year supposed anyway month doc check via app highly recommend',\n",
       " 'buy everything use amazon estrogen cream dhea cream lot supplement thing get local progesterone pill',\n",
       " 'buy line uk',\n",
       " 'specie agree one problem homosexuality',\n",
       " 'interesting curious diet really consume lot soy',\n",
       " 'also effect alcohol estrogen metabolite sugar link inflammation',\n",
       " 'lucky hear older people oh never affected work people say oh problem need tell face miserable sin antidepressant sleeping tablet drink much cope menopause affect keep gob shut leave',\n",
       " 'wonder hard men get viagra kidding know super easy',\n",
       " 'mean think middle class woman past certain age seem overweight hip knee issue generally unhappy able openly talk might helped entire generation woman manage better',\n",
       " 'family life smaller tier city conversation prevalent unfortunately went visit find hrt open aunt certainly started conversation win',\n",
       " 'know sunflower inspirational plant even famous painter vincent van gogh loved sunflower much created famous series painting simply called sunflower',\n",
       " 'thought never unbearable',\n",
       " 'using good still follow need test get rx mammogram example yes getting like told anyone age prescribe anything cream spite telling pellet several year body overall suffering sudden withdrawal',\n",
       " 'give general idea cost start appointment monthly appointment monthly cost prescription refill',\n",
       " 'like evernow seem offer testosterone must max availability shot pellet guess unless drs ground dhea precursor',\n",
       " 'think cream buy online amazon fully trusted mean estrogen want prescription product',\n",
       " 'u',\n",
       " 'great point especially beer highly estrogenic',\n",
       " 'mom insists menopause symptom free blissfully slid period free life sometime forty call b also swears pregnancy glorious experience child birth painless even long labor call b odd year period never period cramp call b talk thing young woman life blindsided way body source pain time misery',\n",
       " 'mmmm seems like gross generalization got stats back',\n",
       " 'indeed tricky part finding good gynae give reasonable diagnosis treatment rather deal mom grandmoms deal literally invisible unheard older woman',\n",
       " 'like evernow month membership text nurse practitioner get back within hour perfectly helpful going complain symptom give lot cut paste response certainly need pay recurring month hormone prescription work try another combination eventually settle something working get another doctor prescribe everything evernow prescribes fda approved hopefully insurance pay standard obama care plan really prefer set winona online service seemed comprehensive offered choice would went except prescribe new york right',\n",
       " 'pay month evernow membership ordered estrogen patch progesterone pill charging pocket month planning make feel better getting script written doctor either gp brother law insurance pay',\n",
       " 'working well would offed country hrt menopause assistance unheard lot research experimented found work',\n",
       " 'yummy thing damn caffeine sugar alcohol know mom grandmother lifestyle ever',\n",
       " 'ex mother law described labor sensation pain absolutely b think supposed shining example generation complaining',\n",
       " 'omg also never period cramp b',\n",
       " 'speaking anecdotally observed actually study link class weight indian woman http www ncbi nlm nih gov pmc article pmc according study woman urban area overweight obese percentage woman higher hence mentioning middle class socio economic background far likely category ew economically weaker section study accounting woman age already weight disparity happens woman post child birth peri menopause study delve specific post pregnancy menopause however anywhere else world woman post child birth peri menopause harder time keeping pre childbirth weight hence assume woman group far likely overweight average pre childbirth woman eta study mention woman aged time likely obese woman year',\n",
       " 'doctor one knowledgeable educated wait official menopause still peri hrt lot u got ta find doctor know',\n",
       " 'peri started progesterone hot flash sleep disturbance mood swing choosing manage process treating symptom come working doctor keep functional refuse wait post menopausal start addressing family job life take year like mom year get doctor refuse hrt woman post menopausal ignorant fired imo',\n",
       " 'question drs recommend waiting year without period begin hrt many doctor understand menopause treatment option',\n",
       " 'know age lied frequency date last period get relief hot flash',\n",
       " 'peri flat demanded hrt group encouraged advocate worked',\n",
       " 'peri two female doctor tell symptom got bad let know would discus hormone replacement therapy point picked brochure waiting room menopause read get enough right information brochure done reading online get complete picture happening information incomplete conflicting several friend menopause ahead talk guess stigma one friend talk asked using folk remedy insurance use suggestion think folk remedy working hostile time written work twice rude people came reddit group started getting helpful information better picture going year menopause',\n",
       " 'physician waited put hrt last year period still pretty regular trouble sleeping figured time physician probably waiting due outdated information',\n",
       " 'also curious thank asking question wonder starting sooner would spared unhealthy weight gain couple year insomnia cause accelerated aging',\n",
       " 'peri hrt symptom',\n",
       " 'started hrt used otc progesterone cream called progesto life bought online absolutely helped sleep helped friend hot flash never someone class take called angel sent god also helped insomnia also got farther along cream help much asked gp progesterone sleep reluctant showed article pubmed study showing progesterone helped sleep gave rx mg nightly slept like dead',\n",
       " 'would wait hormone depleted counteract deficiency wait thyroid destroyed completely hashimotos substitute thyroid hormone bottom line doctor clueless still go around people head natural process meant human usually died young unfortunate loss follicle produce majority hormone ovary limited number viable follicle blunt cancer natural even plant lie take bet male stopped producing testosterone middle life would hundred well researched treatment option',\n",
       " 'cant take hrt option',\n",
       " 'peri started year ago age doc menopause hormone expert though',\n",
       " 'also peri take hrt symptom relief',\n",
       " 'sure would wait many u period still best guess hanging old information aka doctor keep',\n",
       " 'meno peri using hrt past year saw new gynecologist armed load info stating important hrt peri need see already board thankfully advocate good luck',\n",
       " 'still bleeding irregularly hrt stopped hot flash within week sleeping much improved still stupid period painful stop start think body still need bleed fat well really help lift weight time week walk still meno fat eat added sugar tried keto remain low carb gave keto making feel sick mostly vegetarian weight still budge accept extra pound must need lot internet sale people though willing sell snake oil fix wink smirk done buying crap good luck',\n",
       " 'actually neuroprotective heart bone benefit hrt full meno recent nyt article get doc misinformed',\n",
       " 'assume one might get symptom excess estrogen peri hrt like breast tenderness certainly severe first probably declined hormone extremely difficult balancing act anything easy went soon hot flash hit period even stopped many month also think ever know hit full menopause hrt bleed hrt pretty irrelevant compared symptom relief side effect hrt actual concern time recommend black cohosh yoga necessarily thc sleep though might really help',\n",
       " 'would period taking hrt',\n",
       " 'specialist said needed hrt right away day saw day period early hormone take least year sort many test ultrasound ct scan check everything else right ovary full egg chain pearl something lining day mm',\n",
       " 'hrt low dose estrogen progesterone pill form year still getting period dr perplexed gng see week discus dnc take hopefully put estrogen patch',\n",
       " 'started peri plan stop high cancer risk dr said recent bone scan one best seen honestly life changing fully menopause year want bone joint deteriorate',\n",
       " 'peri hrt',\n",
       " 'hrt full menopause moving final year though hrt post menopausal treatment generally specifically folk dealing unbearable hot flash night sweat key complaint see hrt offered least prescription based hormone level testing based symptom two people experience symptom hormone level folk symptom fully manageable symptom folk like imagine continuing one day month best hour greatly interrupted sleep night week week',\n",
       " 'full menopause hormone still fluctuating wildly impossible regulate dosage level unless get blood test every single day',\n",
       " 'got hrt perimenopause altough fsh level also one doc said end perimenopause fsh one said level matter still period moment really know period mirena iud',\n",
       " 'dr said much whether peri meno whether body still producing hormone way tell test hormone',\n",
       " 'reg pcp gynos misinformed plain lack knowledge viewed latest info hrt continue believe old study good thing ability see information new study hrt many many benefit search online different work one may work others sharing story help guide others look try find combo treatment combo treatment cause magic pill unfortunately wish best journey happy face smiley',\n",
       " 'hrt primarily manage symptom menopause start peri menopause also recent research suggests earlier start le damage heart reduce risk alzheimers hrt month currently month since last period',\n",
       " 'yes grateful found doc practice way took firing doc get always recommend taking answer advocate armed knowledge fold pressure',\n",
       " 'doc said could start hrt go meno bcp said functionally thing idk second statement accurate characterization layman',\n",
       " 'truer word also take year need',\n",
       " 'dam wish could u help find dr muscle weakness started peri yr ago specialist gona start hrt soon muscle tire doin almost anyrhing none drs help sparkling heart',\n",
       " '',\n",
       " 'sleep problem started hrt path early peri op need new doc',\n",
       " 'maybe weight gain started month symptom still period im still highest weight life maybe always agree sleep important though',\n",
       " 'even physician lecture sex hormone progesterone massively improves quality sleep metabolized allopregnanolone textbook knowledge even need study like basis start physician pharmacist similar neurosteroids allopregnanolone used anesthetic veterinary medicine potent lacking progesterone cause insomnia anxiety',\n",
       " 'men produce le testosterone age many taking',\n",
       " 'take mht hrt',\n",
       " 'look menopause barbie youtube aka dr barbara taylor explains option woman time',\n",
       " 'like wasting money snake oil fat heart',\n",
       " 'protection ongoing woman start within year menopause still see benefit probably much started earlier still valuable',\n",
       " 'long cycle still fully working help also cycle estrogen though breast tenderness usually happens starved estrogen already',\n",
       " 'fantastic recommend enough',\n",
       " 'maybe missed comment taking hrt heart',\n",
       " 'maybe missed comment taking hrt heart',\n",
       " 'maybe missed comment taking hrt',\n",
       " 'maybe missed comment taking hrt',\n",
       " 'getting period perplexing others sub boat',\n",
       " 'stayed bcp head would keep looking younger stopped overweight made prone blood clot opinion period still pill induced probably gone meno without symptom getting hormone pill doctor research worried bcp time risk factor like smoking etc switch yet know case period manageable pill thing think patch le estrogen usually adjustment period trying different dos adjustment period often brings spontaneous bleeding know stay bcp forever imo safe anymore heart',\n",
       " 'mht hrt proven beneficial still peri symptom also preventative benefit bone brain heart health mht absolutely post meno woman well symptom stop menopausal date continue long even without many symptom post meno mht still provides preventative benefit heart bone health',\n",
       " 'goal mht hrt regulate hormone reach certain level goal alleviate symptom know right dose symptom managed feel good overall',\n",
       " 'hrt menopause never dos blood level always dos symptom control definition full menopause peri completely arbitrary well year without period happens vastly different level ovarian competency different woman uterus response estrogen mostly uterus highly sensitive estrogen get period long time despite displaying clear psychological sign menopause well urogenital atrophy also even menopause sec hormone fluctuate cyclic nature continues happening veeeery long time cut peri menopause extremely arbitrary based actual hormone status thus experience symptom hrt treat also increase bone health reduces cardiovascular health matter started perimenopause work better earlier started rather forcing someone go year menopause symptom bone density loss deciding prescribe',\n",
       " 'pretty sure progesterone flattens earlier post menopause intolerable hot flash night sweat occasional one symptom estrogen low folk low estrogen debilitating hot flash prescription symptom based',\n",
       " 'functionally yes thing however oral estrogen progesterone pill carry incidentally higher risk blood clot stroke etc little choice type estrogen progesterone actual pill actual hormone therapy used instead able choose oral transdermal vaginal estrogen progesterone typically administered via oral route transdermal vaginal application carry virtually zero even lower risk blood clot stroke etc hormone available lower dos pill essentially provider denying wider variety hormonal therapy option also carry fewer associated risk p someone correct totally accurate fairly self educated topic thanks group well known doctor practical real world experience hormone therapy quite yet',\n",
       " 'asked provider hrt asked long go without period would consider said set time start prescribing woman want soon start symptom bother enough bring appointment even still get period every month info told seem second part doctor said necessarily true least completely told taking bc peri menopause necessarily thing hrt le flexibility maximizing prescription efficacy meet specific need dos hormone bcps often hrt fewer choice making small change dosing estradiol especially bcps contain progestin micronized progesterone latter bioidentical structurally natural progesterone found body former gyn give bioidentical hormone hrt whenever possible different low dose hormonal birth control pill ring patch teen early every single one made depressed suicidal raging good reason much like hit full menopause suffered year starting hrt estradiol patch mg weekly micronized progesterone mg capsule every night never experienced horrible mood problem hormonal birth control never long month time max trying stay see side effect would calm option inexplicably nut dysfunctional made preggers doctor put micronized progesterone capsule early pregnancy precaution terrified becoming unhinged anything felt better requested hrt gyn menopause told different reaction birth control pill v micronized progesterone pregnancy said suspect mood problem hormonal bc synthetic progestin possibly higher dose estrdiol bc would give hrt said seen thing many time hrt made mood sooooo much better asked bcp v hrt menopause peri friend difference still getting period sex regularly want another child needed perimenopause symptom treatment contraception told long sex sexual might get pregnant opposed sex used another form reliable contraception wanted prevent usually recommends regular hrt perimenopuase bcps many reason partner agreed go started sex chose another birth control method reviewed period year year old said worry bet money would never get pregnant even tried real hard sure joy pretty much figured case good hear doctor explained hrt meno opposed bcps control finding correct balance dose estradiol dose progesterone change independent bcp dos estradiol progestin package deal one pill said adjusting estradiol sweet spot usually primary factor optimizing symptom control also sometimes adjusting ratio estradiol progesterone reduce eliminate spotting might occur play ratio bcps addition hrt peri menopause using separate estradiol progesterone prescribed continuous cyclic regimen e estrogen time woman take progesterone every day whereas take cyclically choice bcp whenever taking pill getting hormone assuming still uterus another potential difference hrt v bcps peri menopause woman without uterus prescribed estradiol alone take progesterone prevent excessive thickening uterine lining though anyway help lot thing like sleep doctor explained sure hear different thing different people think important thing woman going comfortable confident provider treating give information possible info feel like giving back whatever protocol usually prefer give let treat like every woman see listen feel understood flexible within reason ultimately whatever plan decide together meeting need good luck',\n",
       " 'hormone expert',\n",
       " 'year wish crap started year ago massively hit last month',\n",
       " 'wait noticed energy take dog time change patch let know much estrogen helping energy stamen',\n",
       " 'deleted',\n",
       " 'crazy much easier accessible woman always pushed towards antidepressant drug instead given hormone thereof actually causing problem funniest thing ever doc next pharmacy work prescribing woman specifically year post last period nah venlafaxine',\n",
       " 'remotely sorry talking steady decline versus deep plunge',\n",
       " 'due breast cancer concern currently antidepressant effexor mood swing hot flash',\n",
       " 'blood clotting disorder',\n",
       " 'thank',\n",
       " 'feel like mental condition fat accept always seeking way toward self care food pitfall bad habit know amount supplement diet knowledge beyond basic know true whole food lot leafy green lower natural sugar fruit lean protein however need get fiber good fat goal rocket science love learn application mentally trying snake oil knowing want something someone else fix bad habit futile paying something guess lining pocket internet crook judgment done plenty disappointed make feel better healthier chase unrealistic goal body image yeah meno fat like also think refrain sayin fat fat hahhaha',\n",
       " 'feel like mental condition fat accept always seeking way toward self care food pitfall bad habit know amount supplement diet knowledge beyond basic know true whole food lot leafy green lower natural sugar fruit lean protein however need get fiber good fat goal rocket science love learn application mentally trying snake oil knowing want something someone else fix bad habit futile paying something guess lining pocket internet crook judgment done plenty disappointed make feel better healthier chase unrealistic goal body image yeah meno fat like also think refrain sayin fat fat hahhaha',\n",
       " 'feel like mental condition fat accept always seeking way toward self care food pitfall bad habit know amount supplement diet knowledge beyond basic know true whole food lot leafy green lower natural sugar fruit lean protein however need get fiber good fat goal rocket science love learn application mentally trying snake oil knowing want something someone else fix bad habit futile paying something guess lining pocket internet crook judgment done plenty disappointed make feel better healthier chase unrealistic goal body image yeah meno fat like also think refrain sayin fat fat hahhaha',\n",
       " 'feel like mental condition fat accept always seeking way toward self care food pitfall bad habit know amount supplement diet knowledge beyond basic know true whole food lot leafy green lower natural sugar fruit lean protein however need get fiber good fat goal rocket science love learn application mentally trying snake oil knowing want something someone else fix bad habit futile paying something guess lining pocket internet crook judgment done plenty disappointed make feel better healthier chase unrealistic goal body image yeah meno fat like also think refrain sayin fat fat hahhaha',\n",
       " 'cry reading right started hrt today almost year post terrified waited long',\n",
       " 'gyno bit concerned still bleeding hrt year',\n",
       " 'began hrt today mg estradiol almost year post smart peri done great service sure wish told obgyn hrt would help need power antidepressant diet exercise found great doc hopefully way functioning like somewhat typical human',\n",
       " 'bcp work hrt lot unpleasant menopause symptom bcp doc stop taking bcp waited month hormone test prescribed hrt currently taking mg estradiol per day hot flash night sweat jagged mood swing pee leak bcp',\n",
       " 'well explained gyn said use vaginal estradial',\n",
       " 'gyno',\n",
       " 'wow mine muscle tiring weak liftin arm risin chair even openin muscle energy im energetic thing oh gee',\n",
       " 'yes indeed hrt paired medical cannabis helped sleep tremendously',\n",
       " 'point option pushback want go',\n",
       " 'low dose testosterone btw testosterone opposite effect estrogen breast tissue unless using large dos converted estrogen relevant degree',\n",
       " 'blood clot risk found method delivery oral tablet risk found method delivery transdermal ie patch gel link research listed menopause wiki',\n",
       " 'know hard try worry much worry change anything better anyway start hrt early december year full menopause gyn told still provide protective benefit also try keep mind hrt may help symptom get way good thing health low energy mood poor sleep indirectly improve health taking best care prior hrt least full year physical mental energy much anything absolute minimum within week like different person better exercise motivated shop cook eat better actually get restful sleep actually laugh smile even talk people heck even brush teeth everyday smiley yes motivation mood energy bad sometimes skipped brushing teeth either suicidal raging never menopause mental health history situational reason comparison exerting effort actually go living brushing teeth seemed little le important completely went away le couple week hrt hope feeling water soon',\n",
       " 'worry seen lady start sixty maybe later remember started road better health enjoying life',\n",
       " 'want call expertise question heard anything hrt stopping menstrual bleeding admittedly year peri may missed information',\n",
       " 'yay happy let superb together',\n",
       " 'yay happy let superb together',\n",
       " 'yay happy let superb together',\n",
       " 'deleted',\n",
       " 'mean help taking dog laundry requires lot step thigh muscle arm trying swing help get stair feel like climbing mount everest maximum dose estrogen time really want best',\n",
       " 'oh see yes true patriarchy',\n",
       " 'yep pellet fda approved men woman use med spa get pay pocket',\n",
       " 'wow thank much relief feel knowing someone else understanding feeling',\n",
       " 'love much true well flushed',\n",
       " 'started low dose like week noticed big difference hf dissipated slowly getting energy lull hf coming back slightly doubled dose dont remember last time hf helped much though',\n",
       " 'omg thank u twin si doesnt horrible muscle fatigue hope hrt help gona start asap msg got question p positive ana sjogrens syndrome antibody none drs say doin thumb hurt weak typin ughhh',\n",
       " 'yeah big thing hollywood even young men want bulk bit get manly possible whole thing almost purely cosmetic',\n",
       " 'np wish could addition hrt joining sub helped feel sane also thankfully provided lot laugh never laughing anyone always much time actually laughing simultaneously since experienced stuff better cry wink oh hope feeling better soon feeling water soon unless feeling water something also help feel better menopause reduced desire proofread post',\n",
       " 'deleted',\n",
       " 'sure message anytime get right back soon',\n",
       " 'used wake middle night need change put towel change sheet morning frustrating happened quite time also use gummy night thc helped lot sure get mine mail order dr make get medical marijuana card state used lift weight run lot went zero interest coming back since work lose weight give least week start noticing change mine week good luck u girl go thru torture lol',\n",
       " 'awww thx grin',\n",
       " 'omg doctor quit putting burden self diagnosis u check demand time hard primary care physician proactively chat patient ahead perimenopausal year expect gorfinkel said bullshit part job chose primary care physician mean spend part practice focusing preventative medicine health wide variety physiological system directing patient specialist necessary menopause happen patient excuse covering physical gp said hey happy birthday time colonoscopy see hard would time like hey let start talking perimenopause symptom like minute bullshit say busy help patient absolutely common health information among barrier getting help gorfinkel said outdated information hormone replacement therapy menopausal symptom referred recently menopausal hormone therapy also doctor updating knowledge reading scientific literature least compiled review research relying whatever learned year ago med school presumably even sequenced human genome half doc school mean get throw hand air shrug tell genetic mutation make susceptible cancer welp never learned med school possibly expect help',\n",
       " 'men go bullshit precise exact spot fucking reason help u zero education peri meno fuck gon na break cycle set female around world success rather suffering enough enough',\n",
       " 'reminds year ago pain lung took month finally get diagnosis blood clot lung male gp male pulmonologist ish diagnosed pneumonia due cloudy spot lung seen x ray several round antibiotic several x ray later ended emergency room pain severe breathe x ray ct scan something female er doc said dimer level way high caused hormonal birth control say birth control causing pain link blood clot could false positive level caused medication talk gp pulmonologist treatment given pain med go another week got second opinion another pulmonologist male said pneumonia rather blood clot due birth control taking test determine active clot immediate risk dying week birth control dimer level back normal x ray clear pain though always nodule lung even though er doc saw dimer level something first doc think look connect dot blood clot bc cause problem doc often think dig deeper frustrating regardless gender guess glad happened know take hrt might worse reaction might riskier',\n",
       " 'lol like care men would go haft hell called menopause would magic pill invented long long long time ago',\n",
       " 'tell u something already know',\n",
       " 'yes keep making boner pill though',\n",
       " 'never even heard perimenopause full blown menopause',\n",
       " 'physician say none mine ever frown sad andry pouting',\n",
       " 'least written information available room eg menopause easy',\n",
       " 'know think husband woman perimenopause would love something relieve symptom grinning',\n",
       " 'husband internist last regional conference nams speaker visit reviewed new guideline seeing bullshit super excited relieved basically practice encouragement treat perimenopausal woman taught job gyns many also fuck right ignorance internet rando nurse evernow could treat people ahem using basic algorithm pcp certainly capable handling',\n",
       " 'live get annual physical province away decade ago expensive longer access gps paid minute appts regardless long spend payment fixed year office rent staff equipment keeep going get paycut year excuse tell u reason hell take week book appt gp system falling apart least dr million people area get one without gp get mammogram cancer agency let one dr send result',\n",
       " 'previous issue pre cancerous cell leep etc go see gp regarding new body change asked could possibly related peri menopause since started insisted seriously absolutely possibly related perimenopause yeah wrong',\n",
       " 'often specifically make appointment discus say ur dur breast cancer risk minimum amount treatment manage hot flash grrrrrrrr still angry',\n",
       " 'blame doctor nurse cog huge system healthcare worker autonomy used employee hospital system insurance company government doctor actually get penalized reprimanded spending much time patient also guessing fight insurance get thing covered sad system',\n",
       " 'corrected say time unless willing reduce paycheck see le patient doctor thousand patient time becuase got ta sweet sweet one er salary accepted salary club could',\n",
       " 'deleted',\n",
       " 'misogyny men want woman successful',\n",
       " 'mom spotting couple year menopause since woman taught menopause thought maybe one thing happened turn normal sign cancer later diagnosed early enough able get hysterectomy got rid spread year still knowing normal body discussed would pretty fucking helpful',\n",
       " 'also massively underfunded research result historically sexist bias medicine course',\n",
       " 'good god dear friend mine used say must live foot cross survived incompetence glad thank sharing ordeal',\n",
       " 'goodness ordeal glad sorted hope longer issue really get much help doctor',\n",
       " 'horrible pe find genetic blood disorder',\n",
       " 'mom almost died pe caused part bc favor bc counter safe people pretend absolutely human right monitored closely like med',\n",
       " 'absolutely especially think men age bracket peak earning year health issue effected mental health caused memory problem would front center doctor appt',\n",
       " 'yes remember learning puberty kid school pretty health conscious still knew little peri got hrt sheer luck told friend crappy feeling suggested seeing new doctor doctor dismissed symptom young menopausal symptom never mentioned many health related news website regularly',\n",
       " 'right phenomenal gp needed figure issue came blood test next time came appointment reviewed thing come action plan expect doctor omniscient use education intelligence help solve basic problem come meno predictable expected experienced half population rare disease get woman medical history require specialist lot u really standard decision matrix need information bit professional guidance much could summarized handed u specific age discussed thing start happening love gp definitely see meno specialist issue gynecologist expert wrong get think way',\n",
       " 'live u annual physicals part insurance really care gp get paid job address issue time together doctor take oath get paid big buck issue scheduling address union employer inattention harm patient job sorry province short doctor people lack medical care whatsoever canada',\n",
       " 'ah hello neighbour talking bc',\n",
       " 'suck',\n",
       " 'good grief must provincial thing ab access yearly physicals self refer year screening mammogram perfect try advocate every turn going get worse',\n",
       " 'canadian still get annual physicals',\n",
       " 'physicals awful still get yearly manitoba province live often thought moving elsewhere since climate cold winter want annual physical honest province cover le appealing',\n",
       " 'forget issue told could related weight sure tell woman neither weight need exercise',\n",
       " 'totally heard agreed least still freedom speech minute least filled correct information filled incorrect outdated erroneous info truly fantastic gp gynecologist sadly dire gp turn minute goldmine white board treatment room sketch okay liver take orally go inject go outcome different route body one route absorbing well injection also highlight thing blood test link specific blood level something result show interact worried number based interaction really love understands patient likely partner medical care understanding recommending something gyn meanwhile manages talk nurse double take expecting still sitting ask question anyway think doctor knack using minute really effectively sad get little choice business side medicine still really rising challenge',\n",
       " 'chosen medicine profession providing basic care patient huge disservice yes time limited mean address high blood pressure diabetes etc',\n",
       " 'except needing specialist implies unexpected medical problem arises menopause happening half population reach middle age issue effected someone bone health cardiovascular risk mental health would something primary care doctor would aware menopause different',\n",
       " 'primary doctor job wrote great dismay treat refer specialist gps must know enough perimenopause thing literally thread gps identifying symptom woman referring gynecologist sure job would diagnosing treating referring specialist literally entire job',\n",
       " 'also want pay existence',\n",
       " 'ridiculous',\n",
       " 'getting hysterectomy nine day reason knew call ultrasound started bleeding learned total red flag medical training average person learn wait year long looking',\n",
       " 'read article last week idea excluded study like jfc wonder',\n",
       " 'yep male normative',\n",
       " 'feel lucky',\n",
       " 'yeah could fatal count lucky worst thing came fine end',\n",
       " 'specific blood test said pulmonary infarction guess bad embolism',\n",
       " 'wow glad ok actually taking really bad cramp moving late taking without break period problem really many solution menstrual problem birth control harming lot woman',\n",
       " 'female gyno useless helping male gp saved day go figure',\n",
       " 'unfortunately two type people offered new problem learning searching thus learn new thing make great medical professional get larger second group nah dunno let send probpem someone else fix bothered make mediocre shit physician happens job person refuse remember change printer print send despite working job interface last decade one asking help problem nd time saying nah complicated weaponised incompetence every area life household chore especially physician job pharmacist university residency can not ever teach know even research continue became md much information education lay groundwork someone like gyn quickly read research treatment guideline understand fully able reach correct conclusion refuse use educational basis build especially part speciality foreign really snoring job money emotional investment',\n",
       " 'yes canada province like state really get paid big buck time pay overhead major dr shortage much world result care become reactionary preventative drs paid lot paperwork thing however get charged acute care thing hospital bill copays population growing fast everyone dr drs retiring drove new one surprisingly want work free get appt min canadian news piece reflectsthe system physicals dr shortage long wait short appts lot work drs paid',\n",
       " 'doctor u union',\n",
       " 'indeed shortage across country new physician master agreement compensate complex care getting physical',\n",
       " 'year mammogram allowed screening every unless issue wish care standardized across country',\n",
       " 'kid annual blood work',\n",
       " 'province need get flaming dumpster aka bc physical decade',\n",
       " 'loool work corporation u really think freedom speech since healthcare worker work hospital corporation really freedom speech personally may freedom speech however many people get terminated thing say social medium wherever majority state state let go reason unless state offer additional protection written company policy good luck proving',\n",
       " 'nurse chose profession naively wanted help people work within system literally prevents safely thoroughly even well distressing many u want different career believe say doc nurse victim whole thing',\n",
       " '',\n",
       " 'yet exist without u',\n",
       " 'weird thing say though woman make money wtf',\n",
       " 'certain genetic blood disorder make one susceptible clotting factor v leiden one factor also known prothrombin g factor blood thinner',\n",
       " 'oh yeah huge problem horrifically painful period since puberty basically zero option aside risking hormonal bc non hormonal copper iud place year',\n",
       " 'got recommendation mid life nurse hallway new pcp visit gyno ob helped mht excited old pcp ready help quit right got thing stabilized tragic',\n",
       " 'doctor many va hospital unionized work private sector sure',\n",
       " 'yes medical system across country collapsing description sounded especially specific bc though work bc cancer witnessing collapse inside utterly depressing staff shortage across board doctor nurse due burnout making thing even worse',\n",
       " 'child get adult unless dr essentially make reason still pay bc least chronic condition monitoring le ideal may vary somewhat province province make rule regarding health care delivery',\n",
       " 'bc',\n",
       " 'menopause hit outlived usefulness',\n",
       " 'yes dependency scare men get scared get angry lash woman male trait general tend fight lean towards flight extremely large boyfriend understand literally run loses temper start yelling',\n",
       " 'men want woman successful also want pay existence',\n",
       " 'agree misogynist af',\n",
       " 'pulmonologist second competent one felt pretty confident birth control caused went dimer level went problem since',\n",
       " 'helped time got figured six month away last period anyway relief gyn think adenomyosis hard diagnose sure',\n",
       " 'say va mean veteran administration virginia',\n",
       " 'yep awful people dying year bc pap took month result due backlog work several arm healthcare terrible govt also knew coming year nothing meaningfully address',\n",
       " 'bad kid family doctor called u couple time even lockdown make sure feeling well address health concern manitoba',\n",
       " 'daughter almost seen family doctor time walk since family doctor taking patient wish could get physical someone monitor current health condition properly seriously people move bc value health',\n",
       " 'confused longer get pelvic exam menopause thing tend fall apart quite literally get older health sex organ suddenly unimportant magical age hounded get annual gyn exam probably say continue exam needed woman report problem many older woman reluctant bring problem',\n",
       " '',\n",
       " 'repeating disgusting attitude friend',\n",
       " 'misogynist state misogynist think',\n",
       " 'thank',\n",
       " 'good news best',\n",
       " 'copper iud often make period worse actually though noticed difference thing actually made period better anorexia stopped recovered',\n",
       " 'sorry even think possibly virginia veteran administration',\n",
       " 'yeah recently waited month pap result month colposcopy showed precancerous cin another month leep fortunate cancer poor woman though',\n",
       " 'family doctor sound absolutely wonderful',\n",
       " 'yep year old mother travel knee replacement thankfully found blood disease along scary high blood pressure specialist say need gp montor stroke heart attack thing get told say one help sorry absolutely need area going help horrible',\n",
       " 'wondering thing day went menopause early mentioned pap smear since',\n",
       " 'also ovarian cancer silent killer every woman covered insurance annual ultrasound check ovarian cancer dr shove finger try palpate ovary apparently pretty crappy method trying detect also f cking hurt expected suffer also far gone even manage detect way get scan breast every year getting ovarian scan annually',\n",
       " 'bring problem largely ignored',\n",
       " 'lol friend even know know appreciate trying insult die hard feminist good saying anything belief fact matter woman often paid le men type job usually paid le even though often important caregiving yet government full mostly men want put money thing like social service helping people field contain mostly woman many men wife live girlfriend help pay rent yet men want woman successful want fund thing like social service caregiving service mostly staffed woman want increase tax men much use type thing',\n",
       " 'come like sounded like defensive man',\n",
       " 'weird many downvotes misinterpret something dude bros hanging menopause sub',\n",
       " 'sorry dealing friend mirena say made much better guess wrong type',\n",
       " 'get pap smear year low risk hpv sexual partner history abnormal pap smear fine menopause getting detected benign polyp exam know prefer stay safe healthy',\n",
       " 'someone year old aunt surgery chemo radiation reproductive system cancer really recommend stopping pap getting never would chance time cancer noticeable',\n",
       " 'best luck',\n",
       " 'still need pap smear menopause',\n",
       " 'interesting ontario canada think stop recommending ask doctor next year',\n",
       " 'still pap smear recommended need skip still got cervix',\n",
       " 'last pap smear recommended continue pap past menopause mention personal choice curious continued get pap stop menopause',\n",
       " 'yup finished menopause symptom officially post menopausal saw gyn last week negative pap smear negative hpv pap smear woooooooo anyone question gynecologist year trust implicitly explained research make total sense feel happy done chapter',\n",
       " 'interesting',\n",
       " 'would rather blood test like developed prostate cancer',\n",
       " 'sound delightful go',\n",
       " 'huh oblivious time going along annual pap one year said well stop taking regular pap age done want pay otherwise think time one since never hpv never anything negative pap result annual last october take one u feel stupid asking always trusted everything required idea yearly rule stopped certain age luckily never felt uncomfortable test',\n",
       " 'concur others post implies post menopause woman need pap pap moment discomfort literally save life stop people getting reproductive cancer age',\n",
       " 'congrats obviously taken good blessed continue new way purple heart',\n",
       " 'know pap uncomfortable clear would want one discomfort exam',\n",
       " 'pap recently roughest painful ever practical nurse went overboard cranking open speculum complained regular nurse afterwards sure else',\n",
       " 'op pap smear always painful relieved done anymore',\n",
       " 'pay pap live canada pap covered healthcare system',\n",
       " 'preventative screening pap age group recommended every year plus covered insurance figure nothing lose everything gain',\n",
       " 'good everyone exactly want glad good best everything year come heart',\n",
       " 'trust doctor reasoning lot reason terribly concerned hpv never never hrt zero family history lifestyle risk miniscule concerned everyone else whatever feel best depth discussion doctor decade done research talking medical specialist feel fine also wondering aunt cervical cancer pap smear detect cervical cancer woman reproductive system cancer detected pap smear',\n",
       " 'thanks pretty happy',\n",
       " 'unless compelling reason',\n",
       " 'cancer care ontario stop regular screening pap test age normal test previous year',\n",
       " 'definitely post menopausal big part consistent negative hpv test result year',\n",
       " 'good woman stoked choice see health exactly see fit',\n",
       " 'done like crispy side done covered throughout thread wonderful evening',\n",
       " 'please link research',\n",
       " 'know finish line pap smear exciting',\n",
       " 'wait post meno mean get pap smear anymore thought post every year',\n",
       " 'yeah expecting peanut gallery go according capable gynecologist testing negative multiple time hpv leaf incredibly low nil chance cervical cancer take still need mammogram one le thing crap pile add hrt think need pap smear going forward still researching though anyone info please post',\n",
       " 'interesting mean would problem getting gyn told like hpv test come back negative say goodbye pap smear surprised guess figured kept going forever think hard fast rule stop well post menopause seen whole time long well also ob last child year ago listened gripe year symptom quite honestly took surprise especially panic anxiety attack never menopause gave option always like appreciated honesty also told would eventually pas whole timing wildly individual depending woman period almost year one day stopped never anything symptom continued year ago slowly decreased pretty much non existent great panic attack roll around intense used honestly think result weird crap happening world day',\n",
       " 'fantastic make choice part freedom choice especially woman freedom feel best healthcare tell anybody else conduct regard health choice share experience expect others choose choose woman choose best individual basis exactly',\n",
       " 'thank yes worked keep top thing peri menopause walk park sure grateful side thought pap forever pleasantly surprised least particular case',\n",
       " 'gynecologist told need anymore risk factor hpv need research hpv positive main predictor cervical cancer pap smear detect woman reproductive cancer uterine ovarian',\n",
       " 'sorry occasion went like seemed staff maybe competent',\n",
       " 'trust doctor say needed confident personal decision going forward asking advice',\n",
       " 'amazing health care coverage unlike many american covered completely need see zero reason done',\n",
       " 'sure fine vaginal exam pap',\n",
       " 'never hrt clarify hrt increase cervical cancer risk fact hrt protective effect hormone replacement therapy cervical cancer http pubmed ncbi nlm nih gov',\n",
       " 'aunt also never hpv almost cancer family yes everyone best think hellbent trying prove point harm continuing get pap misleading suggest menopause something need anymore aunt otherwise incredibly healthy active young year old obvious risk factor thankful still pap done love much still much life left live',\n",
       " 'check cancer pretty important',\n",
       " 'lol post meno long way guess still awhile yet',\n",
       " 'sure would conclude arent necessary advised anymore cervix',\n",
       " 'http www cancer gov news event press release hpvscreeningpredictor',\n",
       " 'recommended',\n",
       " 'either pretty stoked info sure like everything else differing opinion trust doctor great',\n",
       " 'usually every year recommended post menopausal woman never positive result even yet doc wanted stop pap smear entirely would probably get another doctor',\n",
       " 'gynecologist told last test hpv came back negative done never taken hrt family history',\n",
       " 'go getting every year welcome break advice keep eye atrophy symptom diagnosed around year year earlier scheduled pap back yearly hrt',\n",
       " 'sound totally sensible expert',\n",
       " 'yeah mine stopped well put bc lifetime whenever flow cut time almost none really definite time think crap happening world definitely impact therapist confirms',\n",
       " 'share experience word count',\n",
       " 'understand asking advice also know lot woman experience pain doctor still going give pelvic exam every year small pricking part relieved stop',\n",
       " 'true increase case breast cancer cervical cancer confident woman hrt safe risk cancer based kind factor doctor pretty front continuing pap smear choose hrt sure reasoning would said',\n",
       " 'misleading definitely choice one gynecologist opinion unwise thing meet criterion realize try best health thrilled anymore advocating anyone else talk doctor make choice personally speaking going keep others comfortable receiving information appreciate move',\n",
       " 'going get regular check ups pretty vigilant regarding health pap smear detect cancer doctor keep seeing move next phase life',\n",
       " 'got testing negative hpv multiple decade leaf miniscule risk worried',\n",
       " 'looking also see hysterectomy kept cervix also still need continue screening dang',\n",
       " 'oh mean substituting alternate method hpv test pap test longer getting tested link say hpv negative predictive three year never getting pap mean instead getting screened hpv test every three year place pap make lot sense screened probably front center post',\n",
       " 'think depends doctor medical history guideline live insurance plan doctor say matter menopausal still want pap done every year minimum never positive result year better every year cool',\n",
       " 'last year told every year ok cool know everyone different experience child iud pap smear big deal mammogram feel bit uncomfortable still get yearly',\n",
       " 'divorced entire reproductive system due borderline ovarian tumor despite extremely low risk cancer ob still pap cervical cell left behind even rare three second take exam worth vaginal wall cancer another thing business checking prolapse atrophy anyway good occasional swab',\n",
       " 'hear plan keeping close eye feeling like something right proactive sure help family history cervical cancer',\n",
       " 'zero idea thought share hopefully give lady something look forward got ta find bright spot',\n",
       " 'sub sub place share experience bullying people differing view acceptable way useful conversation current health issue simple hear people experience keep scrolling leave alone already people make choice agree based discussion doctor people share others',\n",
       " 'lol every year think give old lady pelvic exam every year ok taking care health many decade sure know going future getting weed anyone happy take care take care life good',\n",
       " 'long balance testosterone progesterone anastrazol prevent estrogen becoming good one estradiol safe one',\n",
       " 'title content would suggest necessary people come share advice life menopause someone could mislead harm add bit extra context post',\n",
       " 'reason get pap generally symptom cervical cancer progressed dangerous level detected early survival rate quite high later detection feel symptom prognosis much worse risk cancer increase age mean simultaneously stopping screening would allow catch cancer early stage entering age likely develop cancer would incredibly cautious around doctor board stopping cancer screening cusp risky lifestage cancer',\n",
       " 'someone rarer kind breast cancer would considered minuscule risk still glad took symptom seriously got checked sadly someone people short odds end spectrum cancer',\n",
       " 'sound like good doctor guideline u every five year hpv testing better pap testing',\n",
       " 'thank',\n",
       " 'think give old lady pelvic exam every year ok definition old lady still annual pelvic pap q mother stop',\n",
       " 'pretty sure plenty content posting nothing misleading came share joy certainly advising anyone stoked',\n",
       " 'fact tested negative hpv many year biggest factor decision happy decision going forward',\n",
       " 'tnbc breast cancer female relative either risk low dr even recommend get mammogram found lump told come back got bigger',\n",
       " 'well one family glad continue get test',\n",
       " 'every year u k nz say bad doctor',\n",
       " 'every year',\n",
       " 'maybe could said personal menopause milestone thought next time',\n",
       " 'great since woman read thread also good read medical advice definitely go choice',\n",
       " 'yes two lump felt like turned night luckily doctor seen day discovery sent scan day later whirlwind started glad think young put stage three already',\n",
       " 'lol',\n",
       " 'two heart glad ok going year sadly many young woman due type breast cancer',\n",
       " 'okay going call blatant stubbornness accept others fair opinion post shame response removed empathy rude believe wrong bye',\n",
       " 'still middle treatment going month already fucking terrible bad luck finished til middle year going well finger crossed hope cured remission long hearing people struggled still well sense inspiring thanks sharing',\n",
       " 'whole riffraff argument totally ridiculous everyone stop',\n",
       " 'sorry get tired sharing opinion occasionally happy occasion like post policed folk could scroll people post thing might like content go',\n",
       " 'agh sorry thick going treatment worst chemo surgery radiation chemo shrunk tumor yet',\n",
       " 'order thing frequently ups post office amazon fed ex fed ex one consistently fuck whenever see something went fed ex annoyed',\n",
       " 'ask important question moisturizer order asking friend joy',\n",
       " 'huh amazon lost organic vulva balm well called gave order number customer service rep read trying hard lol realized likely idea vulva',\n",
       " 'joy sorry laugh',\n",
       " 'last time call amazon delivery vibrator went missing late night panic thinking someone town know got box name super fun discussion guy share native language got refund end expensive sympathy',\n",
       " 'fedex shit area go way avoid avoid buying website ship via fedex lol fortunately betrayed amazon yet',\n",
       " 'best post ever epic story epic comment need save need laugh ok seriousness sorry happened damn funny hug',\n",
       " 'stupid question perhaps really know vulva need moisturizing',\n",
       " 'sharoof newest recruit menopause army work googling loud proud behalf hail sharoof',\n",
       " 'braver would said fuck bought new tube explaining shit sharoof',\n",
       " 'apartment neighbor received package lube opened',\n",
       " 'sharoof tell call bad customer service',\n",
       " 'pinch long allergy coconut oil feel good use lube sex wreck latex lead broken condom',\n",
       " 'fuck amazon sick bullshit',\n",
       " 'grrrrrr yeah',\n",
       " 'bahahahahaha meno peep funniest',\n",
       " 'gynatrof',\n",
       " 'saw delivery vaginal amazon thought someone needed sex ed class lol',\n",
       " 'guess something said living middle nowhere pick order post office nearest town almost everything get handed canada post matter original shipper odd thing get hand delivered bni',\n",
       " 'tried heard coconut oil good ymmv',\n",
       " 'sorry trouble buy desert vadge weary',\n",
       " 'really illustrates wired article enshittification tech company misdelivering sensitive item care sensitive prime hope find non enshittified company next time',\n",
       " 'needed hilarious post almost much needed cream lol',\n",
       " ...]"
      ]
     },
     "execution_count": 19,
     "metadata": {},
     "output_type": "execute_result"
    }
   ],
   "source": [
    "final_reviews"
   ]
  },
  {
   "cell_type": "code",
   "execution_count": 29,
   "id": "b9c7618a",
   "metadata": {},
   "outputs": [],
   "source": [
    "tfidfvectorizer = TfidfVectorizer(analyzer='word', max_features=500)\n",
    "reviews_vect = tfidfvectorizer.fit_transform(final_reviews)\n",
    "reviews_vect = reviews_vect.toarray()"
   ]
  },
  {
   "cell_type": "code",
   "execution_count": 31,
   "id": "9ca7ab10",
   "metadata": {},
   "outputs": [
    {
     "data": {
      "text/plain": [
       "9061"
      ]
     },
     "execution_count": 31,
     "metadata": {},
     "output_type": "execute_result"
    }
   ],
   "source": [
    "len(reviews_vect)"
   ]
  },
  {
   "cell_type": "code",
   "execution_count": 49,
   "id": "bf3570dc",
   "metadata": {},
   "outputs": [],
   "source": [
    "k = 100"
   ]
  },
  {
   "cell_type": "code",
   "execution_count": 50,
   "id": "4345d71e",
   "metadata": {},
   "outputs": [
    {
     "name": "stderr",
     "output_type": "stream",
     "text": [
      "/opt/anaconda3/envs/ta/lib/python3.10/site-packages/sklearn/cluster/_kmeans.py:870: FutureWarning: The default value of `n_init` will change from 10 to 'auto' in 1.4. Set the value of `n_init` explicitly to suppress the warning\n",
      "  warnings.warn(\n"
     ]
    },
    {
     "name": "stdout",
     "output_type": "stream",
     "text": [
      "For n_clusters = 2 The average silhouette_score is: 0.011547621248707621\n"
     ]
    },
    {
     "name": "stderr",
     "output_type": "stream",
     "text": [
      "/opt/anaconda3/envs/ta/lib/python3.10/site-packages/sklearn/cluster/_kmeans.py:870: FutureWarning: The default value of `n_init` will change from 10 to 'auto' in 1.4. Set the value of `n_init` explicitly to suppress the warning\n",
      "  warnings.warn(\n"
     ]
    },
    {
     "name": "stdout",
     "output_type": "stream",
     "text": [
      "For n_clusters = 3 The average silhouette_score is: 0.01729350433783352\n"
     ]
    },
    {
     "name": "stderr",
     "output_type": "stream",
     "text": [
      "/opt/anaconda3/envs/ta/lib/python3.10/site-packages/sklearn/cluster/_kmeans.py:870: FutureWarning: The default value of `n_init` will change from 10 to 'auto' in 1.4. Set the value of `n_init` explicitly to suppress the warning\n",
      "  warnings.warn(\n"
     ]
    },
    {
     "name": "stdout",
     "output_type": "stream",
     "text": [
      "For n_clusters = 4 The average silhouette_score is: 0.019419961124710613\n"
     ]
    },
    {
     "name": "stderr",
     "output_type": "stream",
     "text": [
      "/opt/anaconda3/envs/ta/lib/python3.10/site-packages/sklearn/cluster/_kmeans.py:870: FutureWarning: The default value of `n_init` will change from 10 to 'auto' in 1.4. Set the value of `n_init` explicitly to suppress the warning\n",
      "  warnings.warn(\n"
     ]
    },
    {
     "name": "stdout",
     "output_type": "stream",
     "text": [
      "For n_clusters = 5 The average silhouette_score is: 0.019759968933835505\n"
     ]
    },
    {
     "name": "stderr",
     "output_type": "stream",
     "text": [
      "/opt/anaconda3/envs/ta/lib/python3.10/site-packages/sklearn/cluster/_kmeans.py:870: FutureWarning: The default value of `n_init` will change from 10 to 'auto' in 1.4. Set the value of `n_init` explicitly to suppress the warning\n",
      "  warnings.warn(\n"
     ]
    },
    {
     "name": "stdout",
     "output_type": "stream",
     "text": [
      "For n_clusters = 6 The average silhouette_score is: 0.02130693690186023\n"
     ]
    },
    {
     "name": "stderr",
     "output_type": "stream",
     "text": [
      "/opt/anaconda3/envs/ta/lib/python3.10/site-packages/sklearn/cluster/_kmeans.py:870: FutureWarning: The default value of `n_init` will change from 10 to 'auto' in 1.4. Set the value of `n_init` explicitly to suppress the warning\n",
      "  warnings.warn(\n"
     ]
    },
    {
     "name": "stdout",
     "output_type": "stream",
     "text": [
      "For n_clusters = 7 The average silhouette_score is: 0.02306535880262766\n"
     ]
    },
    {
     "name": "stderr",
     "output_type": "stream",
     "text": [
      "/opt/anaconda3/envs/ta/lib/python3.10/site-packages/sklearn/cluster/_kmeans.py:870: FutureWarning: The default value of `n_init` will change from 10 to 'auto' in 1.4. Set the value of `n_init` explicitly to suppress the warning\n",
      "  warnings.warn(\n"
     ]
    },
    {
     "name": "stdout",
     "output_type": "stream",
     "text": [
      "For n_clusters = 8 The average silhouette_score is: 0.0242156566319262\n"
     ]
    },
    {
     "name": "stderr",
     "output_type": "stream",
     "text": [
      "/opt/anaconda3/envs/ta/lib/python3.10/site-packages/sklearn/cluster/_kmeans.py:870: FutureWarning: The default value of `n_init` will change from 10 to 'auto' in 1.4. Set the value of `n_init` explicitly to suppress the warning\n",
      "  warnings.warn(\n"
     ]
    },
    {
     "name": "stdout",
     "output_type": "stream",
     "text": [
      "For n_clusters = 9 The average silhouette_score is: 0.024944054809249636\n"
     ]
    },
    {
     "name": "stderr",
     "output_type": "stream",
     "text": [
      "/opt/anaconda3/envs/ta/lib/python3.10/site-packages/sklearn/cluster/_kmeans.py:870: FutureWarning: The default value of `n_init` will change from 10 to 'auto' in 1.4. Set the value of `n_init` explicitly to suppress the warning\n",
      "  warnings.warn(\n"
     ]
    },
    {
     "name": "stdout",
     "output_type": "stream",
     "text": [
      "For n_clusters = 10 The average silhouette_score is: 0.02639578382948851\n"
     ]
    },
    {
     "name": "stderr",
     "output_type": "stream",
     "text": [
      "/opt/anaconda3/envs/ta/lib/python3.10/site-packages/sklearn/cluster/_kmeans.py:870: FutureWarning: The default value of `n_init` will change from 10 to 'auto' in 1.4. Set the value of `n_init` explicitly to suppress the warning\n",
      "  warnings.warn(\n"
     ]
    },
    {
     "name": "stdout",
     "output_type": "stream",
     "text": [
      "For n_clusters = 11 The average silhouette_score is: 0.02084286758518141\n"
     ]
    },
    {
     "name": "stderr",
     "output_type": "stream",
     "text": [
      "/opt/anaconda3/envs/ta/lib/python3.10/site-packages/sklearn/cluster/_kmeans.py:870: FutureWarning: The default value of `n_init` will change from 10 to 'auto' in 1.4. Set the value of `n_init` explicitly to suppress the warning\n",
      "  warnings.warn(\n"
     ]
    },
    {
     "name": "stdout",
     "output_type": "stream",
     "text": [
      "For n_clusters = 12 The average silhouette_score is: 0.03036355348820327\n"
     ]
    },
    {
     "name": "stderr",
     "output_type": "stream",
     "text": [
      "/opt/anaconda3/envs/ta/lib/python3.10/site-packages/sklearn/cluster/_kmeans.py:870: FutureWarning: The default value of `n_init` will change from 10 to 'auto' in 1.4. Set the value of `n_init` explicitly to suppress the warning\n",
      "  warnings.warn(\n"
     ]
    },
    {
     "name": "stdout",
     "output_type": "stream",
     "text": [
      "For n_clusters = 13 The average silhouette_score is: 0.027754766957446202\n"
     ]
    },
    {
     "name": "stderr",
     "output_type": "stream",
     "text": [
      "/opt/anaconda3/envs/ta/lib/python3.10/site-packages/sklearn/cluster/_kmeans.py:870: FutureWarning: The default value of `n_init` will change from 10 to 'auto' in 1.4. Set the value of `n_init` explicitly to suppress the warning\n",
      "  warnings.warn(\n"
     ]
    },
    {
     "name": "stdout",
     "output_type": "stream",
     "text": [
      "For n_clusters = 14 The average silhouette_score is: 0.030918532772163238\n"
     ]
    },
    {
     "name": "stderr",
     "output_type": "stream",
     "text": [
      "/opt/anaconda3/envs/ta/lib/python3.10/site-packages/sklearn/cluster/_kmeans.py:870: FutureWarning: The default value of `n_init` will change from 10 to 'auto' in 1.4. Set the value of `n_init` explicitly to suppress the warning\n",
      "  warnings.warn(\n"
     ]
    },
    {
     "name": "stdout",
     "output_type": "stream",
     "text": [
      "For n_clusters = 15 The average silhouette_score is: 0.028102109959255498\n"
     ]
    },
    {
     "name": "stderr",
     "output_type": "stream",
     "text": [
      "/opt/anaconda3/envs/ta/lib/python3.10/site-packages/sklearn/cluster/_kmeans.py:870: FutureWarning: The default value of `n_init` will change from 10 to 'auto' in 1.4. Set the value of `n_init` explicitly to suppress the warning\n",
      "  warnings.warn(\n"
     ]
    },
    {
     "name": "stdout",
     "output_type": "stream",
     "text": [
      "For n_clusters = 16 The average silhouette_score is: 0.031732411738588144\n"
     ]
    },
    {
     "name": "stderr",
     "output_type": "stream",
     "text": [
      "/opt/anaconda3/envs/ta/lib/python3.10/site-packages/sklearn/cluster/_kmeans.py:870: FutureWarning: The default value of `n_init` will change from 10 to 'auto' in 1.4. Set the value of `n_init` explicitly to suppress the warning\n",
      "  warnings.warn(\n"
     ]
    },
    {
     "name": "stdout",
     "output_type": "stream",
     "text": [
      "For n_clusters = 17 The average silhouette_score is: 0.027425281252844155\n"
     ]
    },
    {
     "name": "stderr",
     "output_type": "stream",
     "text": [
      "/opt/anaconda3/envs/ta/lib/python3.10/site-packages/sklearn/cluster/_kmeans.py:870: FutureWarning: The default value of `n_init` will change from 10 to 'auto' in 1.4. Set the value of `n_init` explicitly to suppress the warning\n",
      "  warnings.warn(\n"
     ]
    },
    {
     "name": "stdout",
     "output_type": "stream",
     "text": [
      "For n_clusters = 18 The average silhouette_score is: 0.01647140432761914\n"
     ]
    },
    {
     "name": "stderr",
     "output_type": "stream",
     "text": [
      "/opt/anaconda3/envs/ta/lib/python3.10/site-packages/sklearn/cluster/_kmeans.py:870: FutureWarning: The default value of `n_init` will change from 10 to 'auto' in 1.4. Set the value of `n_init` explicitly to suppress the warning\n",
      "  warnings.warn(\n"
     ]
    },
    {
     "name": "stdout",
     "output_type": "stream",
     "text": [
      "For n_clusters = 19 The average silhouette_score is: 0.035323482508107996\n"
     ]
    },
    {
     "name": "stderr",
     "output_type": "stream",
     "text": [
      "/opt/anaconda3/envs/ta/lib/python3.10/site-packages/sklearn/cluster/_kmeans.py:870: FutureWarning: The default value of `n_init` will change from 10 to 'auto' in 1.4. Set the value of `n_init` explicitly to suppress the warning\n",
      "  warnings.warn(\n"
     ]
    },
    {
     "name": "stdout",
     "output_type": "stream",
     "text": [
      "For n_clusters = 20 The average silhouette_score is: 0.02755186250936798\n"
     ]
    },
    {
     "name": "stderr",
     "output_type": "stream",
     "text": [
      "/opt/anaconda3/envs/ta/lib/python3.10/site-packages/sklearn/cluster/_kmeans.py:870: FutureWarning: The default value of `n_init` will change from 10 to 'auto' in 1.4. Set the value of `n_init` explicitly to suppress the warning\n",
      "  warnings.warn(\n"
     ]
    },
    {
     "name": "stdout",
     "output_type": "stream",
     "text": [
      "For n_clusters = 21 The average silhouette_score is: 0.024118863614872633\n"
     ]
    },
    {
     "name": "stderr",
     "output_type": "stream",
     "text": [
      "/opt/anaconda3/envs/ta/lib/python3.10/site-packages/sklearn/cluster/_kmeans.py:870: FutureWarning: The default value of `n_init` will change from 10 to 'auto' in 1.4. Set the value of `n_init` explicitly to suppress the warning\n",
      "  warnings.warn(\n"
     ]
    },
    {
     "name": "stdout",
     "output_type": "stream",
     "text": [
      "For n_clusters = 22 The average silhouette_score is: 0.038455371498631055\n"
     ]
    },
    {
     "name": "stderr",
     "output_type": "stream",
     "text": [
      "/opt/anaconda3/envs/ta/lib/python3.10/site-packages/sklearn/cluster/_kmeans.py:870: FutureWarning: The default value of `n_init` will change from 10 to 'auto' in 1.4. Set the value of `n_init` explicitly to suppress the warning\n",
      "  warnings.warn(\n"
     ]
    },
    {
     "name": "stdout",
     "output_type": "stream",
     "text": [
      "For n_clusters = 23 The average silhouette_score is: 0.03493849346893389\n"
     ]
    },
    {
     "name": "stderr",
     "output_type": "stream",
     "text": [
      "/opt/anaconda3/envs/ta/lib/python3.10/site-packages/sklearn/cluster/_kmeans.py:870: FutureWarning: The default value of `n_init` will change from 10 to 'auto' in 1.4. Set the value of `n_init` explicitly to suppress the warning\n",
      "  warnings.warn(\n"
     ]
    },
    {
     "name": "stdout",
     "output_type": "stream",
     "text": [
      "For n_clusters = 24 The average silhouette_score is: 0.03293061690008809\n"
     ]
    },
    {
     "name": "stderr",
     "output_type": "stream",
     "text": [
      "/opt/anaconda3/envs/ta/lib/python3.10/site-packages/sklearn/cluster/_kmeans.py:870: FutureWarning: The default value of `n_init` will change from 10 to 'auto' in 1.4. Set the value of `n_init` explicitly to suppress the warning\n",
      "  warnings.warn(\n"
     ]
    },
    {
     "name": "stdout",
     "output_type": "stream",
     "text": [
      "For n_clusters = 25 The average silhouette_score is: 0.026360583718194875\n"
     ]
    },
    {
     "name": "stderr",
     "output_type": "stream",
     "text": [
      "/opt/anaconda3/envs/ta/lib/python3.10/site-packages/sklearn/cluster/_kmeans.py:870: FutureWarning: The default value of `n_init` will change from 10 to 'auto' in 1.4. Set the value of `n_init` explicitly to suppress the warning\n",
      "  warnings.warn(\n"
     ]
    },
    {
     "name": "stdout",
     "output_type": "stream",
     "text": [
      "For n_clusters = 26 The average silhouette_score is: 0.025665160475754692\n"
     ]
    },
    {
     "name": "stderr",
     "output_type": "stream",
     "text": [
      "/opt/anaconda3/envs/ta/lib/python3.10/site-packages/sklearn/cluster/_kmeans.py:870: FutureWarning: The default value of `n_init` will change from 10 to 'auto' in 1.4. Set the value of `n_init` explicitly to suppress the warning\n",
      "  warnings.warn(\n"
     ]
    },
    {
     "name": "stdout",
     "output_type": "stream",
     "text": [
      "For n_clusters = 27 The average silhouette_score is: 0.04101511782913903\n"
     ]
    },
    {
     "name": "stderr",
     "output_type": "stream",
     "text": [
      "/opt/anaconda3/envs/ta/lib/python3.10/site-packages/sklearn/cluster/_kmeans.py:870: FutureWarning: The default value of `n_init` will change from 10 to 'auto' in 1.4. Set the value of `n_init` explicitly to suppress the warning\n",
      "  warnings.warn(\n"
     ]
    },
    {
     "name": "stdout",
     "output_type": "stream",
     "text": [
      "For n_clusters = 28 The average silhouette_score is: 0.038916177978700006\n"
     ]
    },
    {
     "name": "stderr",
     "output_type": "stream",
     "text": [
      "/opt/anaconda3/envs/ta/lib/python3.10/site-packages/sklearn/cluster/_kmeans.py:870: FutureWarning: The default value of `n_init` will change from 10 to 'auto' in 1.4. Set the value of `n_init` explicitly to suppress the warning\n",
      "  warnings.warn(\n"
     ]
    },
    {
     "name": "stdout",
     "output_type": "stream",
     "text": [
      "For n_clusters = 29 The average silhouette_score is: 0.04302569259041778\n"
     ]
    },
    {
     "name": "stderr",
     "output_type": "stream",
     "text": [
      "/opt/anaconda3/envs/ta/lib/python3.10/site-packages/sklearn/cluster/_kmeans.py:870: FutureWarning: The default value of `n_init` will change from 10 to 'auto' in 1.4. Set the value of `n_init` explicitly to suppress the warning\n",
      "  warnings.warn(\n"
     ]
    },
    {
     "name": "stdout",
     "output_type": "stream",
     "text": [
      "For n_clusters = 30 The average silhouette_score is: 0.04027266450042693\n"
     ]
    },
    {
     "name": "stderr",
     "output_type": "stream",
     "text": [
      "/opt/anaconda3/envs/ta/lib/python3.10/site-packages/sklearn/cluster/_kmeans.py:870: FutureWarning: The default value of `n_init` will change from 10 to 'auto' in 1.4. Set the value of `n_init` explicitly to suppress the warning\n",
      "  warnings.warn(\n"
     ]
    },
    {
     "name": "stdout",
     "output_type": "stream",
     "text": [
      "For n_clusters = 31 The average silhouette_score is: 0.04687164633393291\n"
     ]
    },
    {
     "name": "stderr",
     "output_type": "stream",
     "text": [
      "/opt/anaconda3/envs/ta/lib/python3.10/site-packages/sklearn/cluster/_kmeans.py:870: FutureWarning: The default value of `n_init` will change from 10 to 'auto' in 1.4. Set the value of `n_init` explicitly to suppress the warning\n",
      "  warnings.warn(\n"
     ]
    },
    {
     "name": "stdout",
     "output_type": "stream",
     "text": [
      "For n_clusters = 32 The average silhouette_score is: 0.04351036448491301\n"
     ]
    },
    {
     "name": "stderr",
     "output_type": "stream",
     "text": [
      "/opt/anaconda3/envs/ta/lib/python3.10/site-packages/sklearn/cluster/_kmeans.py:870: FutureWarning: The default value of `n_init` will change from 10 to 'auto' in 1.4. Set the value of `n_init` explicitly to suppress the warning\n",
      "  warnings.warn(\n"
     ]
    },
    {
     "name": "stdout",
     "output_type": "stream",
     "text": [
      "For n_clusters = 33 The average silhouette_score is: 0.025681699945113504\n"
     ]
    },
    {
     "name": "stderr",
     "output_type": "stream",
     "text": [
      "/opt/anaconda3/envs/ta/lib/python3.10/site-packages/sklearn/cluster/_kmeans.py:870: FutureWarning: The default value of `n_init` will change from 10 to 'auto' in 1.4. Set the value of `n_init` explicitly to suppress the warning\n",
      "  warnings.warn(\n"
     ]
    },
    {
     "name": "stdout",
     "output_type": "stream",
     "text": [
      "For n_clusters = 34 The average silhouette_score is: 0.027964804500509744\n"
     ]
    },
    {
     "name": "stderr",
     "output_type": "stream",
     "text": [
      "/opt/anaconda3/envs/ta/lib/python3.10/site-packages/sklearn/cluster/_kmeans.py:870: FutureWarning: The default value of `n_init` will change from 10 to 'auto' in 1.4. Set the value of `n_init` explicitly to suppress the warning\n",
      "  warnings.warn(\n"
     ]
    },
    {
     "name": "stdout",
     "output_type": "stream",
     "text": [
      "For n_clusters = 35 The average silhouette_score is: 0.04297886708656617\n"
     ]
    },
    {
     "name": "stderr",
     "output_type": "stream",
     "text": [
      "/opt/anaconda3/envs/ta/lib/python3.10/site-packages/sklearn/cluster/_kmeans.py:870: FutureWarning: The default value of `n_init` will change from 10 to 'auto' in 1.4. Set the value of `n_init` explicitly to suppress the warning\n",
      "  warnings.warn(\n"
     ]
    },
    {
     "name": "stdout",
     "output_type": "stream",
     "text": [
      "For n_clusters = 36 The average silhouette_score is: 0.047188202019133624\n"
     ]
    },
    {
     "name": "stderr",
     "output_type": "stream",
     "text": [
      "/opt/anaconda3/envs/ta/lib/python3.10/site-packages/sklearn/cluster/_kmeans.py:870: FutureWarning: The default value of `n_init` will change from 10 to 'auto' in 1.4. Set the value of `n_init` explicitly to suppress the warning\n",
      "  warnings.warn(\n"
     ]
    },
    {
     "name": "stdout",
     "output_type": "stream",
     "text": [
      "For n_clusters = 37 The average silhouette_score is: 0.04186460238388197\n"
     ]
    },
    {
     "name": "stderr",
     "output_type": "stream",
     "text": [
      "/opt/anaconda3/envs/ta/lib/python3.10/site-packages/sklearn/cluster/_kmeans.py:870: FutureWarning: The default value of `n_init` will change from 10 to 'auto' in 1.4. Set the value of `n_init` explicitly to suppress the warning\n",
      "  warnings.warn(\n"
     ]
    },
    {
     "name": "stdout",
     "output_type": "stream",
     "text": [
      "For n_clusters = 38 The average silhouette_score is: 0.043115116552868385\n"
     ]
    },
    {
     "name": "stderr",
     "output_type": "stream",
     "text": [
      "/opt/anaconda3/envs/ta/lib/python3.10/site-packages/sklearn/cluster/_kmeans.py:870: FutureWarning: The default value of `n_init` will change from 10 to 'auto' in 1.4. Set the value of `n_init` explicitly to suppress the warning\n",
      "  warnings.warn(\n"
     ]
    },
    {
     "name": "stdout",
     "output_type": "stream",
     "text": [
      "For n_clusters = 39 The average silhouette_score is: 0.04706210842678317\n"
     ]
    },
    {
     "name": "stderr",
     "output_type": "stream",
     "text": [
      "/opt/anaconda3/envs/ta/lib/python3.10/site-packages/sklearn/cluster/_kmeans.py:870: FutureWarning: The default value of `n_init` will change from 10 to 'auto' in 1.4. Set the value of `n_init` explicitly to suppress the warning\n",
      "  warnings.warn(\n"
     ]
    },
    {
     "name": "stdout",
     "output_type": "stream",
     "text": [
      "For n_clusters = 40 The average silhouette_score is: 0.04682628687221572\n"
     ]
    },
    {
     "name": "stderr",
     "output_type": "stream",
     "text": [
      "/opt/anaconda3/envs/ta/lib/python3.10/site-packages/sklearn/cluster/_kmeans.py:870: FutureWarning: The default value of `n_init` will change from 10 to 'auto' in 1.4. Set the value of `n_init` explicitly to suppress the warning\n",
      "  warnings.warn(\n"
     ]
    },
    {
     "name": "stdout",
     "output_type": "stream",
     "text": [
      "For n_clusters = 41 The average silhouette_score is: 0.03840819377786765\n"
     ]
    },
    {
     "name": "stderr",
     "output_type": "stream",
     "text": [
      "/opt/anaconda3/envs/ta/lib/python3.10/site-packages/sklearn/cluster/_kmeans.py:870: FutureWarning: The default value of `n_init` will change from 10 to 'auto' in 1.4. Set the value of `n_init` explicitly to suppress the warning\n",
      "  warnings.warn(\n"
     ]
    },
    {
     "name": "stdout",
     "output_type": "stream",
     "text": [
      "For n_clusters = 42 The average silhouette_score is: 0.032716843403397894\n"
     ]
    },
    {
     "name": "stderr",
     "output_type": "stream",
     "text": [
      "/opt/anaconda3/envs/ta/lib/python3.10/site-packages/sklearn/cluster/_kmeans.py:870: FutureWarning: The default value of `n_init` will change from 10 to 'auto' in 1.4. Set the value of `n_init` explicitly to suppress the warning\n",
      "  warnings.warn(\n"
     ]
    },
    {
     "name": "stdout",
     "output_type": "stream",
     "text": [
      "For n_clusters = 43 The average silhouette_score is: 0.03908068977403664\n"
     ]
    },
    {
     "name": "stderr",
     "output_type": "stream",
     "text": [
      "/opt/anaconda3/envs/ta/lib/python3.10/site-packages/sklearn/cluster/_kmeans.py:870: FutureWarning: The default value of `n_init` will change from 10 to 'auto' in 1.4. Set the value of `n_init` explicitly to suppress the warning\n",
      "  warnings.warn(\n"
     ]
    },
    {
     "name": "stdout",
     "output_type": "stream",
     "text": [
      "For n_clusters = 44 The average silhouette_score is: 0.03290285719791849\n"
     ]
    },
    {
     "name": "stderr",
     "output_type": "stream",
     "text": [
      "/opt/anaconda3/envs/ta/lib/python3.10/site-packages/sklearn/cluster/_kmeans.py:870: FutureWarning: The default value of `n_init` will change from 10 to 'auto' in 1.4. Set the value of `n_init` explicitly to suppress the warning\n",
      "  warnings.warn(\n"
     ]
    },
    {
     "name": "stdout",
     "output_type": "stream",
     "text": [
      "For n_clusters = 45 The average silhouette_score is: 0.02844261864721736\n"
     ]
    },
    {
     "name": "stderr",
     "output_type": "stream",
     "text": [
      "/opt/anaconda3/envs/ta/lib/python3.10/site-packages/sklearn/cluster/_kmeans.py:870: FutureWarning: The default value of `n_init` will change from 10 to 'auto' in 1.4. Set the value of `n_init` explicitly to suppress the warning\n",
      "  warnings.warn(\n"
     ]
    },
    {
     "name": "stdout",
     "output_type": "stream",
     "text": [
      "For n_clusters = 46 The average silhouette_score is: 0.03731717151976576\n"
     ]
    },
    {
     "name": "stderr",
     "output_type": "stream",
     "text": [
      "/opt/anaconda3/envs/ta/lib/python3.10/site-packages/sklearn/cluster/_kmeans.py:870: FutureWarning: The default value of `n_init` will change from 10 to 'auto' in 1.4. Set the value of `n_init` explicitly to suppress the warning\n",
      "  warnings.warn(\n"
     ]
    },
    {
     "name": "stdout",
     "output_type": "stream",
     "text": [
      "For n_clusters = 47 The average silhouette_score is: 0.044680906604181586\n"
     ]
    },
    {
     "name": "stderr",
     "output_type": "stream",
     "text": [
      "/opt/anaconda3/envs/ta/lib/python3.10/site-packages/sklearn/cluster/_kmeans.py:870: FutureWarning: The default value of `n_init` will change from 10 to 'auto' in 1.4. Set the value of `n_init` explicitly to suppress the warning\n",
      "  warnings.warn(\n"
     ]
    },
    {
     "name": "stdout",
     "output_type": "stream",
     "text": [
      "For n_clusters = 48 The average silhouette_score is: 0.033056804354807734\n"
     ]
    },
    {
     "name": "stderr",
     "output_type": "stream",
     "text": [
      "/opt/anaconda3/envs/ta/lib/python3.10/site-packages/sklearn/cluster/_kmeans.py:870: FutureWarning: The default value of `n_init` will change from 10 to 'auto' in 1.4. Set the value of `n_init` explicitly to suppress the warning\n",
      "  warnings.warn(\n"
     ]
    },
    {
     "name": "stdout",
     "output_type": "stream",
     "text": [
      "For n_clusters = 49 The average silhouette_score is: 0.04469216169752786\n"
     ]
    },
    {
     "name": "stderr",
     "output_type": "stream",
     "text": [
      "/opt/anaconda3/envs/ta/lib/python3.10/site-packages/sklearn/cluster/_kmeans.py:870: FutureWarning: The default value of `n_init` will change from 10 to 'auto' in 1.4. Set the value of `n_init` explicitly to suppress the warning\n",
      "  warnings.warn(\n"
     ]
    },
    {
     "name": "stdout",
     "output_type": "stream",
     "text": [
      "For n_clusters = 50 The average silhouette_score is: 0.03508447583581433\n"
     ]
    },
    {
     "name": "stderr",
     "output_type": "stream",
     "text": [
      "/opt/anaconda3/envs/ta/lib/python3.10/site-packages/sklearn/cluster/_kmeans.py:870: FutureWarning: The default value of `n_init` will change from 10 to 'auto' in 1.4. Set the value of `n_init` explicitly to suppress the warning\n",
      "  warnings.warn(\n"
     ]
    },
    {
     "name": "stdout",
     "output_type": "stream",
     "text": [
      "For n_clusters = 51 The average silhouette_score is: 0.047183660079222076\n"
     ]
    },
    {
     "name": "stderr",
     "output_type": "stream",
     "text": [
      "/opt/anaconda3/envs/ta/lib/python3.10/site-packages/sklearn/cluster/_kmeans.py:870: FutureWarning: The default value of `n_init` will change from 10 to 'auto' in 1.4. Set the value of `n_init` explicitly to suppress the warning\n",
      "  warnings.warn(\n"
     ]
    },
    {
     "name": "stdout",
     "output_type": "stream",
     "text": [
      "For n_clusters = 52 The average silhouette_score is: 0.038193575157274826\n"
     ]
    },
    {
     "name": "stderr",
     "output_type": "stream",
     "text": [
      "/opt/anaconda3/envs/ta/lib/python3.10/site-packages/sklearn/cluster/_kmeans.py:870: FutureWarning: The default value of `n_init` will change from 10 to 'auto' in 1.4. Set the value of `n_init` explicitly to suppress the warning\n",
      "  warnings.warn(\n"
     ]
    },
    {
     "name": "stdout",
     "output_type": "stream",
     "text": [
      "For n_clusters = 53 The average silhouette_score is: 0.04828629715321409\n"
     ]
    },
    {
     "name": "stderr",
     "output_type": "stream",
     "text": [
      "/opt/anaconda3/envs/ta/lib/python3.10/site-packages/sklearn/cluster/_kmeans.py:870: FutureWarning: The default value of `n_init` will change from 10 to 'auto' in 1.4. Set the value of `n_init` explicitly to suppress the warning\n",
      "  warnings.warn(\n"
     ]
    },
    {
     "name": "stdout",
     "output_type": "stream",
     "text": [
      "For n_clusters = 54 The average silhouette_score is: 0.04942920392744836\n"
     ]
    },
    {
     "name": "stderr",
     "output_type": "stream",
     "text": [
      "/opt/anaconda3/envs/ta/lib/python3.10/site-packages/sklearn/cluster/_kmeans.py:870: FutureWarning: The default value of `n_init` will change from 10 to 'auto' in 1.4. Set the value of `n_init` explicitly to suppress the warning\n",
      "  warnings.warn(\n"
     ]
    },
    {
     "name": "stdout",
     "output_type": "stream",
     "text": [
      "For n_clusters = 55 The average silhouette_score is: 0.048419806454010346\n"
     ]
    },
    {
     "name": "stderr",
     "output_type": "stream",
     "text": [
      "/opt/anaconda3/envs/ta/lib/python3.10/site-packages/sklearn/cluster/_kmeans.py:870: FutureWarning: The default value of `n_init` will change from 10 to 'auto' in 1.4. Set the value of `n_init` explicitly to suppress the warning\n",
      "  warnings.warn(\n"
     ]
    },
    {
     "name": "stdout",
     "output_type": "stream",
     "text": [
      "For n_clusters = 56 The average silhouette_score is: 0.04347444594765611\n"
     ]
    },
    {
     "name": "stderr",
     "output_type": "stream",
     "text": [
      "/opt/anaconda3/envs/ta/lib/python3.10/site-packages/sklearn/cluster/_kmeans.py:870: FutureWarning: The default value of `n_init` will change from 10 to 'auto' in 1.4. Set the value of `n_init` explicitly to suppress the warning\n",
      "  warnings.warn(\n"
     ]
    },
    {
     "name": "stdout",
     "output_type": "stream",
     "text": [
      "For n_clusters = 57 The average silhouette_score is: 0.04661084420854503\n"
     ]
    },
    {
     "name": "stderr",
     "output_type": "stream",
     "text": [
      "/opt/anaconda3/envs/ta/lib/python3.10/site-packages/sklearn/cluster/_kmeans.py:870: FutureWarning: The default value of `n_init` will change from 10 to 'auto' in 1.4. Set the value of `n_init` explicitly to suppress the warning\n",
      "  warnings.warn(\n"
     ]
    },
    {
     "name": "stdout",
     "output_type": "stream",
     "text": [
      "For n_clusters = 58 The average silhouette_score is: 0.054249610865228275\n"
     ]
    },
    {
     "name": "stderr",
     "output_type": "stream",
     "text": [
      "/opt/anaconda3/envs/ta/lib/python3.10/site-packages/sklearn/cluster/_kmeans.py:870: FutureWarning: The default value of `n_init` will change from 10 to 'auto' in 1.4. Set the value of `n_init` explicitly to suppress the warning\n",
      "  warnings.warn(\n"
     ]
    },
    {
     "name": "stdout",
     "output_type": "stream",
     "text": [
      "For n_clusters = 59 The average silhouette_score is: 0.05018567097630263\n"
     ]
    },
    {
     "name": "stderr",
     "output_type": "stream",
     "text": [
      "/opt/anaconda3/envs/ta/lib/python3.10/site-packages/sklearn/cluster/_kmeans.py:870: FutureWarning: The default value of `n_init` will change from 10 to 'auto' in 1.4. Set the value of `n_init` explicitly to suppress the warning\n",
      "  warnings.warn(\n"
     ]
    },
    {
     "name": "stdout",
     "output_type": "stream",
     "text": [
      "For n_clusters = 60 The average silhouette_score is: 0.05232915067485869\n"
     ]
    },
    {
     "name": "stderr",
     "output_type": "stream",
     "text": [
      "/opt/anaconda3/envs/ta/lib/python3.10/site-packages/sklearn/cluster/_kmeans.py:870: FutureWarning: The default value of `n_init` will change from 10 to 'auto' in 1.4. Set the value of `n_init` explicitly to suppress the warning\n",
      "  warnings.warn(\n"
     ]
    },
    {
     "name": "stdout",
     "output_type": "stream",
     "text": [
      "For n_clusters = 61 The average silhouette_score is: 0.04226443633999422\n"
     ]
    },
    {
     "name": "stderr",
     "output_type": "stream",
     "text": [
      "/opt/anaconda3/envs/ta/lib/python3.10/site-packages/sklearn/cluster/_kmeans.py:870: FutureWarning: The default value of `n_init` will change from 10 to 'auto' in 1.4. Set the value of `n_init` explicitly to suppress the warning\n",
      "  warnings.warn(\n"
     ]
    },
    {
     "name": "stdout",
     "output_type": "stream",
     "text": [
      "For n_clusters = 62 The average silhouette_score is: 0.04582579224333099\n"
     ]
    },
    {
     "name": "stderr",
     "output_type": "stream",
     "text": [
      "/opt/anaconda3/envs/ta/lib/python3.10/site-packages/sklearn/cluster/_kmeans.py:870: FutureWarning: The default value of `n_init` will change from 10 to 'auto' in 1.4. Set the value of `n_init` explicitly to suppress the warning\n",
      "  warnings.warn(\n"
     ]
    },
    {
     "name": "stdout",
     "output_type": "stream",
     "text": [
      "For n_clusters = 63 The average silhouette_score is: 0.04612149368460038\n"
     ]
    },
    {
     "name": "stderr",
     "output_type": "stream",
     "text": [
      "/opt/anaconda3/envs/ta/lib/python3.10/site-packages/sklearn/cluster/_kmeans.py:870: FutureWarning: The default value of `n_init` will change from 10 to 'auto' in 1.4. Set the value of `n_init` explicitly to suppress the warning\n",
      "  warnings.warn(\n"
     ]
    },
    {
     "name": "stdout",
     "output_type": "stream",
     "text": [
      "For n_clusters = 64 The average silhouette_score is: 0.04399941683119451\n"
     ]
    },
    {
     "name": "stderr",
     "output_type": "stream",
     "text": [
      "/opt/anaconda3/envs/ta/lib/python3.10/site-packages/sklearn/cluster/_kmeans.py:870: FutureWarning: The default value of `n_init` will change from 10 to 'auto' in 1.4. Set the value of `n_init` explicitly to suppress the warning\n",
      "  warnings.warn(\n"
     ]
    },
    {
     "name": "stdout",
     "output_type": "stream",
     "text": [
      "For n_clusters = 65 The average silhouette_score is: 0.04780040824506803\n"
     ]
    },
    {
     "name": "stderr",
     "output_type": "stream",
     "text": [
      "/opt/anaconda3/envs/ta/lib/python3.10/site-packages/sklearn/cluster/_kmeans.py:870: FutureWarning: The default value of `n_init` will change from 10 to 'auto' in 1.4. Set the value of `n_init` explicitly to suppress the warning\n",
      "  warnings.warn(\n"
     ]
    },
    {
     "name": "stdout",
     "output_type": "stream",
     "text": [
      "For n_clusters = 66 The average silhouette_score is: 0.04193841563958646\n"
     ]
    },
    {
     "name": "stderr",
     "output_type": "stream",
     "text": [
      "/opt/anaconda3/envs/ta/lib/python3.10/site-packages/sklearn/cluster/_kmeans.py:870: FutureWarning: The default value of `n_init` will change from 10 to 'auto' in 1.4. Set the value of `n_init` explicitly to suppress the warning\n",
      "  warnings.warn(\n"
     ]
    },
    {
     "name": "stdout",
     "output_type": "stream",
     "text": [
      "For n_clusters = 67 The average silhouette_score is: 0.04078328875025903\n"
     ]
    },
    {
     "name": "stderr",
     "output_type": "stream",
     "text": [
      "/opt/anaconda3/envs/ta/lib/python3.10/site-packages/sklearn/cluster/_kmeans.py:870: FutureWarning: The default value of `n_init` will change from 10 to 'auto' in 1.4. Set the value of `n_init` explicitly to suppress the warning\n",
      "  warnings.warn(\n"
     ]
    },
    {
     "name": "stdout",
     "output_type": "stream",
     "text": [
      "For n_clusters = 68 The average silhouette_score is: 0.05247134609611144\n"
     ]
    },
    {
     "name": "stderr",
     "output_type": "stream",
     "text": [
      "/opt/anaconda3/envs/ta/lib/python3.10/site-packages/sklearn/cluster/_kmeans.py:870: FutureWarning: The default value of `n_init` will change from 10 to 'auto' in 1.4. Set the value of `n_init` explicitly to suppress the warning\n",
      "  warnings.warn(\n"
     ]
    },
    {
     "name": "stdout",
     "output_type": "stream",
     "text": [
      "For n_clusters = 69 The average silhouette_score is: 0.047745110353934826\n"
     ]
    },
    {
     "name": "stderr",
     "output_type": "stream",
     "text": [
      "/opt/anaconda3/envs/ta/lib/python3.10/site-packages/sklearn/cluster/_kmeans.py:870: FutureWarning: The default value of `n_init` will change from 10 to 'auto' in 1.4. Set the value of `n_init` explicitly to suppress the warning\n",
      "  warnings.warn(\n"
     ]
    },
    {
     "name": "stdout",
     "output_type": "stream",
     "text": [
      "For n_clusters = 70 The average silhouette_score is: 0.050270760529333235\n"
     ]
    },
    {
     "name": "stderr",
     "output_type": "stream",
     "text": [
      "/opt/anaconda3/envs/ta/lib/python3.10/site-packages/sklearn/cluster/_kmeans.py:870: FutureWarning: The default value of `n_init` will change from 10 to 'auto' in 1.4. Set the value of `n_init` explicitly to suppress the warning\n",
      "  warnings.warn(\n"
     ]
    },
    {
     "name": "stdout",
     "output_type": "stream",
     "text": [
      "For n_clusters = 71 The average silhouette_score is: 0.04935713158924079\n"
     ]
    },
    {
     "name": "stderr",
     "output_type": "stream",
     "text": [
      "/opt/anaconda3/envs/ta/lib/python3.10/site-packages/sklearn/cluster/_kmeans.py:870: FutureWarning: The default value of `n_init` will change from 10 to 'auto' in 1.4. Set the value of `n_init` explicitly to suppress the warning\n",
      "  warnings.warn(\n"
     ]
    },
    {
     "name": "stdout",
     "output_type": "stream",
     "text": [
      "For n_clusters = 72 The average silhouette_score is: 0.05043228910311568\n"
     ]
    },
    {
     "name": "stderr",
     "output_type": "stream",
     "text": [
      "/opt/anaconda3/envs/ta/lib/python3.10/site-packages/sklearn/cluster/_kmeans.py:870: FutureWarning: The default value of `n_init` will change from 10 to 'auto' in 1.4. Set the value of `n_init` explicitly to suppress the warning\n",
      "  warnings.warn(\n"
     ]
    },
    {
     "name": "stdout",
     "output_type": "stream",
     "text": [
      "For n_clusters = 73 The average silhouette_score is: 0.05329783929836241\n"
     ]
    },
    {
     "name": "stderr",
     "output_type": "stream",
     "text": [
      "/opt/anaconda3/envs/ta/lib/python3.10/site-packages/sklearn/cluster/_kmeans.py:870: FutureWarning: The default value of `n_init` will change from 10 to 'auto' in 1.4. Set the value of `n_init` explicitly to suppress the warning\n",
      "  warnings.warn(\n"
     ]
    },
    {
     "name": "stdout",
     "output_type": "stream",
     "text": [
      "For n_clusters = 74 The average silhouette_score is: 0.05219432784388683\n"
     ]
    },
    {
     "name": "stderr",
     "output_type": "stream",
     "text": [
      "/opt/anaconda3/envs/ta/lib/python3.10/site-packages/sklearn/cluster/_kmeans.py:870: FutureWarning: The default value of `n_init` will change from 10 to 'auto' in 1.4. Set the value of `n_init` explicitly to suppress the warning\n",
      "  warnings.warn(\n"
     ]
    },
    {
     "name": "stdout",
     "output_type": "stream",
     "text": [
      "For n_clusters = 75 The average silhouette_score is: 0.04760749108236937\n"
     ]
    },
    {
     "name": "stderr",
     "output_type": "stream",
     "text": [
      "/opt/anaconda3/envs/ta/lib/python3.10/site-packages/sklearn/cluster/_kmeans.py:870: FutureWarning: The default value of `n_init` will change from 10 to 'auto' in 1.4. Set the value of `n_init` explicitly to suppress the warning\n",
      "  warnings.warn(\n"
     ]
    },
    {
     "name": "stdout",
     "output_type": "stream",
     "text": [
      "For n_clusters = 76 The average silhouette_score is: 0.04600025099185477\n"
     ]
    },
    {
     "name": "stderr",
     "output_type": "stream",
     "text": [
      "/opt/anaconda3/envs/ta/lib/python3.10/site-packages/sklearn/cluster/_kmeans.py:870: FutureWarning: The default value of `n_init` will change from 10 to 'auto' in 1.4. Set the value of `n_init` explicitly to suppress the warning\n",
      "  warnings.warn(\n"
     ]
    },
    {
     "name": "stdout",
     "output_type": "stream",
     "text": [
      "For n_clusters = 77 The average silhouette_score is: 0.05180618052541165\n"
     ]
    },
    {
     "name": "stderr",
     "output_type": "stream",
     "text": [
      "/opt/anaconda3/envs/ta/lib/python3.10/site-packages/sklearn/cluster/_kmeans.py:870: FutureWarning: The default value of `n_init` will change from 10 to 'auto' in 1.4. Set the value of `n_init` explicitly to suppress the warning\n",
      "  warnings.warn(\n"
     ]
    },
    {
     "name": "stdout",
     "output_type": "stream",
     "text": [
      "For n_clusters = 78 The average silhouette_score is: 0.04946424857364988\n"
     ]
    },
    {
     "name": "stderr",
     "output_type": "stream",
     "text": [
      "/opt/anaconda3/envs/ta/lib/python3.10/site-packages/sklearn/cluster/_kmeans.py:870: FutureWarning: The default value of `n_init` will change from 10 to 'auto' in 1.4. Set the value of `n_init` explicitly to suppress the warning\n",
      "  warnings.warn(\n"
     ]
    },
    {
     "name": "stdout",
     "output_type": "stream",
     "text": [
      "For n_clusters = 79 The average silhouette_score is: 0.04543377055107129\n"
     ]
    },
    {
     "name": "stderr",
     "output_type": "stream",
     "text": [
      "/opt/anaconda3/envs/ta/lib/python3.10/site-packages/sklearn/cluster/_kmeans.py:870: FutureWarning: The default value of `n_init` will change from 10 to 'auto' in 1.4. Set the value of `n_init` explicitly to suppress the warning\n",
      "  warnings.warn(\n"
     ]
    },
    {
     "name": "stdout",
     "output_type": "stream",
     "text": [
      "For n_clusters = 80 The average silhouette_score is: 0.04998576883986205\n"
     ]
    },
    {
     "name": "stderr",
     "output_type": "stream",
     "text": [
      "/opt/anaconda3/envs/ta/lib/python3.10/site-packages/sklearn/cluster/_kmeans.py:870: FutureWarning: The default value of `n_init` will change from 10 to 'auto' in 1.4. Set the value of `n_init` explicitly to suppress the warning\n",
      "  warnings.warn(\n"
     ]
    },
    {
     "name": "stdout",
     "output_type": "stream",
     "text": [
      "For n_clusters = 81 The average silhouette_score is: 0.04519356272517003\n"
     ]
    },
    {
     "name": "stderr",
     "output_type": "stream",
     "text": [
      "/opt/anaconda3/envs/ta/lib/python3.10/site-packages/sklearn/cluster/_kmeans.py:870: FutureWarning: The default value of `n_init` will change from 10 to 'auto' in 1.4. Set the value of `n_init` explicitly to suppress the warning\n",
      "  warnings.warn(\n"
     ]
    },
    {
     "name": "stdout",
     "output_type": "stream",
     "text": [
      "For n_clusters = 82 The average silhouette_score is: 0.045335048588192185\n"
     ]
    },
    {
     "name": "stderr",
     "output_type": "stream",
     "text": [
      "/opt/anaconda3/envs/ta/lib/python3.10/site-packages/sklearn/cluster/_kmeans.py:870: FutureWarning: The default value of `n_init` will change from 10 to 'auto' in 1.4. Set the value of `n_init` explicitly to suppress the warning\n",
      "  warnings.warn(\n"
     ]
    },
    {
     "name": "stdout",
     "output_type": "stream",
     "text": [
      "For n_clusters = 83 The average silhouette_score is: 0.05179342361532286\n"
     ]
    },
    {
     "name": "stderr",
     "output_type": "stream",
     "text": [
      "/opt/anaconda3/envs/ta/lib/python3.10/site-packages/sklearn/cluster/_kmeans.py:870: FutureWarning: The default value of `n_init` will change from 10 to 'auto' in 1.4. Set the value of `n_init` explicitly to suppress the warning\n",
      "  warnings.warn(\n"
     ]
    },
    {
     "name": "stdout",
     "output_type": "stream",
     "text": [
      "For n_clusters = 84 The average silhouette_score is: 0.047779067403641934\n"
     ]
    },
    {
     "name": "stderr",
     "output_type": "stream",
     "text": [
      "/opt/anaconda3/envs/ta/lib/python3.10/site-packages/sklearn/cluster/_kmeans.py:870: FutureWarning: The default value of `n_init` will change from 10 to 'auto' in 1.4. Set the value of `n_init` explicitly to suppress the warning\n",
      "  warnings.warn(\n"
     ]
    },
    {
     "name": "stdout",
     "output_type": "stream",
     "text": [
      "For n_clusters = 85 The average silhouette_score is: 0.04580805210993132\n"
     ]
    },
    {
     "name": "stderr",
     "output_type": "stream",
     "text": [
      "/opt/anaconda3/envs/ta/lib/python3.10/site-packages/sklearn/cluster/_kmeans.py:870: FutureWarning: The default value of `n_init` will change from 10 to 'auto' in 1.4. Set the value of `n_init` explicitly to suppress the warning\n",
      "  warnings.warn(\n"
     ]
    },
    {
     "name": "stdout",
     "output_type": "stream",
     "text": [
      "For n_clusters = 86 The average silhouette_score is: 0.0537983044876321\n"
     ]
    },
    {
     "name": "stderr",
     "output_type": "stream",
     "text": [
      "/opt/anaconda3/envs/ta/lib/python3.10/site-packages/sklearn/cluster/_kmeans.py:870: FutureWarning: The default value of `n_init` will change from 10 to 'auto' in 1.4. Set the value of `n_init` explicitly to suppress the warning\n",
      "  warnings.warn(\n"
     ]
    },
    {
     "name": "stdout",
     "output_type": "stream",
     "text": [
      "For n_clusters = 87 The average silhouette_score is: 0.04742542444052643\n"
     ]
    },
    {
     "name": "stderr",
     "output_type": "stream",
     "text": [
      "/opt/anaconda3/envs/ta/lib/python3.10/site-packages/sklearn/cluster/_kmeans.py:870: FutureWarning: The default value of `n_init` will change from 10 to 'auto' in 1.4. Set the value of `n_init` explicitly to suppress the warning\n",
      "  warnings.warn(\n"
     ]
    },
    {
     "name": "stdout",
     "output_type": "stream",
     "text": [
      "For n_clusters = 88 The average silhouette_score is: 0.047446386912058186\n"
     ]
    },
    {
     "name": "stderr",
     "output_type": "stream",
     "text": [
      "/opt/anaconda3/envs/ta/lib/python3.10/site-packages/sklearn/cluster/_kmeans.py:870: FutureWarning: The default value of `n_init` will change from 10 to 'auto' in 1.4. Set the value of `n_init` explicitly to suppress the warning\n",
      "  warnings.warn(\n"
     ]
    },
    {
     "name": "stdout",
     "output_type": "stream",
     "text": [
      "For n_clusters = 89 The average silhouette_score is: 0.04753869202011246\n"
     ]
    },
    {
     "name": "stderr",
     "output_type": "stream",
     "text": [
      "/opt/anaconda3/envs/ta/lib/python3.10/site-packages/sklearn/cluster/_kmeans.py:870: FutureWarning: The default value of `n_init` will change from 10 to 'auto' in 1.4. Set the value of `n_init` explicitly to suppress the warning\n",
      "  warnings.warn(\n"
     ]
    },
    {
     "name": "stdout",
     "output_type": "stream",
     "text": [
      "For n_clusters = 90 The average silhouette_score is: 0.05427381670668407\n"
     ]
    },
    {
     "name": "stderr",
     "output_type": "stream",
     "text": [
      "/opt/anaconda3/envs/ta/lib/python3.10/site-packages/sklearn/cluster/_kmeans.py:870: FutureWarning: The default value of `n_init` will change from 10 to 'auto' in 1.4. Set the value of `n_init` explicitly to suppress the warning\n",
      "  warnings.warn(\n"
     ]
    },
    {
     "name": "stdout",
     "output_type": "stream",
     "text": [
      "For n_clusters = 91 The average silhouette_score is: 0.04785931213636034\n"
     ]
    },
    {
     "name": "stderr",
     "output_type": "stream",
     "text": [
      "/opt/anaconda3/envs/ta/lib/python3.10/site-packages/sklearn/cluster/_kmeans.py:870: FutureWarning: The default value of `n_init` will change from 10 to 'auto' in 1.4. Set the value of `n_init` explicitly to suppress the warning\n",
      "  warnings.warn(\n"
     ]
    },
    {
     "name": "stdout",
     "output_type": "stream",
     "text": [
      "For n_clusters = 92 The average silhouette_score is: 0.047832327029635135\n"
     ]
    },
    {
     "name": "stderr",
     "output_type": "stream",
     "text": [
      "/opt/anaconda3/envs/ta/lib/python3.10/site-packages/sklearn/cluster/_kmeans.py:870: FutureWarning: The default value of `n_init` will change from 10 to 'auto' in 1.4. Set the value of `n_init` explicitly to suppress the warning\n",
      "  warnings.warn(\n"
     ]
    },
    {
     "name": "stdout",
     "output_type": "stream",
     "text": [
      "For n_clusters = 93 The average silhouette_score is: 0.047876942945725774\n"
     ]
    },
    {
     "name": "stderr",
     "output_type": "stream",
     "text": [
      "/opt/anaconda3/envs/ta/lib/python3.10/site-packages/sklearn/cluster/_kmeans.py:870: FutureWarning: The default value of `n_init` will change from 10 to 'auto' in 1.4. Set the value of `n_init` explicitly to suppress the warning\n",
      "  warnings.warn(\n"
     ]
    },
    {
     "name": "stdout",
     "output_type": "stream",
     "text": [
      "For n_clusters = 94 The average silhouette_score is: 0.053750322453735004\n"
     ]
    },
    {
     "name": "stderr",
     "output_type": "stream",
     "text": [
      "/opt/anaconda3/envs/ta/lib/python3.10/site-packages/sklearn/cluster/_kmeans.py:870: FutureWarning: The default value of `n_init` will change from 10 to 'auto' in 1.4. Set the value of `n_init` explicitly to suppress the warning\n",
      "  warnings.warn(\n"
     ]
    },
    {
     "name": "stdout",
     "output_type": "stream",
     "text": [
      "For n_clusters = 95 The average silhouette_score is: 0.04898412732795954\n"
     ]
    },
    {
     "name": "stderr",
     "output_type": "stream",
     "text": [
      "/opt/anaconda3/envs/ta/lib/python3.10/site-packages/sklearn/cluster/_kmeans.py:870: FutureWarning: The default value of `n_init` will change from 10 to 'auto' in 1.4. Set the value of `n_init` explicitly to suppress the warning\n",
      "  warnings.warn(\n"
     ]
    },
    {
     "name": "stdout",
     "output_type": "stream",
     "text": [
      "For n_clusters = 96 The average silhouette_score is: 0.04908577429534724\n"
     ]
    },
    {
     "name": "stderr",
     "output_type": "stream",
     "text": [
      "/opt/anaconda3/envs/ta/lib/python3.10/site-packages/sklearn/cluster/_kmeans.py:870: FutureWarning: The default value of `n_init` will change from 10 to 'auto' in 1.4. Set the value of `n_init` explicitly to suppress the warning\n",
      "  warnings.warn(\n"
     ]
    },
    {
     "name": "stdout",
     "output_type": "stream",
     "text": [
      "For n_clusters = 97 The average silhouette_score is: 0.048758760889403334\n"
     ]
    },
    {
     "name": "stderr",
     "output_type": "stream",
     "text": [
      "/opt/anaconda3/envs/ta/lib/python3.10/site-packages/sklearn/cluster/_kmeans.py:870: FutureWarning: The default value of `n_init` will change from 10 to 'auto' in 1.4. Set the value of `n_init` explicitly to suppress the warning\n",
      "  warnings.warn(\n"
     ]
    },
    {
     "name": "stdout",
     "output_type": "stream",
     "text": [
      "For n_clusters = 98 The average silhouette_score is: 0.04995846224982725\n"
     ]
    },
    {
     "name": "stderr",
     "output_type": "stream",
     "text": [
      "/opt/anaconda3/envs/ta/lib/python3.10/site-packages/sklearn/cluster/_kmeans.py:870: FutureWarning: The default value of `n_init` will change from 10 to 'auto' in 1.4. Set the value of `n_init` explicitly to suppress the warning\n",
      "  warnings.warn(\n"
     ]
    },
    {
     "name": "stdout",
     "output_type": "stream",
     "text": [
      "For n_clusters = 99 The average silhouette_score is: 0.05147533911011686\n"
     ]
    }
   ],
   "source": [
    "def get_silhouette_score(X, k):\n",
    "    for n_clusters in range(2, k):\n",
    "        clusterer = KMeans(init=\"k-means++\", n_clusters=n_clusters, random_state=42)\n",
    "        y = clusterer.fit_predict(X)\n",
    "\n",
    "        message = \"For n_clusters = {} The average silhouette_score is: {}\"\n",
    "        print(message.format(n_clusters, silhouette_score(X, y)))\n",
    "\n",
    "get_silhouette_score(reviews_vect, k)"
   ]
  },
  {
   "cell_type": "code",
   "execution_count": 51,
   "id": "5669b48c",
   "metadata": {},
   "outputs": [],
   "source": [
    "k = 54"
   ]
  },
  {
   "cell_type": "code",
   "execution_count": 52,
   "id": "ab623526",
   "metadata": {},
   "outputs": [
    {
     "data": {
      "text/html": [
       "<style>#sk-container-id-2 {color: black;background-color: white;}#sk-container-id-2 pre{padding: 0;}#sk-container-id-2 div.sk-toggleable {background-color: white;}#sk-container-id-2 label.sk-toggleable__label {cursor: pointer;display: block;width: 100%;margin-bottom: 0;padding: 0.3em;box-sizing: border-box;text-align: center;}#sk-container-id-2 label.sk-toggleable__label-arrow:before {content: \"▸\";float: left;margin-right: 0.25em;color: #696969;}#sk-container-id-2 label.sk-toggleable__label-arrow:hover:before {color: black;}#sk-container-id-2 div.sk-estimator:hover label.sk-toggleable__label-arrow:before {color: black;}#sk-container-id-2 div.sk-toggleable__content {max-height: 0;max-width: 0;overflow: hidden;text-align: left;background-color: #f0f8ff;}#sk-container-id-2 div.sk-toggleable__content pre {margin: 0.2em;color: black;border-radius: 0.25em;background-color: #f0f8ff;}#sk-container-id-2 input.sk-toggleable__control:checked~div.sk-toggleable__content {max-height: 200px;max-width: 100%;overflow: auto;}#sk-container-id-2 input.sk-toggleable__control:checked~label.sk-toggleable__label-arrow:before {content: \"▾\";}#sk-container-id-2 div.sk-estimator input.sk-toggleable__control:checked~label.sk-toggleable__label {background-color: #d4ebff;}#sk-container-id-2 div.sk-label input.sk-toggleable__control:checked~label.sk-toggleable__label {background-color: #d4ebff;}#sk-container-id-2 input.sk-hidden--visually {border: 0;clip: rect(1px 1px 1px 1px);clip: rect(1px, 1px, 1px, 1px);height: 1px;margin: -1px;overflow: hidden;padding: 0;position: absolute;width: 1px;}#sk-container-id-2 div.sk-estimator {font-family: monospace;background-color: #f0f8ff;border: 1px dotted black;border-radius: 0.25em;box-sizing: border-box;margin-bottom: 0.5em;}#sk-container-id-2 div.sk-estimator:hover {background-color: #d4ebff;}#sk-container-id-2 div.sk-parallel-item::after {content: \"\";width: 100%;border-bottom: 1px solid gray;flex-grow: 1;}#sk-container-id-2 div.sk-label:hover label.sk-toggleable__label {background-color: #d4ebff;}#sk-container-id-2 div.sk-serial::before {content: \"\";position: absolute;border-left: 1px solid gray;box-sizing: border-box;top: 0;bottom: 0;left: 50%;z-index: 0;}#sk-container-id-2 div.sk-serial {display: flex;flex-direction: column;align-items: center;background-color: white;padding-right: 0.2em;padding-left: 0.2em;position: relative;}#sk-container-id-2 div.sk-item {position: relative;z-index: 1;}#sk-container-id-2 div.sk-parallel {display: flex;align-items: stretch;justify-content: center;background-color: white;position: relative;}#sk-container-id-2 div.sk-item::before, #sk-container-id-2 div.sk-parallel-item::before {content: \"\";position: absolute;border-left: 1px solid gray;box-sizing: border-box;top: 0;bottom: 0;left: 50%;z-index: -1;}#sk-container-id-2 div.sk-parallel-item {display: flex;flex-direction: column;z-index: 1;position: relative;background-color: white;}#sk-container-id-2 div.sk-parallel-item:first-child::after {align-self: flex-end;width: 50%;}#sk-container-id-2 div.sk-parallel-item:last-child::after {align-self: flex-start;width: 50%;}#sk-container-id-2 div.sk-parallel-item:only-child::after {width: 0;}#sk-container-id-2 div.sk-dashed-wrapped {border: 1px dashed gray;margin: 0 0.4em 0.5em 0.4em;box-sizing: border-box;padding-bottom: 0.4em;background-color: white;}#sk-container-id-2 div.sk-label label {font-family: monospace;font-weight: bold;display: inline-block;line-height: 1.2em;}#sk-container-id-2 div.sk-label-container {text-align: center;}#sk-container-id-2 div.sk-container {/* jupyter's `normalize.less` sets `[hidden] { display: none; }` but bootstrap.min.css set `[hidden] { display: none !important; }` so we also need the `!important` here to be able to override the default hidden behavior on the sphinx rendered scikit-learn.org. See: https://github.com/scikit-learn/scikit-learn/issues/21755 */display: inline-block !important;position: relative;}#sk-container-id-2 div.sk-text-repr-fallback {display: none;}</style><div id=\"sk-container-id-2\" class=\"sk-top-container\"><div class=\"sk-text-repr-fallback\"><pre>KMeans(max_iter=25, n_clusters=54, n_init=1)</pre><b>In a Jupyter environment, please rerun this cell to show the HTML representation or trust the notebook. <br />On GitHub, the HTML representation is unable to render, please try loading this page with nbviewer.org.</b></div><div class=\"sk-container\" hidden><div class=\"sk-item\"><div class=\"sk-estimator sk-toggleable\"><input class=\"sk-toggleable__control sk-hidden--visually\" id=\"sk-estimator-id-2\" type=\"checkbox\" checked><label for=\"sk-estimator-id-2\" class=\"sk-toggleable__label sk-toggleable__label-arrow\">KMeans</label><div class=\"sk-toggleable__content\"><pre>KMeans(max_iter=25, n_clusters=54, n_init=1)</pre></div></div></div></div></div>"
      ],
      "text/plain": [
       "KMeans(max_iter=25, n_clusters=54, n_init=1)"
      ]
     },
     "execution_count": 52,
     "metadata": {},
     "output_type": "execute_result"
    }
   ],
   "source": [
    "model = KMeans(init=\"k-means++\", n_clusters=k, max_iter=25, n_init=1)\n",
    "model.fit(reviews_vect)"
   ]
  },
  {
   "cell_type": "code",
   "execution_count": 54,
   "id": "da40be27",
   "metadata": {},
   "outputs": [
    {
     "data": {
      "text/html": [
       "<div>\n",
       "<style scoped>\n",
       "    .dataframe tbody tr th:only-of-type {\n",
       "        vertical-align: middle;\n",
       "    }\n",
       "\n",
       "    .dataframe tbody tr th {\n",
       "        vertical-align: top;\n",
       "    }\n",
       "\n",
       "    .dataframe thead th {\n",
       "        text-align: right;\n",
       "    }\n",
       "</style>\n",
       "<table border=\"1\" class=\"dataframe\">\n",
       "  <thead>\n",
       "    <tr style=\"text-align: right;\">\n",
       "      <th></th>\n",
       "      <th>Cluster 0</th>\n",
       "      <th>Cluster 1</th>\n",
       "      <th>Cluster 2</th>\n",
       "      <th>Cluster 3</th>\n",
       "      <th>Cluster 4</th>\n",
       "      <th>Cluster 5</th>\n",
       "      <th>Cluster 6</th>\n",
       "      <th>Cluster 7</th>\n",
       "      <th>Cluster 8</th>\n",
       "      <th>Cluster 9</th>\n",
       "      <th>...</th>\n",
       "      <th>Cluster 44</th>\n",
       "      <th>Cluster 45</th>\n",
       "      <th>Cluster 46</th>\n",
       "      <th>Cluster 47</th>\n",
       "      <th>Cluster 48</th>\n",
       "      <th>Cluster 49</th>\n",
       "      <th>Cluster 50</th>\n",
       "      <th>Cluster 51</th>\n",
       "      <th>Cluster 52</th>\n",
       "      <th>Cluster 53</th>\n",
       "    </tr>\n",
       "  </thead>\n",
       "  <tbody>\n",
       "    <tr>\n",
       "      <th>0</th>\n",
       "      <td>omg</td>\n",
       "      <td>nice</td>\n",
       "      <td>option</td>\n",
       "      <td>thing</td>\n",
       "      <td>face</td>\n",
       "      <td>brand</td>\n",
       "      <td>yes</td>\n",
       "      <td>helpful</td>\n",
       "      <td>know</td>\n",
       "      <td>article</td>\n",
       "      <td>...</td>\n",
       "      <td>good</td>\n",
       "      <td>use</td>\n",
       "      <td>book</td>\n",
       "      <td>love</td>\n",
       "      <td>yeah</td>\n",
       "      <td>omg</td>\n",
       "      <td>http</td>\n",
       "      <td>name</td>\n",
       "      <td>right</td>\n",
       "      <td>cancer</td>\n",
       "    </tr>\n",
       "    <tr>\n",
       "      <th>1</th>\n",
       "      <td>soon</td>\n",
       "      <td>care</td>\n",
       "      <td>others</td>\n",
       "      <td>turn</td>\n",
       "      <td>smiley</td>\n",
       "      <td>know</td>\n",
       "      <td>oh</td>\n",
       "      <td>thank</td>\n",
       "      <td>happening</td>\n",
       "      <td>menopause</td>\n",
       "      <td>...</td>\n",
       "      <td>luck</td>\n",
       "      <td>cream</td>\n",
       "      <td>menopause</td>\n",
       "      <td>shoe</td>\n",
       "      <td>oh</td>\n",
       "      <td>laugh</td>\n",
       "      <td>com</td>\n",
       "      <td>karen</td>\n",
       "      <td>got</td>\n",
       "      <td>breast</td>\n",
       "    </tr>\n",
       "    <tr>\n",
       "      <th>2</th>\n",
       "      <td>place</td>\n",
       "      <td>old</td>\n",
       "      <td>menopause</td>\n",
       "      <td>fun</td>\n",
       "      <td>happy</td>\n",
       "      <td>like</td>\n",
       "      <td>one</td>\n",
       "      <td>thanks</td>\n",
       "      <td>looking</td>\n",
       "      <td>http</td>\n",
       "      <td>...</td>\n",
       "      <td>one</td>\n",
       "      <td>work</td>\n",
       "      <td>dr</td>\n",
       "      <td>idea</td>\n",
       "      <td>like</td>\n",
       "      <td>love</td>\n",
       "      <td>www</td>\n",
       "      <td>lol</td>\n",
       "      <td>year</td>\n",
       "      <td>hrt</td>\n",
       "    </tr>\n",
       "    <tr>\n",
       "      <th>3</th>\n",
       "      <td>big</td>\n",
       "      <td>every</td>\n",
       "      <td>bad</td>\n",
       "      <td>might</td>\n",
       "      <td>thank</td>\n",
       "      <td>use</td>\n",
       "      <td>get</td>\n",
       "      <td>much</td>\n",
       "      <td>young</td>\n",
       "      <td>woman</td>\n",
       "      <td>...</td>\n",
       "      <td>know</td>\n",
       "      <td>get</td>\n",
       "      <td>read</td>\n",
       "      <td>much</td>\n",
       "      <td>get</td>\n",
       "      <td>thanks</td>\n",
       "      <td>reddit</td>\n",
       "      <td>someone</td>\n",
       "      <td>know</td>\n",
       "      <td>risk</td>\n",
       "    </tr>\n",
       "    <tr>\n",
       "      <th>4</th>\n",
       "      <td>mine</td>\n",
       "      <td>right</td>\n",
       "      <td>even</td>\n",
       "      <td>could</td>\n",
       "      <td>eye</td>\n",
       "      <td>buy</td>\n",
       "      <td>make</td>\n",
       "      <td>really</td>\n",
       "      <td>everyone</td>\n",
       "      <td>read</td>\n",
       "      <td>...</td>\n",
       "      <td>thank</td>\n",
       "      <td>also</td>\n",
       "      <td>check</td>\n",
       "      <td>would</td>\n",
       "      <td>doctor</td>\n",
       "      <td>hard</td>\n",
       "      <td>menopause</td>\n",
       "      <td>actually</td>\n",
       "      <td>day</td>\n",
       "      <td>menopause</td>\n",
       "    </tr>\n",
       "    <tr>\n",
       "      <th>...</th>\n",
       "      <td>...</td>\n",
       "      <td>...</td>\n",
       "      <td>...</td>\n",
       "      <td>...</td>\n",
       "      <td>...</td>\n",
       "      <td>...</td>\n",
       "      <td>...</td>\n",
       "      <td>...</td>\n",
       "      <td>...</td>\n",
       "      <td>...</td>\n",
       "      <td>...</td>\n",
       "      <td>...</td>\n",
       "      <td>...</td>\n",
       "      <td>...</td>\n",
       "      <td>...</td>\n",
       "      <td>...</td>\n",
       "      <td>...</td>\n",
       "      <td>...</td>\n",
       "      <td>...</td>\n",
       "      <td>...</td>\n",
       "      <td>...</td>\n",
       "    </tr>\n",
       "    <tr>\n",
       "      <th>495</th>\n",
       "      <td>put</td>\n",
       "      <td>product</td>\n",
       "      <td>problem</td>\n",
       "      <td>point</td>\n",
       "      <td>helpful</td>\n",
       "      <td>perimenopause</td>\n",
       "      <td>bad</td>\n",
       "      <td>never</td>\n",
       "      <td>product</td>\n",
       "      <td>men</td>\n",
       "      <td>...</td>\n",
       "      <td>super</td>\n",
       "      <td>talk</td>\n",
       "      <td>thought</td>\n",
       "      <td>tried</td>\n",
       "      <td>without</td>\n",
       "      <td>least</td>\n",
       "      <td>though</td>\n",
       "      <td>pretty</td>\n",
       "      <td>smell</td>\n",
       "      <td>hour</td>\n",
       "    </tr>\n",
       "    <tr>\n",
       "      <th>496</th>\n",
       "      <td>question</td>\n",
       "      <td>progesterone</td>\n",
       "      <td>product</td>\n",
       "      <td>possible</td>\n",
       "      <td>sex</td>\n",
       "      <td>something</td>\n",
       "      <td>please</td>\n",
       "      <td>week</td>\n",
       "      <td>progesterone</td>\n",
       "      <td>luck</td>\n",
       "      <td>...</td>\n",
       "      <td>pill</td>\n",
       "      <td>guess</td>\n",
       "      <td>symptom</td>\n",
       "      <td>need</td>\n",
       "      <td>hope</td>\n",
       "      <td>put</td>\n",
       "      <td>mine</td>\n",
       "      <td>menopause</td>\n",
       "      <td>doc</td>\n",
       "      <td>thanks</td>\n",
       "    </tr>\n",
       "    <tr>\n",
       "      <th>497</th>\n",
       "      <td>quite</td>\n",
       "      <td>put</td>\n",
       "      <td>progesterone</td>\n",
       "      <td>post</td>\n",
       "      <td>night</td>\n",
       "      <td>every</td>\n",
       "      <td>point</td>\n",
       "      <td>used</td>\n",
       "      <td>put</td>\n",
       "      <td>mine</td>\n",
       "      <td>...</td>\n",
       "      <td>smell</td>\n",
       "      <td>bed</td>\n",
       "      <td>hormone</td>\n",
       "      <td>every</td>\n",
       "      <td>hot</td>\n",
       "      <td>estrogen</td>\n",
       "      <td>omg</td>\n",
       "      <td>hrt</td>\n",
       "      <td>find</td>\n",
       "      <td>world</td>\n",
       "    </tr>\n",
       "    <tr>\n",
       "      <th>498</th>\n",
       "      <td>read</td>\n",
       "      <td>question</td>\n",
       "      <td>put</td>\n",
       "      <td>prescribed</td>\n",
       "      <td>mine</td>\n",
       "      <td>want</td>\n",
       "      <td>second</td>\n",
       "      <td>put</td>\n",
       "      <td>question</td>\n",
       "      <td>going</td>\n",
       "      <td>...</td>\n",
       "      <td>doc</td>\n",
       "      <td>point</td>\n",
       "      <td>went</td>\n",
       "      <td>thing</td>\n",
       "      <td>week</td>\n",
       "      <td>progesterone</td>\n",
       "      <td>idea</td>\n",
       "      <td>happy</td>\n",
       "      <td>without</td>\n",
       "      <td>hear</td>\n",
       "    </tr>\n",
       "    <tr>\n",
       "      <th>499</th>\n",
       "      <td>able</td>\n",
       "      <td>able</td>\n",
       "      <td>able</td>\n",
       "      <td>able</td>\n",
       "      <td>doctor</td>\n",
       "      <td>thank</td>\n",
       "      <td>sure</td>\n",
       "      <td>back</td>\n",
       "      <td>able</td>\n",
       "      <td>lot</td>\n",
       "      <td>...</td>\n",
       "      <td>sure</td>\n",
       "      <td>hate</td>\n",
       "      <td>hot</td>\n",
       "      <td>going</td>\n",
       "      <td>menopause</td>\n",
       "      <td>way</td>\n",
       "      <td>smell</td>\n",
       "      <td>thank</td>\n",
       "      <td>lot</td>\n",
       "      <td>lol</td>\n",
       "    </tr>\n",
       "  </tbody>\n",
       "</table>\n",
       "<p>500 rows × 54 columns</p>\n",
       "</div>"
      ],
      "text/plain": [
       "    Cluster 0     Cluster 1     Cluster 2   Cluster 3 Cluster 4  \\\n",
       "0         omg          nice        option       thing      face   \n",
       "1        soon          care        others        turn    smiley   \n",
       "2       place           old     menopause         fun     happy   \n",
       "3         big         every           bad       might     thank   \n",
       "4        mine         right          even       could       eye   \n",
       "..        ...           ...           ...         ...       ...   \n",
       "495       put       product       problem       point   helpful   \n",
       "496  question  progesterone       product    possible       sex   \n",
       "497     quite           put  progesterone        post     night   \n",
       "498      read      question           put  prescribed      mine   \n",
       "499      able          able          able        able    doctor   \n",
       "\n",
       "         Cluster 5 Cluster 6 Cluster 7     Cluster 8  Cluster 9  ...  \\\n",
       "0            brand       yes   helpful          know    article  ...   \n",
       "1             know        oh     thank     happening  menopause  ...   \n",
       "2             like       one    thanks       looking       http  ...   \n",
       "3              use       get      much         young      woman  ...   \n",
       "4              buy      make    really      everyone       read  ...   \n",
       "..             ...       ...       ...           ...        ...  ...   \n",
       "495  perimenopause       bad     never       product        men  ...   \n",
       "496      something    please      week  progesterone       luck  ...   \n",
       "497          every     point      used           put       mine  ...   \n",
       "498           want    second       put      question      going  ...   \n",
       "499          thank      sure      back          able        lot  ...   \n",
       "\n",
       "    Cluster 44 Cluster 45 Cluster 46 Cluster 47 Cluster 48    Cluster 49  \\\n",
       "0         good        use       book       love       yeah           omg   \n",
       "1         luck      cream  menopause       shoe         oh         laugh   \n",
       "2          one       work         dr       idea       like          love   \n",
       "3         know        get       read       much        get        thanks   \n",
       "4        thank       also      check      would     doctor          hard   \n",
       "..         ...        ...        ...        ...        ...           ...   \n",
       "495      super       talk    thought      tried    without         least   \n",
       "496       pill      guess    symptom       need       hope           put   \n",
       "497      smell        bed    hormone      every        hot      estrogen   \n",
       "498        doc      point       went      thing       week  progesterone   \n",
       "499       sure       hate        hot      going  menopause           way   \n",
       "\n",
       "    Cluster 50 Cluster 51 Cluster 52 Cluster 53  \n",
       "0         http       name      right     cancer  \n",
       "1          com      karen        got     breast  \n",
       "2          www        lol       year        hrt  \n",
       "3       reddit    someone       know       risk  \n",
       "4    menopause   actually        day  menopause  \n",
       "..         ...        ...        ...        ...  \n",
       "495     though     pretty      smell       hour  \n",
       "496       mine  menopause        doc     thanks  \n",
       "497        omg        hrt       find      world  \n",
       "498       idea      happy    without       hear  \n",
       "499      smell      thank        lot        lol  \n",
       "\n",
       "[500 rows x 54 columns]"
      ]
     },
     "execution_count": 54,
     "metadata": {},
     "output_type": "execute_result"
    }
   ],
   "source": [
    "order_centroids = model.cluster_centers_.argsort()[:, ::-1]\n",
    "terms = tfidfvectorizer.get_feature_names_out()\n",
    "\n",
    "results_dict = {}\n",
    "\n",
    "for i in range(k):\n",
    "    terms_list = []\n",
    "\n",
    "    for ind in order_centroids[i, :]:  \n",
    "        terms_list.append(terms[ind])\n",
    "\n",
    "    results_dict[f'Cluster {i}'] = terms_list\n",
    "\n",
    "df_clusters = pd.DataFrame.from_dict(results_dict)\n",
    "df_clusters"
   ]
  },
  {
   "cell_type": "code",
   "execution_count": null,
   "id": "07930a93",
   "metadata": {},
   "outputs": [],
   "source": []
  },
  {
   "cell_type": "code",
   "execution_count": null,
   "id": "1d44aaff",
   "metadata": {},
   "outputs": [],
   "source": []
  }
 ],
 "metadata": {
  "kernelspec": {
   "display_name": "Python 3 (ipykernel)",
   "language": "python",
   "name": "python3"
  },
  "language_info": {
   "codemirror_mode": {
    "name": "ipython",
    "version": 3
   },
   "file_extension": ".py",
   "mimetype": "text/x-python",
   "name": "python",
   "nbconvert_exporter": "python",
   "pygments_lexer": "ipython3",
   "version": "3.10.9"
  }
 },
 "nbformat": 4,
 "nbformat_minor": 5
}
